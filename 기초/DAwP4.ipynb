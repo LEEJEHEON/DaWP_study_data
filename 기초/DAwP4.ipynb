{
 "cells": [
  {
   "cell_type": "markdown",
   "metadata": {},
   "source": [
    "# DAwP 4"
   ]
  },
  {
   "cell_type": "markdown",
   "metadata": {},
   "source": [
    "## Q1"
   ]
  },
  {
   "cell_type": "markdown",
   "metadata": {},
   "source": [
    "Fibonacci Number는 다음과 같이 정의된다. <br>\n",
    "  F1 = 1, F2 = 1, Fn= Fn-1 +Fn-2<br>\n",
    "  1, 1, 2, 3, 5, 8, … <br>\n",
    " 입력 받은 양의 정수 n에 대하여 피보나치 수열을 출력하는 함수를 작성하시오. \n"
   ]
  },
  {
   "cell_type": "code",
   "execution_count": 14,
   "metadata": {},
   "outputs": [
    {
     "name": "stdin",
     "output_type": "stream",
     "text": [
      " 8\n"
     ]
    },
    {
     "name": "stdout",
     "output_type": "stream",
     "text": [
      "0 1 1 2 3 5 8 13 "
     ]
    }
   ],
   "source": [
    "def fibonacci(n):\n",
    "    if n == 0 : return 0\n",
    "    if n == 1 : return 1\n",
    "    return fibonacci(n-2) + fibonacci(n-1)\n",
    "\n",
    "a = input()\n",
    "for b in range(0,int(a)):\n",
    "    print(fibonacci(b),end=\" \")"
   ]
  },
  {
   "cell_type": "markdown",
   "metadata": {},
   "source": [
    "## Q2"
   ]
  },
  {
   "cell_type": "markdown",
   "metadata": {},
   "source": [
    "ExamsQuiz.txt 파일에는 학생들의 sid, final_exam, quiz_avg, homework_avg가 공백으로 분리되어 들어있다. <br>\n",
    " 이 함수를 읽어서, 동일한 내용(sid, final_exam, quiz_avg, homework_avg)에 점수 합계가 포함된 파일 ExamQuiz_r.txt를생성하시오.\n"
   ]
  },
  {
   "cell_type": "code",
   "execution_count": 14,
   "metadata": {},
   "outputs": [],
   "source": [
    "f1 = open(\"C:/Users/dlwpg/oneDrive/바탕 화면/스터디/ExamsQuiz.txt\",'r')\n",
    "lines = f1.readlines()\n",
    "f2 = open(\"C:/Users/dlwpg/oneDrive/바탕 화면/스터디/ExamsQuiz.txt\",'w')\n",
    "for a in range(0,len(lines)):\n",
    "    value=list(lines[a].split())\n",
    "    num = float(value[1])+float(value[2])+float(value[3])\n",
    "    value.append(str(num))\n",
    "    for b in range(0,len(value)):\n",
    "        f2.write(str(value[b]))\n",
    "        f2.write(\" \")\n",
    "    f2.write(\"\\n\")\n",
    "f1.close()\n",
    "f2.close()\n"
   ]
  },
  {
   "cell_type": "markdown",
   "metadata": {},
   "source": [
    "## Q3"
   ]
  },
  {
   "cell_type": "markdown",
   "metadata": {},
   "source": [
    "10~n까지 각 숫자 분해하여 곱하기의 전체 합 구하는 함수를 작성하시오.<br><br>\n",
    "\n",
    "n = 15일 때, <br>\n",
    "10 = 1 * 0 = 0<br>11 = 1 * 1 = 1<br>12 = 1 * 2 = 2<br>13 = 1 * 3 = 3<br>14 = 1 * 4 = 4<br>15 = 1 * 5 = 5<br>\n",
    "그러므로, 이 경우의 답은 0+1+2+3+4+5 = 15 를 return 해야 한다.\n"
   ]
  },
  {
   "cell_type": "code",
   "execution_count": 20,
   "metadata": {},
   "outputs": [
    {
     "name": "stdin",
     "output_type": "stream",
     "text": [
      " 15\n"
     ]
    },
    {
     "name": "stdout",
     "output_type": "stream",
     "text": [
      "15\n"
     ]
    }
   ],
   "source": [
    "value= int(input())\n",
    "def num(a):\n",
    "    c= 0  ## 합계\n",
    "    for b in range(10,a+1):\n",
    "        ch = list(','.join(str(b)).split(','))\n",
    "        value = int(ch[0]) * int(ch[1])\n",
    "        c += value\n",
    "    return print(c)\n",
    "\n",
    "num(value)"
   ]
  },
  {
   "cell_type": "markdown",
   "metadata": {},
   "source": [
    "## Q4"
   ]
  },
  {
   "cell_type": "markdown",
   "metadata": {},
   "source": [
    "(Google 입사 문제)<br>1부터 입력으로 받는 N까지 8이라는 숫자가 총 몇 번 나오는지를 반환하는 함수를 작성하시오.<br>\n",
    "8이 포함되어 있는 숫자의 개수를 카운팅 하는 것이 아니라 8이라는 숫자를 모두 카운팅 해야 한다.<br>(※ 예를들어 8808은 3, 8888은 4로 카운팅 해야 함)\n"
   ]
  },
  {
   "cell_type": "code",
   "execution_count": 41,
   "metadata": {},
   "outputs": [
    {
     "name": "stdin",
     "output_type": "stream",
     "text": [
      " 8888\n"
     ]
    },
    {
     "name": "stdout",
     "output_type": "stream",
     "text": [
      "3556\n"
     ]
    }
   ],
   "source": [
    "def num(a):\n",
    "    count = 0 \n",
    "    for b in range(1,a+1):\n",
    "        if b < 10 :\n",
    "            if b == 8:\n",
    "                count +=1\n",
    "        else :\n",
    "            c= list(','.join(str(b)).split(','))\n",
    "            for d in range(0,len(c)):\n",
    "                if c[d]=='8':\n",
    "                    count +=1\n",
    "    return count\n",
    "\n",
    "N = int(input())\n",
    "print(num(N))\n",
    "\n"
   ]
  },
  {
   "cell_type": "markdown",
   "metadata": {},
   "source": [
    "## Q5"
   ]
  },
  {
   "cell_type": "markdown",
   "metadata": {},
   "source": [
    "길이가 3 이상인 1차원의 점들이 리스트로 주어졌을 때, 그 중 가장 거리가 짧은 것의 쌍을 출력하는 함수를 작성하시오. (단 점들의 배열은 모두 정렬되어있다고 가정한다.) <br>\n",
    "예를 들어 <br>\n",
    "S = [1, 3, 4, 8, 13, 17, 20] 이 주어졌다면, 결과값은 (3, 4)가 될 것이다. <br>\n",
    "S = [1,2,3,5,6,10]이 주어졌다면, 결과값은 (2,3) 과 (5,6)이 될 것이다.\n"
   ]
  },
  {
   "cell_type": "code",
   "execution_count": 17,
   "metadata": {},
   "outputs": [
    {
     "name": "stdout",
     "output_type": "stream",
     "text": [
      "[[3, 4]]\n",
      "[[1, 2], [2, 3], [5, 6]]\n"
     ]
    }
   ],
   "source": [
    "s1 = [1,3,4,8,13,17,20]\n",
    "s2 = [1,2,3,5,6,10]\n",
    "\n",
    "\n",
    "def num(v):\n",
    "    c=v[1]-v[0]  # 초기값 \n",
    "    d =[] \n",
    "    for a in range(1,len(v)):\n",
    "        b= v[a]-v[a-1]\n",
    "        if c > b :\n",
    "            d= [] #그전 값 초기화\n",
    "            d.append([v[a-1],v[a]])\n",
    "            c= b\n",
    "        elif c == b : # 중복된 값\n",
    "            d.append([v[a-1],v[a]])\n",
    "    return d\n",
    "print (num(s1))\n",
    "print (num(s2))"
   ]
  },
  {
   "cell_type": "code",
   "execution_count": null,
   "metadata": {},
   "outputs": [],
   "source": []
  }
 ],
 "metadata": {
  "kernelspec": {
   "display_name": "Python 3",
   "language": "python",
   "name": "python3"
  },
  "language_info": {
   "codemirror_mode": {
    "name": "ipython",
    "version": 3
   },
   "file_extension": ".py",
   "mimetype": "text/x-python",
   "name": "python",
   "nbconvert_exporter": "python",
   "pygments_lexer": "ipython3",
   "version": "3.6.9"
  }
 },
 "nbformat": 4,
 "nbformat_minor": 4
}
