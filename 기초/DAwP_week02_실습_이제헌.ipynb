{
 "cells": [
  {
   "cell_type": "markdown",
   "metadata": {},
   "source": [
    "## Q1"
   ]
  },
  {
   "cell_type": "markdown",
   "metadata": {},
   "source": [
    "변수 a와 b가 각각 다음과 같이 선언되어 있을 때 변수 summation, multiply, divide, remainder, power를 다음의 값을 가지도록 만들어 보세요.\n",
    "\n",
    "summation은 a와 b의 합 <br>\n",
    "multiply는 a와 b의 곱 <br>\n",
    "divide는 a를 b로 나눈 값 <br>\n",
    "remainder는 a를 b로 나눈 나머지<br>\n",
    "power는 a의 b승<br>\n",
    "\n",
    "print(\"summation은 {}입니다.\".format(summation))<br>\n",
    "print(\"multiply는 {}입니다.\".format(multiply))<br>\n",
    "print(\"divide는 {}입니다.\".format(divide))<br>\n",
    "print(\"remainder는 {}입니다.\".format(remainder))<br>\n",
    "print(\"power는 {}입니다.\".format(power))\n"
   ]
  },
  {
   "cell_type": "code",
   "execution_count": 6,
   "metadata": {},
   "outputs": [],
   "source": [
    "a=4 \n",
    "b=2\n",
    "summation=a+b\n",
    "multiply=a*b\n",
    "divide=a/b\n",
    "remainder=a%b\n",
    "power=a**b"
   ]
  },
  {
   "cell_type": "code",
   "execution_count": 7,
   "metadata": {},
   "outputs": [
    {
     "name": "stdout",
     "output_type": "stream",
     "text": [
      "summation은 6입니다.\n",
      "multiply는 8입니다.\n",
      "divide는 2.0입니다.\n",
      "remainder는 0입니다.\n",
      "power는 16입니다.\n"
     ]
    }
   ],
   "source": [
    "print(\"summation은 {}입니다.\".format(summation))\n",
    "print(\"multiply는 {}입니다.\".format(multiply))\n",
    "print(\"divide는 {}입니다.\".format(divide))\n",
    "print(\"remainder는 {}입니다.\".format(remainder))\n",
    "print(\"power는 {}입니다.\".format(power))\n"
   ]
  },
  {
   "cell_type": "markdown",
   "metadata": {},
   "source": [
    "## Q2"
   ]
  },
  {
   "cell_type": "markdown",
   "metadata": {},
   "source": [
    "시험 점수의 평균 점수를 구해 보자"
   ]
  },
  {
   "cell_type": "markdown",
   "metadata": {},
   "source": [
    "| 과목 | 점수|\n",
    "|---|---|\n",
    "|국어|80|\n",
    "|영어|75|\n",
    "|수학|55|\n",
    "|과학|82|"
   ]
  },
  {
   "cell_type": "code",
   "execution_count": 9,
   "metadata": {},
   "outputs": [],
   "source": [
    "A=80\n",
    "B=75\n",
    "C=55\n",
    "D=82"
   ]
  },
  {
   "cell_type": "code",
   "execution_count": 10,
   "metadata": {},
   "outputs": [
    {
     "data": {
      "text/plain": [
       "73.0"
      ]
     },
     "execution_count": 10,
     "metadata": {},
     "output_type": "execute_result"
    }
   ],
   "source": [
    "ave=(80+75+55+82)/4\n",
    "ave"
   ]
  },
  {
   "cell_type": "markdown",
   "metadata": {},
   "source": [
    "## Q3"
   ]
  },
  {
   "cell_type": "markdown",
   "metadata": {},
   "source": [
    "철수의 주민등록번호는 881120-1068234이다. 홍길동 씨의 주민등록번호를 연월일(YYYY-MM-DD) 부분과 성별을 설명하는 뒷자리 첫번째 자리를 출력하도록 해보자\n"
   ]
  },
  {
   "cell_type": "code",
   "execution_count": 11,
   "metadata": {},
   "outputs": [],
   "source": [
    "num=\"881120-1068234\""
   ]
  },
  {
   "cell_type": "code",
   "execution_count": 35,
   "metadata": {},
   "outputs": [],
   "source": [
    "a=num[0:2]\n",
    "b=num[2:4]\n",
    "c=num[4:6]\n",
    "s=num[7:8]"
   ]
  },
  {
   "cell_type": "code",
   "execution_count": 29,
   "metadata": {},
   "outputs": [
    {
     "data": {
      "text/plain": [
       "'1988-11-20'"
      ]
     },
     "execution_count": 29,
     "metadata": {},
     "output_type": "execute_result"
    }
   ],
   "source": [
    "\"19{0}-{1}-{2}\".format(a,b,c)"
   ]
  },
  {
   "cell_type": "code",
   "execution_count": 36,
   "metadata": {},
   "outputs": [
    {
     "name": "stdout",
     "output_type": "stream",
     "text": [
      "남자입니다\n"
     ]
    }
   ],
   "source": [
    "if s=='1':\n",
    "    print(\"남자입니다\")\n",
    "else:\n",
    "    print(\"여자입니다\")"
   ]
  },
  {
   "cell_type": "markdown",
   "metadata": {},
   "source": [
    "## Q4"
   ]
  },
  {
   "cell_type": "markdown",
   "metadata": {},
   "source": [
    "다음과 같은 문자열 a:b:c:d:E:F:G:H가 있다. 문자열 관련 함수를 사용하여 a#b#c#d#e#f#g#h로 바꿔서 출력해 보자.\n"
   ]
  },
  {
   "cell_type": "code",
   "execution_count": 39,
   "metadata": {},
   "outputs": [
    {
     "data": {
      "text/plain": [
       "'a#b#c#d#e#f#g#h'"
      ]
     },
     "execution_count": 39,
     "metadata": {},
     "output_type": "execute_result"
    }
   ],
   "source": [
    "a=\"a:b:c:d:E:F:G:H\"\n",
    "a=a.lower()\n",
    "a.replace(\":\",\"#\")"
   ]
  },
  {
   "cell_type": "markdown",
   "metadata": {},
   "source": [
    "## Q5"
   ]
  },
  {
   "cell_type": "markdown",
   "metadata": {},
   "source": [
    "[1, 3, 5, 4, 2, 6] 리스트를 [6, 5, 4, 3, 2, 1]로 만들어 보자.\n"
   ]
  },
  {
   "cell_type": "code",
   "execution_count": 41,
   "metadata": {},
   "outputs": [
    {
     "data": {
      "text/plain": [
       "[6, 5, 4, 3, 2, 1]"
      ]
     },
     "execution_count": 41,
     "metadata": {},
     "output_type": "execute_result"
    }
   ],
   "source": [
    "a=[1,3,5,4,2,6]\n",
    "a.sort()\n",
    "a.reverse()\n",
    "a"
   ]
  },
  {
   "cell_type": "markdown",
   "metadata": {},
   "source": [
    "## Q6"
   ]
  },
  {
   "cell_type": "markdown",
   "metadata": {},
   "source": [
    "['Life', 'is', 'too', 'short'] 리스트를 Life is too short 문자열로 만들어 출력해 보자."
   ]
  },
  {
   "cell_type": "code",
   "execution_count": 43,
   "metadata": {},
   "outputs": [
    {
     "data": {
      "text/plain": [
       "'Life is too short'"
      ]
     },
     "execution_count": 43,
     "metadata": {},
     "output_type": "execute_result"
    }
   ],
   "source": [
    "a=['Life','is','too','short']\n",
    "a[0]+\" \"+a[1]+\" \"+a[2]+\" \"+a[3]"
   ]
  },
  {
   "cell_type": "markdown",
   "metadata": {},
   "source": [
    "## Q7"
   ]
  },
  {
   "cell_type": "markdown",
   "metadata": {},
   "source": [
    "a = [1, 1, 1, 2, 2, 3, 3, 3, 4, 4, 5] 의 리스트에서 중복 숫자를 제거해 출력해 보자.\n"
   ]
  },
  {
   "cell_type": "code",
   "execution_count": 45,
   "metadata": {},
   "outputs": [
    {
     "data": {
      "text/plain": [
       "{1, 2, 3, 4, 5}"
      ]
     },
     "execution_count": 45,
     "metadata": {},
     "output_type": "execute_result"
    }
   ],
   "source": [
    "a=[1,1,1,2,2,3,3,3,4,4,5]\n",
    "a=set(a)\n",
    "a"
   ]
  },
  {
   "cell_type": "markdown",
   "metadata": {},
   "source": [
    "## Q8"
   ]
  },
  {
   "cell_type": "markdown",
   "metadata": {},
   "source": [
    " 리스트 regions는 4개의 튜플을 가지고 있으며, 각 튜플을 미국 4개 지역의 이름과 인구수(백만 명) 정보를 제공합니다. <br>\n",
    " “Northeast”, 55.3 <br>\n",
    " “Midwest”, 66.9 <br>\n",
    " “South”, 114.6 <br>\n",
    " “West”, 71.9 <br>\n",
    " 미국 전체 인구는 4지역 인구의 합이다. 미국 전체 인구를 구해봅시다<br>\n",
    " 최종적으로 다음과 같은 결과를 출력해봅시다. (지역과 인구수는 fomatting을 이용해 출력)<br>\n",
    "<결과><br>\n",
    "The population of the Northeath is 55.3 million.<br>\n",
    "The population of the midwest is 66.9 million.<br>\n",
    "The population of the South is 114.6 million.<br>\n",
    "The population of the West is 71.9 million.<br>\n",
    "The total population of USA is 308.7 million.\n"
   ]
  },
  {
   "cell_type": "code",
   "execution_count": 53,
   "metadata": {},
   "outputs": [],
   "source": [
    "regions=((\"Northeast\",55.3),(\"Midwest\",66.9),(\"South\",114.6),(\"West\",71.9))\n",
    "USA = (regions[0][1]+regions[1][1]+regions[2][1]+regions[3][1])"
   ]
  },
  {
   "cell_type": "code",
   "execution_count": 62,
   "metadata": {},
   "outputs": [
    {
     "name": "stdout",
     "output_type": "stream",
     "text": [
      "The population of the Northeast is 55.3 million.\n",
      "The population of the Midwest is 66.9 million.\n",
      "The population of the South is 114.6 million.\n",
      "The population of the West is 71.9 million.\n",
      "The total population of USA is 308.7 million\n"
     ]
    }
   ],
   "source": [
    "print(\"The population of the {0} is {1} million.\".format(regions[0][0],regions[0][1]))\n",
    "print(\"The population of the {0} is {1} million.\".format(regions[1][0],regions[1][1]))\n",
    "print(\"The population of the {0} is {1} million.\".format(regions[2][0],regions[2][1]))\n",
    "print(\"The population of the {0} is {1} million.\".format(regions[3][0],regions[3][1]))\n",
    "print(\"The total population of USA is {0:0.1f} million\".format(USA))\n"
   ]
  },
  {
   "cell_type": "markdown",
   "metadata": {},
   "source": [
    "## Q9"
   ]
  },
  {
   "cell_type": "markdown",
   "metadata": {},
   "source": [
    " 다음 3 사람의 이름과 전화번호를 딕셔너리로 만들어 봅시다. 단 이름은 key로 전화번호는 value로 사용하세요<br>\n",
    " Kim, 010-8888-1234 <br>\n",
    " Lee, 010-9999-2345 <br>\n",
    " Park, 010-0001-5432<br>\n",
    " Kim의 전화번호를 출력해봅시다(인덱스를 사용할 것).<br>\n",
    " Lee의 전화번호를 get() 함수를 사용하여 출력해봅시다.<br>\n",
    "다음 사람에 대한 전화번호를 추가해봅시다.<br>\n",
    " Choi, 010-2222-3344<br>\n",
    " 전체 key들을 리스트로 변환하여 출력해봅시다.<br>\n",
    " 전체 value들을 리스트로 변환하여 출력해봅시다\n"
   ]
  },
  {
   "cell_type": "code",
   "execution_count": 65,
   "metadata": {},
   "outputs": [
    {
     "data": {
      "text/plain": [
       "'010-8888-1234'"
      ]
     },
     "execution_count": 65,
     "metadata": {},
     "output_type": "execute_result"
    }
   ],
   "source": [
    "a= {'Kim':'010-8888-1234','Lee':'010-9999-2345','park':'010-0001-5432'}\n",
    "a['Kim']"
   ]
  },
  {
   "cell_type": "code",
   "execution_count": 67,
   "metadata": {},
   "outputs": [
    {
     "data": {
      "text/plain": [
       "'010-9999-2345'"
      ]
     },
     "execution_count": 67,
     "metadata": {},
     "output_type": "execute_result"
    }
   ],
   "source": [
    "a.get('Lee')"
   ]
  },
  {
   "cell_type": "code",
   "execution_count": 69,
   "metadata": {},
   "outputs": [
    {
     "data": {
      "text/plain": [
       "{'Kim': '010-8888-1234',\n",
       " 'Lee': '010-9999-2345',\n",
       " 'park': '010-0001-5432',\n",
       " 'Choi': '010-2222-3344'}"
      ]
     },
     "execution_count": 69,
     "metadata": {},
     "output_type": "execute_result"
    }
   ],
   "source": [
    "a['Choi']='010-2222-3344'\n",
    "a"
   ]
  },
  {
   "cell_type": "code",
   "execution_count": 70,
   "metadata": {},
   "outputs": [
    {
     "data": {
      "text/plain": [
       "dict_keys(['Kim', 'Lee', 'park', 'Choi'])"
      ]
     },
     "execution_count": 70,
     "metadata": {},
     "output_type": "execute_result"
    }
   ],
   "source": [
    "a.keys()"
   ]
  },
  {
   "cell_type": "code",
   "execution_count": 72,
   "metadata": {},
   "outputs": [
    {
     "data": {
      "text/plain": [
       "dict_values(['010-8888-1234', '010-9999-2345', '010-0001-5432', '010-2222-3344'])"
      ]
     },
     "execution_count": 72,
     "metadata": {},
     "output_type": "execute_result"
    }
   ],
   "source": [
    "a.values()"
   ]
  },
  {
   "cell_type": "markdown",
   "metadata": {},
   "source": [
    "## Q10"
   ]
  },
  {
   "cell_type": "markdown",
   "metadata": {},
   "source": [
    "다음과 같이 세 가지의 집합을 만들어 봅시다. <br>\n",
    "A∩B∩C를 구해봅시다. <br>\n",
    " AUBUC를 구해봅시다.<br>\n",
    "A-(BUC)를 구해봅시다<br>\n",
    "C에 11을 원소로 추가해보세요.<br>\n",
    "B에 15, 18을 한꺼번에 추가해보세요<br>\n",
    "\n"
   ]
  },
  {
   "cell_type": "code",
   "execution_count": 74,
   "metadata": {},
   "outputs": [],
   "source": [
    "A=set([1,3,5,7,9])\n",
    "B=set([3,6,9,12])\n",
    "C=set([2,3,5,7])"
   ]
  },
  {
   "cell_type": "code",
   "execution_count": 75,
   "metadata": {},
   "outputs": [
    {
     "data": {
      "text/plain": [
       "{3}"
      ]
     },
     "execution_count": 75,
     "metadata": {},
     "output_type": "execute_result"
    }
   ],
   "source": [
    "A&B&C"
   ]
  },
  {
   "cell_type": "code",
   "execution_count": 76,
   "metadata": {},
   "outputs": [
    {
     "data": {
      "text/plain": [
       "{1, 2, 3, 5, 6, 7, 9, 12}"
      ]
     },
     "execution_count": 76,
     "metadata": {},
     "output_type": "execute_result"
    }
   ],
   "source": [
    "A|B|C"
   ]
  },
  {
   "cell_type": "code",
   "execution_count": 77,
   "metadata": {},
   "outputs": [
    {
     "data": {
      "text/plain": [
       "{1}"
      ]
     },
     "execution_count": 77,
     "metadata": {},
     "output_type": "execute_result"
    }
   ],
   "source": [
    "A-(B|C)"
   ]
  },
  {
   "cell_type": "code",
   "execution_count": 79,
   "metadata": {},
   "outputs": [
    {
     "data": {
      "text/plain": [
       "{2, 3, 5, 7, 11}"
      ]
     },
     "execution_count": 79,
     "metadata": {},
     "output_type": "execute_result"
    }
   ],
   "source": [
    "C.add(11)\n",
    "C"
   ]
  },
  {
   "cell_type": "code",
   "execution_count": 82,
   "metadata": {},
   "outputs": [
    {
     "data": {
      "text/plain": [
       "{3, 6, 9, 12, 15, 18}"
      ]
     },
     "execution_count": 82,
     "metadata": {},
     "output_type": "execute_result"
    }
   ],
   "source": [
    "B.update([15,18])\n",
    "B"
   ]
  }
 ],
 "metadata": {
  "kernelspec": {
   "display_name": "Python 3",
   "language": "python",
   "name": "python3"
  },
  "language_info": {
   "codemirror_mode": {
    "name": "ipython",
    "version": 3
   },
   "file_extension": ".py",
   "mimetype": "text/x-python",
   "name": "python",
   "nbconvert_exporter": "python",
   "pygments_lexer": "ipython3",
   "version": "3.6.9"
  }
 },
 "nbformat": 4,
 "nbformat_minor": 4
}
