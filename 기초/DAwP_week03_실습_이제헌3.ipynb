{
 "cells": [
  {
   "cell_type": "markdown",
   "metadata": {},
   "source": [
    "# Q1"
   ]
  },
  {
   "cell_type": "markdown",
   "metadata": {},
   "source": [
    " 학점에 따라서 우등 졸업 여부가 다음과 같이 결정된다고 하자\n"
   ]
  },
  {
   "cell_type": "markdown",
   "metadata": {},
   "source": [
    " GPA >= 3.9  summa cum laude <br>\n",
    " GPA >= 3.6  magna cum laude <br>\n",
    " GPA >= 3.3  cum laude\n"
   ]
  },
  {
   "cell_type": "markdown",
   "metadata": {},
   "source": [
    "### Q1-(1)"
   ]
  },
  {
   "cell_type": "markdown",
   "metadata": {},
   "source": [
    " 학점을 float값으로 가지고 있는 변수 my_gpa를 생성하고 임의의 학점을 할당하시오. <Br>\n",
    " 예를 들어, 만일 my_gpa값이 3.75이면 다음과 같이 출력이 되도록 코드를 작성하시오. \n"
   ]
  },
  {
   "cell_type": "markdown",
   "metadata": {},
   "source": [
    "Your gpa is 3.75. <br>\n",
    "You graduate magna cum laude\n"
   ]
  },
  {
   "cell_type": "code",
   "execution_count": 1,
   "metadata": {},
   "outputs": [],
   "source": [
    "my_gpa = 3.5"
   ]
  },
  {
   "cell_type": "code",
   "execution_count": 18,
   "metadata": {},
   "outputs": [
    {
     "name": "stdout",
     "output_type": "stream",
     "text": [
      "Your gpa is 3.5\n",
      "You graduate cum laude\n"
     ]
    }
   ],
   "source": [
    "print(\"Your gpa is {}\".format(my_gpa))\n",
    "if my_gpa>=3.9 :\n",
    "    print(\"You graduate summa cum laude\")\n",
    "elif my_gpa>=3.6:\n",
    "    print(\"You graduate magna cum laude\")\n",
    "elif my_gpa>=3.3:\n",
    "    print(\"You graduate cum laude\")"
   ]
  },
  {
   "cell_type": "markdown",
   "metadata": {},
   "source": [
    "### Q1-(2)"
   ]
  },
  {
   "cell_type": "markdown",
   "metadata": {},
   "source": [
    "my_gpa 값에 따라 우등 졸업 여부를 출력하는 코드를 작성하시오.<BR>\n",
    "학점이 3.2이상인 경우, You graduate 를 출력. 그렇지 않다면 Fail 을 출력.\n"
   ]
  },
  {
   "cell_type": "code",
   "execution_count": 17,
   "metadata": {},
   "outputs": [
    {
     "name": "stdin",
     "output_type": "stream",
     "text": [
      " 3.5\n"
     ]
    },
    {
     "name": "stdout",
     "output_type": "stream",
     "text": [
      "You graduate\n"
     ]
    }
   ],
   "source": [
    "my_gpa = float(input())\n",
    "if my_gpa>=3.2 :\n",
    "    print(\"You graduate\")\n",
    "else :\n",
    "    print(\"Fail\")"
   ]
  },
  {
   "cell_type": "markdown",
   "metadata": {},
   "source": [
    "# Q2"
   ]
  },
  {
   "cell_type": "markdown",
   "metadata": {},
   "source": [
    "다음처럼 구구단을 출력하는 코드를 작성하시오. (While 문 과 For문 version 두 가지를 작성할 것)\n"
   ]
  },
  {
   "cell_type": "markdown",
   "metadata": {},
   "source": [
    "### Q2-(While문)"
   ]
  },
  {
   "cell_type": "code",
   "execution_count": 3,
   "metadata": {},
   "outputs": [
    {
     "name": "stdout",
     "output_type": "stream",
     "text": [
      "2 times table =============\n",
      "2 * 1 = 2\n",
      "2 * 2 = 4\n",
      "2 * 3 = 6\n",
      "2 * 4 = 8\n",
      "2 * 5 = 10\n",
      "2 * 6 = 12\n",
      "2 * 7 = 14\n",
      "2 * 8 = 16\n",
      "2 * 9 = 18\n",
      "3 times table =============\n",
      "3 * 1 = 3\n",
      "3 * 2 = 6\n",
      "3 * 3 = 9\n",
      "3 * 4 = 12\n",
      "3 * 5 = 15\n",
      "3 * 6 = 18\n",
      "3 * 7 = 21\n",
      "3 * 8 = 24\n",
      "3 * 9 = 27\n",
      "4 times table =============\n",
      "4 * 1 = 4\n",
      "4 * 2 = 8\n",
      "4 * 3 = 12\n",
      "4 * 4 = 16\n",
      "4 * 5 = 20\n",
      "4 * 6 = 24\n",
      "4 * 7 = 28\n",
      "4 * 8 = 32\n",
      "4 * 9 = 36\n",
      "5 times table =============\n",
      "5 * 1 = 5\n",
      "5 * 2 = 10\n",
      "5 * 3 = 15\n",
      "5 * 4 = 20\n",
      "5 * 5 = 25\n",
      "5 * 6 = 30\n",
      "5 * 7 = 35\n",
      "5 * 8 = 40\n",
      "5 * 9 = 45\n",
      "6 times table =============\n",
      "6 * 1 = 6\n",
      "6 * 2 = 12\n",
      "6 * 3 = 18\n",
      "6 * 4 = 24\n",
      "6 * 5 = 30\n",
      "6 * 6 = 36\n",
      "6 * 7 = 42\n",
      "6 * 8 = 48\n",
      "6 * 9 = 54\n",
      "7 times table =============\n",
      "7 * 1 = 7\n",
      "7 * 2 = 14\n",
      "7 * 3 = 21\n",
      "7 * 4 = 28\n",
      "7 * 5 = 35\n",
      "7 * 6 = 42\n",
      "7 * 7 = 49\n",
      "7 * 8 = 56\n",
      "7 * 9 = 63\n",
      "8 times table =============\n",
      "8 * 1 = 8\n",
      "8 * 2 = 16\n",
      "8 * 3 = 24\n",
      "8 * 4 = 32\n",
      "8 * 5 = 40\n",
      "8 * 6 = 48\n",
      "8 * 7 = 56\n",
      "8 * 8 = 64\n",
      "8 * 9 = 72\n",
      "9 times table =============\n",
      "9 * 1 = 9\n",
      "9 * 2 = 18\n",
      "9 * 3 = 27\n",
      "9 * 4 = 36\n",
      "9 * 5 = 45\n",
      "9 * 6 = 54\n",
      "9 * 7 = 63\n",
      "9 * 8 = 72\n",
      "9 * 9 = 81\n",
      "=============End=================\n"
     ]
    }
   ],
   "source": [
    "a = 2 \n",
    "b = 1\n",
    "while a <10:\n",
    "    print(\"{} times table =============\".format(a))\n",
    "    while b<10:\n",
    "        print(\"{0} * {1} = {2}\".format(a,b,a*b))\n",
    "        b +=1\n",
    "    a +=1\n",
    "    b= 1\n",
    "print(\"=============End=================\")"
   ]
  },
  {
   "cell_type": "markdown",
   "metadata": {},
   "source": [
    "### Q2-(For문)"
   ]
  },
  {
   "cell_type": "code",
   "execution_count": 6,
   "metadata": {},
   "outputs": [
    {
     "name": "stdout",
     "output_type": "stream",
     "text": [
      "2 times table ==========\n",
      "2 * 1 = 2\n",
      "2 * 2 = 4\n",
      "2 * 3 = 6\n",
      "2 * 4 = 8\n",
      "2 * 5 = 10\n",
      "2 * 6 = 12\n",
      "2 * 7 = 14\n",
      "2 * 8 = 16\n",
      "2 * 9 = 18\n",
      "3 times table ==========\n",
      "3 * 1 = 3\n",
      "3 * 2 = 6\n",
      "3 * 3 = 9\n",
      "3 * 4 = 12\n",
      "3 * 5 = 15\n",
      "3 * 6 = 18\n",
      "3 * 7 = 21\n",
      "3 * 8 = 24\n",
      "3 * 9 = 27\n",
      "4 times table ==========\n",
      "4 * 1 = 4\n",
      "4 * 2 = 8\n",
      "4 * 3 = 12\n",
      "4 * 4 = 16\n",
      "4 * 5 = 20\n",
      "4 * 6 = 24\n",
      "4 * 7 = 28\n",
      "4 * 8 = 32\n",
      "4 * 9 = 36\n",
      "5 times table ==========\n",
      "5 * 1 = 5\n",
      "5 * 2 = 10\n",
      "5 * 3 = 15\n",
      "5 * 4 = 20\n",
      "5 * 5 = 25\n",
      "5 * 6 = 30\n",
      "5 * 7 = 35\n",
      "5 * 8 = 40\n",
      "5 * 9 = 45\n",
      "6 times table ==========\n",
      "6 * 1 = 6\n",
      "6 * 2 = 12\n",
      "6 * 3 = 18\n",
      "6 * 4 = 24\n",
      "6 * 5 = 30\n",
      "6 * 6 = 36\n",
      "6 * 7 = 42\n",
      "6 * 8 = 48\n",
      "6 * 9 = 54\n",
      "7 times table ==========\n",
      "7 * 1 = 7\n",
      "7 * 2 = 14\n",
      "7 * 3 = 21\n",
      "7 * 4 = 28\n",
      "7 * 5 = 35\n",
      "7 * 6 = 42\n",
      "7 * 7 = 49\n",
      "7 * 8 = 56\n",
      "7 * 9 = 63\n",
      "8 times table ==========\n",
      "8 * 1 = 8\n",
      "8 * 2 = 16\n",
      "8 * 3 = 24\n",
      "8 * 4 = 32\n",
      "8 * 5 = 40\n",
      "8 * 6 = 48\n",
      "8 * 7 = 56\n",
      "8 * 8 = 64\n",
      "8 * 9 = 72\n",
      "9 times table ==========\n",
      "9 * 1 = 9\n",
      "9 * 2 = 18\n",
      "9 * 3 = 27\n",
      "9 * 4 = 36\n",
      "9 * 5 = 45\n",
      "9 * 6 = 54\n",
      "9 * 7 = 63\n",
      "9 * 8 = 72\n",
      "9 * 9 = 81\n",
      "=================End=============\n"
     ]
    }
   ],
   "source": [
    "for a in range(2,10) :\n",
    "    print(\"{} times table ==========\".format(a))\n",
    "    for b in range(1,10) :\n",
    "        print(\"{0} * {1} = {2}\".format(a,b,a*b))\n",
    "print(\"=================End=============\")"
   ]
  },
  {
   "cell_type": "markdown",
   "metadata": {},
   "source": [
    "# Q3"
   ]
  },
  {
   "cell_type": "markdown",
   "metadata": {},
   "source": [
    "중앙값은 평균과 함께 자주 쓰이는 통계량이다. 아래 각각의 리스트들의 중앙값을 출력하는 코드를 작성하시오. <BR><BR>\n",
    "    \n",
    "[7, 9, 14] = 9 <bR>\n",
    "[24, 31, 35, 49] = 33<BR> \n",
    "[17, 37, 37, 47, 57] = 37 <br>\n",
    "[1, 3, 5, 7, 9, 11, 13, 15, 17, 19] = 10 <br><br>\n",
    "    중앙값 : 자료를 작은 값에서부터 크기순으로 나열할 때 중앙에 위치한 값 <br>\n",
    "① 자료의 개수가 홀수이면 가운데 위치한 값이 중앙값이다. <br>\n",
    "② 자료의 개수가 짝수이면 가운데 위치한 두 값의 평균이 중앙값이다.\n",
    "\n"
   ]
  },
  {
   "cell_type": "code",
   "execution_count": 76,
   "metadata": {},
   "outputs": [
    {
     "name": "stdout",
     "output_type": "stream",
     "text": [
      "9\n"
     ]
    }
   ],
   "source": [
    "a= [7,9,14]\n",
    "size=len(a)\n",
    "if size%2 ==0:\n",
    "    i = size /2\n",
    "    j = size /2 -1\n",
    "    print(int((a[int(i)]+a[int(j)])/2))\n",
    "else:\n",
    "    i = size /2\n",
    "    print(a[int(i)])"
   ]
  },
  {
   "cell_type": "code",
   "execution_count": 72,
   "metadata": {},
   "outputs": [
    {
     "name": "stdout",
     "output_type": "stream",
     "text": [
      "33\n"
     ]
    }
   ],
   "source": [
    "b=[24,31,35,49]\n",
    "size =len(b)\n",
    "if size%2 ==0:\n",
    "    i = size /2\n",
    "    j = size /2 -1\n",
    "    print(int((b[int(i)]+b[int(j)])/2))\n",
    "else:\n",
    "    i = size /2\n",
    "    print(b[int(i)])"
   ]
  },
  {
   "cell_type": "code",
   "execution_count": 66,
   "metadata": {},
   "outputs": [
    {
     "name": "stdout",
     "output_type": "stream",
     "text": [
      "37\n"
     ]
    }
   ],
   "source": [
    "c=[17,37,37,47,57]\n",
    "size =len(c)\n",
    "if size%2 ==0:\n",
    "    i = size /2\n",
    "    j = size /2 -1\n",
    "    print(int((c[int(i)]+c[int(j)])/2))\n",
    "else:\n",
    "    i = size /2\n",
    "    print(c[int(i)])"
   ]
  },
  {
   "cell_type": "code",
   "execution_count": 2,
   "metadata": {},
   "outputs": [
    {
     "name": "stdout",
     "output_type": "stream",
     "text": [
      "10.0\n"
     ]
    }
   ],
   "source": [
    "d=[1,3,5,7,9,11,13,15,17,19]\n",
    "size =len(d)\n",
    "if size%2 ==0:\n",
    "    i = size /2\n",
    "    j = size /2 -1\n",
    "    print(float((d[int(i)]+d[int(j)])/2))\n",
    "else:\n",
    "    i = size /2\n",
    "    print(d[int(i)])"
   ]
  },
  {
   "cell_type": "markdown",
   "metadata": {},
   "source": [
    "# Q4"
   ]
  },
  {
   "cell_type": "markdown",
   "metadata": {},
   "source": [
    "10미만의 자연수에서 3과 5의 배수를 구하면 3,5,6,9이다. 이들의 총합은 23이다. <BR>\n",
    "10000미만의 자연수에서 3,5의 배수의 총합을 구하는 코드를 작성하시오.\n"
   ]
  },
  {
   "cell_type": "code",
   "execution_count": 83,
   "metadata": {},
   "outputs": [
    {
     "data": {
      "text/plain": [
       "23331668"
      ]
     },
     "execution_count": 83,
     "metadata": {},
     "output_type": "execute_result"
    }
   ],
   "source": [
    "sum = 0\n",
    "for a in range(1,10000):\n",
    "    if a%3==0 or a%5==0 :\n",
    "        sum += a\n",
    "sum"
   ]
  },
  {
   "cell_type": "markdown",
   "metadata": {},
   "source": [
    "# Q5"
   ]
  },
  {
   "cell_type": "markdown",
   "metadata": {},
   "source": [
    "10 ~ 15 까지의 각 숫자의 개수를 구해보자 <br>\n",
    "10 = 1, 0<br>11 = 1, 1<br>12 = 1, 2<br>13 = 1, 3<br>14 = 1, 4<br>15 = 1, 5 <br>\n",
    "그러므로 이 경우의 답은 0:1개, 1:7개, 2:1개, 3:1개, 4:1개, 5:1개 이 된다.<br><br>\n",
    "\n",
    "1~1000까지 각 숫자의 개수를 담고 있는 Dictionary를 최종 결과로 출력하는 코드를 작성하시오.\n"
   ]
  },
  {
   "cell_type": "code",
   "execution_count": 132,
   "metadata": {},
   "outputs": [
    {
     "data": {
      "text/plain": [
       "{0: 189,\n",
       " 1: 301,\n",
       " 2: 300,\n",
       " 3: 300,\n",
       " 4: 300,\n",
       " 5: 300,\n",
       " 6: 300,\n",
       " 7: 300,\n",
       " 8: 300,\n",
       " 9: 300}"
      ]
     },
     "execution_count": 132,
     "metadata": {},
     "output_type": "execute_result"
    }
   ],
   "source": [
    "dic={0:0,1:0,2:0,3:0,4:0,5:0,6:0,7:0,8:0,9:0}\n",
    "for num in range(1,1001):\n",
    "    if num<10:\n",
    "        dic[num] += 1\n",
    "    elif num>=10 and num<100:\n",
    "        dic[int(num/10)] += 1\n",
    "        dic[int(num%10)] += 1\n",
    "    elif num>=100 and num<1000:\n",
    "        dic[int(num/100)] += 1\n",
    "        dic[int((num%100)/10)] += 1\n",
    "        dic[int((num%100)%10)] += 1\n",
    "    else:\n",
    "        dic[int(num/1000)] +=1\n",
    "dic\n",
    "    \n",
    "    "
   ]
  },
  {
   "cell_type": "markdown",
   "metadata": {},
   "source": [
    "# Q6"
   ]
  },
  {
   "cell_type": "code",
   "execution_count": 170,
   "metadata": {},
   "outputs": [
    {
     "name": "stdout",
     "output_type": "stream",
     "text": [
      "0\n"
     ]
    }
   ],
   "source": [
    "maxx = 0\n",
    "for one in range(100,1000):\n",
    "    for two in range(100,1000):\n",
    "        number=one*two\n",
    "        if number>=100000:\n",
    "            a = int(number/100000) ## 십만자리\n",
    "            b = int((number-(a*100000))/10000) ##만자리\n",
    "            c = int((number-(a*100000+b*10000))/1000) ## 천자리\n",
    "            d = int((number-(a*100000+b*10000+c*1000))/100) ##백자리\n",
    "            e = int((number-(a*100000+b*10000+c*1000+d*100)/10)) ##십자리\n",
    "            f = number-(a*100000+b*10000+c*1000+d*100+e*10) ## 일의자리\n",
    "            if a == f and b==e and c==d:\n",
    "                 if maxx < number :\n",
    "                    maxx = number\n",
    "\n",
    "print(maxx)\n",
    "                    "
   ]
  },
  {
   "cell_type": "code",
   "execution_count": null,
   "metadata": {},
   "outputs": [],
   "source": []
  },
  {
   "cell_type": "code",
   "execution_count": null,
   "metadata": {},
   "outputs": [],
   "source": []
  }
 ],
 "metadata": {
  "kernelspec": {
   "display_name": "Python 3",
   "language": "python",
   "name": "python3"
  },
  "language_info": {
   "codemirror_mode": {
    "name": "ipython",
    "version": 3
   },
   "file_extension": ".py",
   "mimetype": "text/x-python",
   "name": "python",
   "nbconvert_exporter": "python",
   "pygments_lexer": "ipython3",
   "version": "3.6.9"
  }
 },
 "nbformat": 4,
 "nbformat_minor": 4
}
