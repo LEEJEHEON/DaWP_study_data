{
 "cells": [
  {
   "cell_type": "markdown",
   "metadata": {},
   "source": [
    "# DAwP 4"
   ]
  },
  {
   "cell_type": "markdown",
   "metadata": {},
   "source": [
    "## Q1"
   ]
  },
  {
   "cell_type": "code",
   "execution_count": null,
   "metadata": {},
   "outputs": [],
   "source": [
    "def fibonacci"
   ]
  },
  {
   "cell_type": "markdown",
   "metadata": {},
   "source": [
    "## Q2"
   ]
  },
  {
   "cell_type": "code",
   "execution_count": 24,
   "metadata": {},
   "outputs": [
    {
     "name": "stdout",
     "output_type": "stream",
     "text": [
      "['癤풱1 2 4 4\\n', 'S2 1.7 2.7 4\\n', 'S3 1.3 3.3 4\\n', 'S4 3.3 3.3 4\\n', 'S5 0 3.3 4\\n', 'S6 3 3.7 4\\n', 'S7 1.3 3.3 3.7\\n', 'S8 1 3.7 4\\n', 'S9 0 3.3 4\\n', 'S10 3 2.7 3.3']\n",
      "癤풱1 2 4 4\n",
      "\n",
      "S2 1.7 2.7 4\n",
      "\n",
      "S3 1.3 3.3 4\n",
      "\n",
      "S4 3.3 3.3 4\n",
      "\n",
      "S5 0 3.3 4\n",
      "\n",
      "S6 3 3.7 4\n",
      "\n",
      "S7 1.3 3.3 3.7\n",
      "\n",
      "S8 1 3.7 4\n",
      "\n",
      "S9 0 3.3 4\n",
      "\n",
      "S10 3 2.7 3.3\n"
     ]
    }
   ],
   "source": [
    "a=0\n",
    "f = open(\"C:/Users/dlwpg/oneDrive/바탕 화면/스터디/ExamsQuiz.txt\",'r')\n",
    "lines = f.readlines()\n",
    "print(lines)\n",
    "for line in lines:\n",
    "    print(line)\n",
    "    \n",
    "f.close()\n",
    "\n"
   ]
  },
  {
   "cell_type": "markdown",
   "metadata": {},
   "source": [
    "## Q3"
   ]
  },
  {
   "cell_type": "code",
   "execution_count": 40,
   "metadata": {},
   "outputs": [
    {
     "name": "stdin",
     "output_type": "stream",
     "text": [
      " 15\n"
     ]
    },
    {
     "name": "stdout",
     "output_type": "stream",
     "text": [
      "15\n"
     ]
    }
   ],
   "source": [
    "a= int(input())\n",
    "c= 0  ## 합계\n",
    "for b in range(10,a+1):\n",
    "    ch = list(','.join(str(b)).split(','))\n",
    "    value = int(ch[0]) * int(ch[1])\n",
    "    c += value\n",
    "print (c)"
   ]
  },
  {
   "cell_type": "markdown",
   "metadata": {},
   "source": [
    "## Q4"
   ]
  },
  {
   "cell_type": "code",
   "execution_count": null,
   "metadata": {},
   "outputs": [],
   "source": [
    "N = int(input())\n",
    "\n",
    "for b in range(1,N+1):\n",
    "    ch= list(','.join(str(b)))"
   ]
  }
 ],
 "metadata": {
  "kernelspec": {
   "display_name": "Python 3",
   "language": "python",
   "name": "python3"
  },
  "language_info": {
   "codemirror_mode": {
    "name": "ipython",
    "version": 3
   },
   "file_extension": ".py",
   "mimetype": "text/x-python",
   "name": "python",
   "nbconvert_exporter": "python",
   "pygments_lexer": "ipython3",
   "version": "3.6.10"
  }
 },
 "nbformat": 4,
 "nbformat_minor": 4
}
