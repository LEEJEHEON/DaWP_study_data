{
 "cells": [
  {
   "cell_type": "code",
   "execution_count": 4,
   "metadata": {},
   "outputs": [
    {
     "name": "stdout",
     "output_type": "stream",
     "text": [
      "4130441\n"
     ]
    }
   ],
   "source": [
    "f = open(\"C:/Users/dlwpg/OneDrive/바탕 화면/스터디/NationalNames.csv\",'r')\n",
    "lines = f.readlines()\n",
    "count = 0\n",
    "for a in range(1,len(lines)):\n",
    "    line = lines[a].split(',')\n",
    "    if line[1] == 'Mary':\n",
    "        count += int(line[4])\n",
    "print(count)"
   ]
  },
  {
   "cell_type": "code",
   "execution_count": 13,
   "metadata": {},
   "outputs": [
    {
     "name": "stdout",
     "output_type": "stream",
     "text": [
      "2000년도이후 가장 많은 이름중에  남/여 \n",
      "남자 이름 : Jacob / Jacob 의 총합 369869\n",
      "여자 이름 : Emily / Emily 의 총합 291357\n"
     ]
    }
   ],
   "source": [
    "f = open(\"C:/Users/dlwpg/OneDrive/바탕 화면/스터디/NationalNames.csv\",'r')\n",
    "lines = f.readlines()\n",
    "mcount =0\n",
    "fcount =0\n",
    "mname= 0\n",
    "fname=0\n",
    "for a in range(1,len(lines)):\n",
    "    line = lines[a].split(',')\n",
    "    if int(line[2]) >= 2000:\n",
    "        if line[3] == 'F':\n",
    "            if fcount< int(line[4]):\n",
    "                fcount= int(line[4])\n",
    "                fname = line[1]\n",
    "        else:\n",
    "            if mcount < int(line[4]):\n",
    "                mcount = int(line[4])\n",
    "                mname = line[1]\n",
    "fcount=0\n",
    "mcount=0\n",
    "for a in range(1,len(lines)):\n",
    "    line = lines[a].split(',')\n",
    "    if int(line[2]) >=2000:\n",
    "        if line[3] == 'M':\n",
    "            if mname == line[1]:\n",
    "                mcount += int(line[4])\n",
    "        else:\n",
    "            if fname == line[1]:\n",
    "                fcount += int(line[4])\n",
    "                \n",
    "print(\"2000년도이후 가장 많은 이름중에  남/여 \")        \n",
    "print(\"남자 이름 : {} / {} 의 총합 {}\" .format(mname,mname,mcount))\n",
    "print(\"여자 이름 : {} / {} 의 총합 {}\" .format(fname,fname,fcount))"
   ]
  },
  {
   "cell_type": "code",
   "execution_count": 2,
   "metadata": {},
   "outputs": [
    {
     "name": "stdout",
     "output_type": "stream",
     "text": [
      "Jacob 369869\n",
      "Emily 291357\n",
      "382.05162286758423\n"
     ]
    }
   ],
   "source": [
    "import time\n",
    "start_time = time.time()\n",
    "f = open(\"C:/Users/dlwpg/OneDrive/바탕 화면/스터디/NationalNames.csv\",'r')\n",
    "lines = f.readlines()\n",
    "f_dic={}\n",
    "m_dic={}\n",
    "\n",
    "for a in range(1,len(lines)):\n",
    "    line = lines[a].split(',')\n",
    "    if int(line[2]) >= 2000:\n",
    "        if line[3] == 'F':\n",
    "            if line[1] in list(f_dic.keys()):\n",
    "                count = f_dic[line[1]]+int(line[4])\n",
    "                f_dic[line[1]] = count\n",
    "                count =0\n",
    "            else:\n",
    "                f_dic[line[1]] = int(line[4])\n",
    "        else:\n",
    "            if line[1] in list(m_dic.keys()):\n",
    "                count= m_dic[line[1]]+int(line[4])\n",
    "                m_dic[line[1]] = count\n",
    "                count =0\n",
    "            else:\n",
    "                m_dic[line[1]] = int(line[4])\n",
    "                \n",
    "m=max(map(int,m_dic.values()))\n",
    "w=max(map(int,f_dic.values()))\n",
    "mn=list(m_dic.items())\n",
    "fn=list(f_dic.items())\n",
    "for a in range(0,len(mn)):\n",
    "    if m == mn[a][1]:\n",
    "        print(mn[a][0],m)\n",
    "        break\n",
    "for a in range(0,len(fn)):\n",
    "    if w == fn[a][1]:\n",
    "        print(fn[a][0],w)\n",
    "        break\n",
    "print(time.time()-start_time)"
   ]
  }
 ],
 "metadata": {
  "kernelspec": {
   "display_name": "Python 3",
   "language": "python",
   "name": "python3"
  },
  "language_info": {
   "codemirror_mode": {
    "name": "ipython",
    "version": 3
   },
   "file_extension": ".py",
   "mimetype": "text/x-python",
   "name": "python",
   "nbconvert_exporter": "python",
   "pygments_lexer": "ipython3",
   "version": "3.6.9"
  }
 },
 "nbformat": 4,
 "nbformat_minor": 4
}
