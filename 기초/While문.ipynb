{
 "cells": [
  {
   "cell_type": "markdown",
   "metadata": {},
   "source": [
    "# while문\n",
    "## while문의 기본구조\n",
    "\n",
    "### 반복해서 문장을 수행해야 할 경우 --> while문 사용"
   ]
  },
  {
   "cell_type": "code",
   "execution_count": null,
   "metadata": {},
   "outputs": [],
   "source": [
    "while <조건문>:\n",
    "    <수행할 문장1>\n",
    "    <수행할 문장2>\n",
    "    <수행할 문장3>\n",
    "    ..."
   ]
  },
  {
   "cell_type": "markdown",
   "metadata": {},
   "source": [
    "#### - while문의 기본구조\n",
    "#### while문은 조건문이 참인 동안에 아래 문장이 반복해서 수행됨."
   ]
  },
  {
   "cell_type": "code",
   "execution_count": 4,
   "metadata": {},
   "outputs": [],
   "source": [
    "treeHit = 0"
   ]
  },
  {
   "cell_type": "code",
   "execution_count": 5,
   "metadata": {},
   "outputs": [
    {
     "name": "stdout",
     "output_type": "stream",
     "text": [
      "나무를 1번 찍었습니다.\n",
      "나무를 2번 찍었습니다.\n",
      "나무를 3번 찍었습니다.\n",
      "나무를 4번 찍었습니다.\n",
      "나무를 5번 찍었습니다.\n",
      "나무를 6번 찍었습니다.\n",
      "나무를 7번 찍었습니다.\n",
      "나무를 8번 찍었습니다.\n",
      "나무를 9번 찍었습니다.\n",
      "나무를 10번 찍었습니다.\n",
      "나무 넘어갑니다.\n"
     ]
    }
   ],
   "source": [
    "while treeHit < 10:\n",
    "    treeHit = treeHit +1\n",
    "    print(\"나무를 %d번 찍었습니다.\" % treeHit)\n",
    "    if treeHit == 10:\n",
    "        print(\"나무 넘어갑니다.\")"
   ]
  },
  {
   "cell_type": "markdown",
   "metadata": {},
   "source": [
    "#### treeHit의 값이 10이 될 때까지treeHit의 값을 1씩 증가\n",
    "#### treeHit의 값이 10이 되면 문장 출력 후 while문 종료."
   ]
  },
  {
   "cell_type": "markdown",
   "metadata": {},
   "source": [
    "\n",
    "## While문 만들기"
   ]
  },
  {
   "cell_type": "code",
   "execution_count": 7,
   "metadata": {},
   "outputs": [
    {
     "name": "stdout",
     "output_type": "stream",
     "text": [
      "\n",
      "    1. Add\n",
      "    2. Del\n",
      "    3. List\n",
      "    4. Quit\n",
      "\n",
      "\n",
      "    1. Add\n",
      "    2. Del\n",
      "    3. List\n",
      "    4. Quit\n",
      "\n",
      "\n",
      "    1. Add\n",
      "    2. Del\n",
      "    3. List\n",
      "    4. Quit\n",
      "\n"
     ]
    }
   ],
   "source": [
    "prompt = \"\"\"\n",
    "    1. Add\n",
    "    2. Del\n",
    "    3. List\n",
    "    4. Quit\n",
    "\"\"\"\n",
    "\n",
    "number = 0 #변수에 0 먼저 대입(변수선언)\n",
    "while number != 4: #4가 아닐때\n",
    "    print(prompt)\n",
    "    number = int(input())"
   ]
  },
  {
   "cell_type": "markdown",
   "metadata": {},
   "source": [
    "#### 4를 입력하면 조건문이 거짓이 되어 While문 빠져나감"
   ]
  },
  {
   "cell_type": "markdown",
   "metadata": {},
   "source": [
    "\n",
    "## while문 강제로 빠져나가기\n",
    "### break문"
   ]
  },
  {
   "cell_type": "code",
   "execution_count": 1,
   "metadata": {},
   "outputs": [
    {
     "name": "stdin",
     "output_type": "stream",
     "text": [
      "돈을 넣어 주세요:  500\n"
     ]
    },
    {
     "name": "stdout",
     "output_type": "stream",
     "text": [
      "거스름돈 200를 주고 커피를 줍니다.\n"
     ]
    },
    {
     "name": "stdin",
     "output_type": "stream",
     "text": [
      "돈을 넣어 주세요:  300\n"
     ]
    },
    {
     "name": "stdout",
     "output_type": "stream",
     "text": [
      "커피 받으세요\n"
     ]
    },
    {
     "name": "stdin",
     "output_type": "stream",
     "text": [
      "돈을 넣어 주세요:  900\n"
     ]
    },
    {
     "name": "stdout",
     "output_type": "stream",
     "text": [
      "거스름돈 600를 주고 커피를 줍니다.\n",
      "커피가 다 떨어졌습니다. 판매를 중지 합니다.\n"
     ]
    }
   ],
   "source": [
    "coffee = 3\n",
    "\n",
    "while True:\n",
    "    money = int(input(\"돈을 넣어 주세요: \"))\n",
    "    if money == 300:\n",
    "        print(\"커피 받으세요\")\n",
    "        coffee = coffee -1\n",
    "    elif money > 300:\n",
    "        print(\"거스름돈 %d를 주고 커피를 줍니다.\" % (money - 300))\n",
    "        coffee = coffee -1\n",
    "    else:\n",
    "        print(\"돈을 다시 돌려주고 커피를 주지 않습니다.\")\n",
    "        print(\"남은 커피의 양은 %d개 입니다.\" % coffee)\n",
    "    if coffee == 0:\n",
    "        print(\"커피가 다 떨어졌습니다. 판매를 중지 합니다.\")\n",
    "        break"
   ]
  },
  {
   "cell_type": "markdown",
   "metadata": {},
   "source": [
    "### 설정된 조건일 때 break문을 사용하여 while문에서 빠져나올 수 있다."
   ]
  },
  {
   "cell_type": "markdown",
   "metadata": {},
   "source": [
    "\n",
    "## While문의 맨 처음으로 돌아가기\n",
    "### continue 문"
   ]
  },
  {
   "cell_type": "code",
   "execution_count": 1,
   "metadata": {},
   "outputs": [
    {
     "name": "stdout",
     "output_type": "stream",
     "text": [
      "1\n",
      "3\n",
      "5\n",
      "7\n",
      "9\n"
     ]
    }
   ],
   "source": [
    "a = 0\n",
    "\n",
    "while a < 10:\n",
    "    a = a +1\n",
    "    if a % 2 == 0: continue\n",
    "    print(a)"
   ]
  },
  {
   "cell_type": "markdown",
   "metadata": {},
   "source": [
    "### 특정조건(짝수)일 경우 while문의 맨 처음으로 돌아가게 하는 명령어"
   ]
  },
  {
   "cell_type": "markdown",
   "metadata": {},
   "source": [
    "\n",
    "## 무한루프 (Loop)"
   ]
  },
  {
   "cell_type": "raw",
   "metadata": {},
   "source": [
    "while True:\n",
    "    수행할 문장1\n",
    "    수행할 문장2"
   ]
  },
  {
   "cell_type": "markdown",
   "metadata": {},
   "source": [
    "### while문의 조건이 True이므로 항상 참이 된다. 즉, 무한하게 수행된다.\n",
    "\n",
    "### *Ctrl + C를 눌러서 빠져나갈 수 있다."
   ]
  },
  {
   "cell_type": "code",
   "execution_count": null,
   "metadata": {},
   "outputs": [],
   "source": []
  }
 ],
 "metadata": {
  "kernelspec": {
   "display_name": "Python 3",
   "language": "python",
   "name": "python3"
  },
  "language_info": {
   "codemirror_mode": {
    "name": "ipython",
    "version": 3
   },
   "file_extension": ".py",
   "mimetype": "text/x-python",
   "name": "python",
   "nbconvert_exporter": "python",
   "pygments_lexer": "ipython3",
   "version": "3.6.10"
  }
 },
 "nbformat": 4,
 "nbformat_minor": 4
}
