{
 "cells": [
  {
   "cell_type": "code",
   "execution_count": 1,
   "metadata": {},
   "outputs": [
    {
     "name": "stderr",
     "output_type": "stream",
     "text": [
      "D:\\anaconda\\lib\\site-packages\\h5py\\__init__.py:36: FutureWarning: Conversion of the second argument of issubdtype from `float` to `np.floating` is deprecated. In future, it will be treated as `np.float64 == np.dtype(float).type`.\n",
      "  from ._conv import register_converters as _register_converters\n"
     ]
    }
   ],
   "source": [
    "import tensorflow as tf"
   ]
  },
  {
   "cell_type": "code",
   "execution_count": 2,
   "metadata": {},
   "outputs": [],
   "source": [
    "from tensorflow.examples.tutorials.mnist import input_data\n",
    "# tensorflow에서 라이브러리를 만들어놈"
   ]
  },
  {
   "cell_type": "code",
   "execution_count": 3,
   "metadata": {
    "collapsed": true,
    "jupyter": {
     "outputs_hidden": true
    }
   },
   "outputs": [
    {
     "name": "stdout",
     "output_type": "stream",
     "text": [
      "WARNING:tensorflow:From <ipython-input-3-758d29429358>:1: read_data_sets (from tensorflow.contrib.learn.python.learn.datasets.mnist) is deprecated and will be removed in a future version.\n",
      "Instructions for updating:\n",
      "Please use alternatives such as official/mnist/dataset.py from tensorflow/models.\n",
      "WARNING:tensorflow:From D:\\anaconda\\lib\\site-packages\\tensorflow\\contrib\\learn\\python\\learn\\datasets\\mnist.py:260: maybe_download (from tensorflow.contrib.learn.python.learn.datasets.base) is deprecated and will be removed in a future version.\n",
      "Instructions for updating:\n",
      "Please write your own downloading logic.\n",
      "WARNING:tensorflow:From D:\\anaconda\\lib\\site-packages\\tensorflow\\contrib\\learn\\python\\learn\\datasets\\base.py:252: _internal_retry.<locals>.wrap.<locals>.wrapped_fn (from tensorflow.contrib.learn.python.learn.datasets.base) is deprecated and will be removed in a future version.\n",
      "Instructions for updating:\n",
      "Please use urllib or similar directly.\n",
      "Successfully downloaded train-images-idx3-ubyte.gz 9912422 bytes.\n",
      "WARNING:tensorflow:From D:\\anaconda\\lib\\site-packages\\tensorflow\\contrib\\learn\\python\\learn\\datasets\\mnist.py:262: extract_images (from tensorflow.contrib.learn.python.learn.datasets.mnist) is deprecated and will be removed in a future version.\n",
      "Instructions for updating:\n",
      "Please use tf.data to implement this functionality.\n",
      "Extracting MNIST_data/train-images-idx3-ubyte.gz\n",
      "Successfully downloaded train-labels-idx1-ubyte.gz 28881 bytes.\n",
      "WARNING:tensorflow:From D:\\anaconda\\lib\\site-packages\\tensorflow\\contrib\\learn\\python\\learn\\datasets\\mnist.py:267: extract_labels (from tensorflow.contrib.learn.python.learn.datasets.mnist) is deprecated and will be removed in a future version.\n",
      "Instructions for updating:\n",
      "Please use tf.data to implement this functionality.\n",
      "Extracting MNIST_data/train-labels-idx1-ubyte.gz\n",
      "WARNING:tensorflow:From D:\\anaconda\\lib\\site-packages\\tensorflow\\contrib\\learn\\python\\learn\\datasets\\mnist.py:110: dense_to_one_hot (from tensorflow.contrib.learn.python.learn.datasets.mnist) is deprecated and will be removed in a future version.\n",
      "Instructions for updating:\n",
      "Please use tf.one_hot on tensors.\n",
      "Successfully downloaded t10k-images-idx3-ubyte.gz 1648877 bytes.\n",
      "Extracting MNIST_data/t10k-images-idx3-ubyte.gz\n",
      "Successfully downloaded t10k-labels-idx1-ubyte.gz 4542 bytes.\n",
      "Extracting MNIST_data/t10k-labels-idx1-ubyte.gz\n",
      "WARNING:tensorflow:From D:\\anaconda\\lib\\site-packages\\tensorflow\\contrib\\learn\\python\\learn\\datasets\\mnist.py:290: DataSet.__init__ (from tensorflow.contrib.learn.python.learn.datasets.mnist) is deprecated and will be removed in a future version.\n",
      "Instructions for updating:\n",
      "Please use alternatives such as official/mnist/dataset.py from tensorflow/models.\n"
     ]
    }
   ],
   "source": [
    "mnist = input_data.read_data_sets(\"MNIST_data/\",one_hot=True)\n",
    "# 데이터를 읽어 오라고 실행\n",
    "# one_hot = true 로 하면 Y값을 바로 one_hot으로 처리한다."
   ]
  },
  {
   "cell_type": "code",
   "execution_count": 9,
   "metadata": {},
   "outputs": [],
   "source": [
    "nb_classes = 10  # 0 ~ 9 의 값이기에 10\n",
    "X = tf.placeholder(tf.float32, [None, 784]) # MNIST DATA Shape 이 28*28 = 784\n",
    "Y = tf.placeholder(tf.float32, [None, nb_classes]) # 0 ~ 9\n",
    "# softmax 사용하기 위해\n",
    "W = tf.Variable(tf.random_normal([784,nb_classes])) # shape 주의(입력,나가는 것)\n",
    "b = tf.Variable(tf.random_normal([nb_classes]))# y의 값으로 정의\n",
    "\n",
    "hypothesis = tf.nn.softmax(tf.matmul(X,W)+b)\n",
    "# cross-entropy 사용\n",
    "cost = tf.reduce_mean(-tf.reduce_sum(Y*tf.log(hypothesis),axis=1))\n",
    "optimizer = tf.train.GradientDescentOptimizer(learning_rate=0.1).minimize(cost)\n",
    "\n",
    "#정확한지 평가를 하기 위해 \n",
    "#arg_max로 hypothesis의 값과 실제 Y값이 같은지 봄\n",
    "is_correct=tf.equal(tf.arg_max(hypothesis,1),tf.arg_max(Y,1))\n",
    "accuracy = tf.reduce_mean(tf.cast(is_correct,tf.float32))"
   ]
  },
  {
   "cell_type": "code",
   "execution_count": 10,
   "metadata": {},
   "outputs": [],
   "source": [
    "# 학습을 할 데이터가 너무커서 조금씩 batch로 짤라서 실행\n",
    "# epoch = 전체를 데이터셋을 한번 돈 것\n",
    "# epoch = 100개씩 15번을 돈다\n",
    "training_epochs=15\n",
    "batch_size=100"
   ]
  },
  {
   "cell_type": "code",
   "execution_count": 27,
   "metadata": {},
   "outputs": [
    {
     "name": "stdout",
     "output_type": "stream",
     "text": [
      "Epoch: 0001  cost= 3.015018253\n",
      "Epoch: 0002  cost= 1.133031775\n",
      "Epoch: 0003  cost= 0.887763829\n",
      "Epoch: 0004  cost= 0.765974143\n",
      "Epoch: 0005  cost= 0.693134843\n",
      "Epoch: 0006  cost= 0.640129996\n",
      "Epoch: 0007  cost= 0.600092352\n",
      "Epoch: 0008  cost= 0.570157550\n",
      "Epoch: 0009  cost= 0.546373827\n",
      "Epoch: 0010  cost= 0.523237964\n",
      "Epoch: 0011  cost= 0.507487576\n",
      "Epoch: 0012  cost= 0.492546698\n",
      "Epoch: 0013  cost= 0.478231480\n",
      "Epoch: 0014  cost= 0.467085786\n",
      "Epoch: 0015  cost= 0.456687595\n",
      "Accuracy: 0.8914\n",
      "Label:  [6]\n",
      "Prediction: [6]\n"
     ]
    },
    {
     "data": {
      "image/png": "[encoded data removed]",
      "text/plain": [
       "<Figure size 432x288 with 1 Axes>"
      ]
     },
     "metadata": {
      "needs_background": "light"
     },
     "output_type": "display_data"
    }
   ],
   "source": [
    "with tf.Session() as sess:\n",
    "    sess.run(tf.global_variables_initializer())\n",
    "    \n",
    "    for epoch in range(training_epochs):\n",
    "        avg_cost = 0\n",
    "        total_batch = int(mnist.train.num_examples / batch_size)\n",
    "        # epoch을 할려면 전체 데이터의 사이즈를 batch_size로 나눈 값을 반복        \n",
    "        for i in range(total_batch):\n",
    "            # 100개의 x와 y의 train data가 읽어진다. (메모리를 많이 차지해서 100개씩 읽음)\n",
    "            batch_xs, batch_ys = mnist.train.next_batch(batch_size)\n",
    "            c, _ = sess.run([cost, optimizer], feed_dict={X: batch_xs, Y: batch_ys})\n",
    "            avg_cost += c / total_batch\n",
    "        # 이렇게 학습을 하는 것이 일반적인 방법이다.\n",
    "        print('Epoch:', '%04d ' % (epoch + 1),'cost=','{:.9f}'.format(avg_cost))\n",
    "    # test 데이터로 accuracy의 성능을 평가\n",
    "    # sses.run() 으로 하는 방법도 있고 eval 이라는 함수를 호출하는 방법도 있다.\n",
    "    # 하나의 값만 할때에는 이렇게도 한다.\n",
    "    # 89% 의 정확도로 맞춘다.\n",
    "    print(\"Accuracy:\" , accuracy.eval(session=sess,\n",
    "                feed_dict={X: mnist.test.images, Y:mnist.test.labels}))\n",
    "    r= random.randint(0, mnist.test.num_examples-1)\n",
    "    print(\"Label: \",sess.run(tf.argmax(mnist.test.labels[r:r+1],1)))\n",
    "    print(\"Prediction:\", sess.run(tf.argmax(hypothesis,1),\n",
    "                            feed_dict={X: mnist.test.images[r:r+1]}))\n",
    "    # 이미지로 잘 확인\n",
    "plt.imshow(mnist.test.images[r:r+1].reshape(28,28),cmap='Greys',interpolation='nearest')\n",
    "plt.show()"
   ]
  },
  {
   "cell_type": "code",
   "execution_count": 14,
   "metadata": {},
   "outputs": [],
   "source": [
    "import matplotlib.pyplot as plt\n",
    "import random"
   ]
  }
 ],
 "metadata": {
  "kernelspec": {
   "display_name": "Python 3",
   "language": "python",
   "name": "python3"
  },
  "language_info": {
   "codemirror_mode": {
    "name": "ipython",
    "version": 3
   },
   "file_extension": ".py",
   "mimetype": "text/x-python",
   "name": "python",
   "nbconvert_exporter": "python",
   "pygments_lexer": "ipython3",
   "version": "3.6.10"
  }
 },
 "nbformat": 4,
 "nbformat_minor": 4
}
