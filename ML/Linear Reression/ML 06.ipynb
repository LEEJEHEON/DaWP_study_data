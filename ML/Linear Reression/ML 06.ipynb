{
 "cells": [
  {
   "cell_type": "markdown",
   "metadata": {},
   "source": [
    "# Lecture 6-1"
   ]
  },
  {
   "cell_type": "markdown",
   "metadata": {},
   "source": [
    "Multinomial classification  <br>\n",
    "보기를 2개이상으로 예측을 해보자"
   ]
  },
  {
   "cell_type": "markdown",
   "metadata": {},
   "source": [
    "예를 들어 a , b , c 라고 하면<br>\n",
    "a or not <br>\n",
    "b or not <br>\n",
    "c or not <br>  이런식으로 배운 것을 다 합친다."
   ]
  },
  {
   "cell_type": "markdown",
   "metadata": {},
   "source": [
    "[wA1 wA2 wA3] [x1]=[wA1x1+wA2x2+wA3x3]=[yA] <br>\n",
    "[wB1 wB2 wB3] [x2]=[wB1x1+wB2x2+wB3x3]=[yB] <br>\n",
    "[wC1 wC2 wC3] [x3]=[wC1x1+wC2x2+wC3x3]=[yC] <br>"
   ]
  },
  {
   "cell_type": "markdown",
   "metadata": {},
   "source": [
    "긴 매트릭스를 만들어서 곱셈공식으로 하여 구현"
   ]
  },
  {
   "cell_type": "markdown",
   "metadata": {},
   "source": [
    "wx = y 는 2.0/1.0/0.1 세개중에서 하나로 나온다. <br>\n",
    "하지만 sigmoid 는 0~1 사이의 값으로 나와야한다. <br>\n",
    "<변경><br>\n",
    "a = 0.7 / b = 0.2 / c = 0.1  총 합은 1<br>\n",
    "이것이 softmax 라는 함수"
   ]
  },
  {
   "cell_type": "markdown",
   "metadata": {},
   "source": [
    "'one-hot encoding' 사용하여 확률이 높은 것을 1 로 하고 낮은 것을 0으로 변경"
   ]
  },
  {
   "cell_type": "markdown",
   "metadata": {},
   "source": [
    "cross-entropy 라는 함수로 실제값과 softmax 로 구한 값의 차이를 구해줌  즉  cost 의 값"
   ]
  },
  {
   "cell_type": "markdown",
   "metadata": {},
   "source": [
    "실제 값이랑 예측 값이랑 맞으면 cost값이 0이고<br>\n",
    "틀리면 무한히 값이 커진다.<br>"
   ]
  },
  {
   "cell_type": "markdown",
   "metadata": {},
   "source": [
    "---"
   ]
  },
  {
   "cell_type": "code",
   "execution_count": 1,
   "metadata": {},
   "outputs": [
    {
     "name": "stderr",
     "output_type": "stream",
     "text": [
      "D:\\anaconda\\lib\\site-packages\\h5py\\__init__.py:36: FutureWarning: Conversion of the second argument of issubdtype from `float` to `np.floating` is deprecated. In future, it will be treated as `np.float64 == np.dtype(float).type`.\n",
      "  from ._conv import register_converters as _register_converters\n"
     ]
    }
   ],
   "source": [
    "import tensorflow as tf"
   ]
  },
  {
   "cell_type": "code",
   "execution_count": 3,
   "metadata": {},
   "outputs": [],
   "source": [
    "x_data = [[1,2,1,1],[2,1,3,2],[3,1,3,4],[4,1,5,5],[1,7,5,5],[1,2,5,6],[1,6,6,6],[1,7,7,7]]\n",
    "y_data = [[0,0,1],[0,0,1],[0,0,1],[0,1,0],[0,1,0],[0,1,0],[1,0,0],[1,0,0]]\n",
    "# ont_hot_encoding 이고 하나만 1로 하여 구분을 한다\n",
    "X= tf.placeholder(\"float\",[None,4])\n",
    "Y= tf.placeholder(\"float\",[None,3])\n",
    "nb_classes =3\n",
    "\n",
    "W = tf.Variable(tf.random_normal([4,nb_classes]), name='weight')\n",
    "b = tf.Variable(tf.random_normal([nb_classes]), name='bias')\n",
    "#shape 주의\n",
    "hypothesis = tf.nn.softmax(tf.matmul(X, W)+b)\n",
    "\n",
    "cost = tf.reduce_mean(-tf.reduce_sum(Y * tf.log(hypothesis),axis=1))\n",
    "optimizer = tf.train.GradientDescentOptimizer(learning_rate=0.1).minimize(cost)"
   ]
  },
  {
   "cell_type": "code",
   "execution_count": 6,
   "metadata": {},
   "outputs": [
    {
     "name": "stdout",
     "output_type": "stream",
     "text": [
      "0 2.095614\n",
      "200 0.61765397\n",
      "400 0.5242207\n",
      "600 0.43618065\n",
      "800 0.34824982\n",
      "1000 0.26159832\n",
      "1200 0.22220655\n",
      "1400 0.20271719\n",
      "1600 0.18623245\n",
      "1800 0.1721226\n",
      "2000 0.15992069\n"
     ]
    }
   ],
   "source": [
    "with tf.Session() as sess:\n",
    "    sess.run(tf.global_variables_initializer())\n",
    "    \n",
    "    for step in range(2001):\n",
    "        sess.run(optimizer, feed_dict={X: x_data, Y:y_data})\n",
    "        if step % 200 ==0:\n",
    "            print(step,sess.run(cost,feed_dict={X:x_data, Y:y_data}))"
   ]
  },
  {
   "cell_type": "markdown",
   "metadata": {},
   "source": [
    "arg_max = 몇번째 있는것이 높은 건지 물어봄"
   ]
  },
  {
   "cell_type": "code",
   "execution_count": 24,
   "metadata": {},
   "outputs": [
    {
     "name": "stdout",
     "output_type": "stream",
     "text": [
      "[[6.4962758e-03 9.9350375e-01 3.5924734e-15]\n",
      " [9.4727063e-01 5.2466612e-02 2.6277208e-04]\n",
      " [6.6132313e-01 2.9340395e-01 4.5272917e-02]] [1 0 0]\n"
     ]
    }
   ],
   "source": [
    "with tf.Session() as sess:\n",
    "    sess.run(tf.global_variables_initializer())\n",
    "    all = sess.run(hypothesis, feed_dict={X : [[1,11,7,9],[1,3,4,3],[1,1,0,1]]})\n",
    "    print(all, sess.run(tf.arg_max(all,1)))"
   ]
  },
  {
   "cell_type": "code",
   "execution_count": 1,
   "metadata": {},
   "outputs": [],
   "source": [
    "# 1번째 인덱스 값이 제일 높고 \n",
    "# 0번째 인덱스 값이 제일 높다.\n",
    "# 0번쨰 인덱스 값이 제일 높다"
   ]
  },
  {
   "cell_type": "markdown",
   "metadata": {},
   "source": [
    "---"
   ]
  },
  {
   "cell_type": "markdown",
   "metadata": {},
   "source": [
    "cross_ebtropy , one_hot , reshape"
   ]
  },
  {
   "cell_type": "markdown",
   "metadata": {},
   "source": [
    "logits=tf.matmul(X, W)+b  #logits 을 scores 라고 부른다 <br>\n",
    "#matmul 은 scores를 넣으면 확률로 나오게 되는 함수<br>\n",
    "hypothesis = tf.nn.softmax(logits)\n"
   ]
  },
  {
   "cell_type": "markdown",
   "metadata": {},
   "source": [
    "cost = tf.reduce_mean(-tf.reduce_sum(Y * tf.log(hypothesis),axis=1))<Br>\n",
    "이렇게 하는 방법보다는\n",
    "    cost_i = tf.nn.softmax_cross_entropy_<b>with_logits(logits=logits</b> , labels=Y_one_hot)<Br>\n",
    "cost = tf.reduce_mean(cost_i)"
   ]
  },
  {
   "cell_type": "code",
   "execution_count": 16,
   "metadata": {},
   "outputs": [],
   "source": [
    "import tensorflow as tf\n",
    "import numpy as np"
   ]
  },
  {
   "cell_type": "code",
   "execution_count": 1,
   "metadata": {},
   "outputs": [
    {
     "ename": "NameError",
     "evalue": "name 'np' is not defined",
     "output_type": "error",
     "traceback": [
      "\u001b[1;31m---------------------------------------------------------------------------\u001b[0m",
      "\u001b[1;31mNameError\u001b[0m                                 Traceback (most recent call last)",
      "\u001b[1;32m<ipython-input-1-7a1f7b53cf1b>\u001b[0m in \u001b[0;36m<module>\u001b[1;34m\u001b[0m\n\u001b[0;32m      1\u001b[0m \u001b[1;31m# 이 동물이 어떠한 종류인지 분류 (0~6 7가지의 종류로 예측)\u001b[0m\u001b[1;33m\u001b[0m\u001b[1;33m\u001b[0m\u001b[1;33m\u001b[0m\u001b[0m\n\u001b[1;32m----> 2\u001b[1;33m \u001b[0mxy\u001b[0m \u001b[1;33m=\u001b[0m \u001b[0mnp\u001b[0m\u001b[1;33m.\u001b[0m\u001b[0mloadtxt\u001b[0m\u001b[1;33m(\u001b[0m\u001b[1;34m'zoo.csv'\u001b[0m\u001b[1;33m,\u001b[0m\u001b[0mdelimiter\u001b[0m\u001b[1;33m=\u001b[0m\u001b[1;34m','\u001b[0m\u001b[1;33m,\u001b[0m\u001b[0mdtype\u001b[0m\u001b[1;33m=\u001b[0m\u001b[0mnp\u001b[0m\u001b[1;33m.\u001b[0m\u001b[0mfloat32\u001b[0m\u001b[1;33m)\u001b[0m\u001b[1;33m\u001b[0m\u001b[1;33m\u001b[0m\u001b[0m\n\u001b[0m\u001b[0;32m      3\u001b[0m \u001b[0mx_data\u001b[0m \u001b[1;33m=\u001b[0m \u001b[0mxy\u001b[0m\u001b[1;33m[\u001b[0m\u001b[1;33m:\u001b[0m\u001b[1;33m,\u001b[0m \u001b[1;36m0\u001b[0m\u001b[1;33m:\u001b[0m\u001b[1;33m-\u001b[0m\u001b[1;36m1\u001b[0m\u001b[1;33m]\u001b[0m\u001b[1;33m\u001b[0m\u001b[1;33m\u001b[0m\u001b[0m\n\u001b[0;32m      4\u001b[0m \u001b[0my_data\u001b[0m \u001b[1;33m=\u001b[0m \u001b[0mxy\u001b[0m\u001b[1;33m[\u001b[0m\u001b[1;33m:\u001b[0m\u001b[1;33m,\u001b[0m\u001b[1;33m[\u001b[0m\u001b[1;33m-\u001b[0m\u001b[1;36m1\u001b[0m\u001b[1;33m]\u001b[0m\u001b[1;33m]\u001b[0m\u001b[1;33m\u001b[0m\u001b[1;33m\u001b[0m\u001b[0m\n",
      "\u001b[1;31mNameError\u001b[0m: name 'np' is not defined"
     ]
    }
   ],
   "source": [
    "# 이 동물이 어떠한 종류인지 분류 (0~6 7가지의 종류로 예측)\n",
    "xy = np.loadtxt('zoo.csv',delimiter=',',dtype=np.float32)\n",
    "x_data = xy[:, 0:-1]\n",
    "y_data = xy[:,[-1]]"
   ]
  },
  {
   "cell_type": "code",
   "execution_count": 18,
   "metadata": {},
   "outputs": [],
   "source": [
    "nb_classes =7 #7가지의 종류\n",
    "\n",
    "X = tf.placeholder(tf.float32, [None,16])\n",
    "Y = tf.placeholder(tf.int32, [None,1]) #shape(? , 1)  [[0],[3]]\n",
    "Y_one_hot = tf.one_hot(Y, nb_classes)  #shape(? , 1, 7) [[[1000000]],[[0001000]]]\n",
    "#지금 데이터에는 0~6으로 되어있음 \n",
    "# one_hot 함수로 하나만 1로 되도록 변경해야함\n",
    "Y_one_hot = tf.reshape(Y_one_hot,[-1, nb_classes]) # shape(?,7) [[10000000],[0001000]]\n",
    " # reshape 차원을 바꿔줌"
   ]
  },
  {
   "cell_type": "code",
   "execution_count": 20,
   "metadata": {},
   "outputs": [
    {
     "name": "stdout",
     "output_type": "stream",
     "text": [
      "WARNING:tensorflow:From <ipython-input-20-51435c3db03e>:7: softmax_cross_entropy_with_logits (from tensorflow.python.ops.nn_ops) is deprecated and will be removed in a future version.\n",
      "Instructions for updating:\n",
      "\n",
      "Future major versions of TensorFlow will allow gradients to flow\n",
      "into the labels input on backprop by default.\n",
      "\n",
      "See `tf.nn.softmax_cross_entropy_with_logits_v2`.\n",
      "\n"
     ]
    }
   ],
   "source": [
    "W = tf.Variable(tf.random_normal([16, nb_classes]),name='weight')\n",
    "b = tf.Variable(tf.random_normal([nb_classes]), name='bias')\n",
    "\n",
    "logits = tf.matmul(X,W)+b\n",
    "hypothesis = tf.nn.softmax(logits)\n",
    "\n",
    "cost_i = tf.nn.softmax_cross_entropy_with_logits(logits=logits, labels=Y_one_hot)\n",
    "\n",
    "cost = tf.reduce_mean(cost_i)\n",
    "optimizer = tf.train.GradientDescentOptimizer(learning_rate=0.1).minimize(cost)"
   ]
  },
  {
   "cell_type": "code",
   "execution_count": 32,
   "metadata": {},
   "outputs": [
    {
     "name": "stdout",
     "output_type": "stream",
     "text": [
      "Step:     0\tLoss: 5.771\tACC:8.91%\n",
      "Step:   100\tLoss: 0.462\tACC:80.20%\n",
      "Step:   200\tLoss: 0.248\tACC:85.15%\n",
      "Step:   300\tLoss: 0.180\tACC:88.12%\n",
      "Step:   400\tLoss: 0.145\tACC:87.13%\n",
      "Step:   500\tLoss: 0.123\tACC:87.13%\n",
      "Step:   600\tLoss: 0.107\tACC:88.12%\n",
      "Step:   700\tLoss: 0.096\tACC:89.11%\n",
      "Step:   800\tLoss: 0.087\tACC:89.11%\n",
      "Step:   900\tLoss: 0.080\tACC:90.10%\n",
      "Step:  1000\tLoss: 0.074\tACC:91.09%\n",
      "Step:  1100\tLoss: 0.070\tACC:91.09%\n",
      "Step:  1200\tLoss: 0.065\tACC:91.09%\n",
      "Step:  1300\tLoss: 0.062\tACC:91.09%\n",
      "Step:  1400\tLoss: 0.059\tACC:91.09%\n",
      "Step:  1500\tLoss: 0.056\tACC:91.09%\n",
      "Step:  1600\tLoss: 0.054\tACC:91.09%\n",
      "Step:  1700\tLoss: 0.052\tACC:91.09%\n",
      "Step:  1800\tLoss: 0.050\tACC:91.09%\n",
      "Step:  1900\tLoss: 0.048\tACC:91.09%\n",
      "[True] Prediction: 1 True Y: 1\n",
      "[True] Prediction: 1 True Y: 1\n",
      "[True] Prediction: 4 True Y: 4\n",
      "[True] Prediction: 1 True Y: 1\n",
      "[True] Prediction: 1 True Y: 1\n",
      "[True] Prediction: 1 True Y: 1\n",
      "[True] Prediction: 1 True Y: 1\n",
      "[True] Prediction: 4 True Y: 4\n",
      "[True] Prediction: 4 True Y: 4\n",
      "[True] Prediction: 1 True Y: 1\n",
      "[True] Prediction: 1 True Y: 1\n",
      "[True] Prediction: 2 True Y: 2\n",
      "[True] Prediction: 4 True Y: 4\n",
      "[False] Prediction: 3 True Y: 7\n",
      "[False] Prediction: 4 True Y: 7\n",
      "[False] Prediction: 5 True Y: 7\n",
      "[True] Prediction: 2 True Y: 2\n",
      "[True] Prediction: 1 True Y: 1\n",
      "[True] Prediction: 4 True Y: 4\n",
      "[True] Prediction: 1 True Y: 1\n",
      "[True] Prediction: 2 True Y: 2\n",
      "[True] Prediction: 2 True Y: 2\n",
      "[True] Prediction: 1 True Y: 1\n",
      "[True] Prediction: 2 True Y: 2\n",
      "[True] Prediction: 6 True Y: 6\n",
      "[True] Prediction: 5 True Y: 5\n",
      "[True] Prediction: 5 True Y: 5\n",
      "[True] Prediction: 1 True Y: 1\n",
      "[True] Prediction: 1 True Y: 1\n",
      "[True] Prediction: 1 True Y: 1\n",
      "[True] Prediction: 6 True Y: 6\n",
      "[True] Prediction: 1 True Y: 1\n",
      "[True] Prediction: 1 True Y: 1\n",
      "[True] Prediction: 2 True Y: 2\n",
      "[True] Prediction: 4 True Y: 4\n",
      "[True] Prediction: 1 True Y: 1\n",
      "[True] Prediction: 1 True Y: 1\n",
      "[True] Prediction: 2 True Y: 2\n",
      "[True] Prediction: 4 True Y: 4\n",
      "[True] Prediction: 6 True Y: 6\n",
      "[True] Prediction: 6 True Y: 6\n",
      "[True] Prediction: 2 True Y: 2\n",
      "[True] Prediction: 6 True Y: 6\n",
      "[True] Prediction: 2 True Y: 2\n",
      "[True] Prediction: 1 True Y: 1\n",
      "[True] Prediction: 1 True Y: 1\n",
      "[False] Prediction: 5 True Y: 7\n",
      "[True] Prediction: 1 True Y: 1\n",
      "[True] Prediction: 1 True Y: 1\n",
      "[True] Prediction: 1 True Y: 1\n",
      "[True] Prediction: 1 True Y: 1\n",
      "[True] Prediction: 6 True Y: 6\n",
      "[True] Prediction: 5 True Y: 5\n",
      "[False] Prediction: 0 True Y: 7\n",
      "[True] Prediction: 1 True Y: 1\n",
      "[True] Prediction: 1 True Y: 1\n",
      "[True] Prediction: 2 True Y: 2\n",
      "[True] Prediction: 2 True Y: 2\n",
      "[True] Prediction: 2 True Y: 2\n",
      "[True] Prediction: 2 True Y: 2\n",
      "[True] Prediction: 4 True Y: 4\n",
      "[True] Prediction: 4 True Y: 4\n",
      "[True] Prediction: 3 True Y: 3\n",
      "[True] Prediction: 1 True Y: 1\n",
      "[True] Prediction: 1 True Y: 1\n",
      "[True] Prediction: 1 True Y: 1\n",
      "[True] Prediction: 1 True Y: 1\n",
      "[True] Prediction: 1 True Y: 1\n",
      "[True] Prediction: 1 True Y: 1\n",
      "[True] Prediction: 1 True Y: 1\n",
      "[True] Prediction: 1 True Y: 1\n",
      "[True] Prediction: 2 True Y: 2\n",
      "[False] Prediction: 3 True Y: 7\n",
      "[True] Prediction: 4 True Y: 4\n",
      "[True] Prediction: 1 True Y: 1\n",
      "[True] Prediction: 1 True Y: 1\n",
      "[True] Prediction: 3 True Y: 3\n",
      "[False] Prediction: 4 True Y: 7\n",
      "[True] Prediction: 2 True Y: 2\n",
      "[True] Prediction: 2 True Y: 2\n",
      "[True] Prediction: 3 True Y: 3\n",
      "[False] Prediction: 6 True Y: 7\n",
      "[True] Prediction: 4 True Y: 4\n",
      "[True] Prediction: 2 True Y: 2\n",
      "[True] Prediction: 1 True Y: 1\n",
      "[False] Prediction: 5 True Y: 7\n",
      "[True] Prediction: 4 True Y: 4\n",
      "[True] Prediction: 2 True Y: 2\n",
      "[True] Prediction: 6 True Y: 6\n",
      "[True] Prediction: 5 True Y: 5\n",
      "[True] Prediction: 3 True Y: 3\n",
      "[True] Prediction: 3 True Y: 3\n",
      "[True] Prediction: 4 True Y: 4\n",
      "[True] Prediction: 1 True Y: 1\n",
      "[True] Prediction: 1 True Y: 1\n",
      "[True] Prediction: 2 True Y: 2\n",
      "[True] Prediction: 1 True Y: 1\n",
      "[True] Prediction: 6 True Y: 6\n",
      "[True] Prediction: 1 True Y: 1\n",
      "[False] Prediction: 6 True Y: 7\n",
      "[True] Prediction: 2 True Y: 2\n"
     ]
    }
   ],
   "source": [
    "#예측한 값이 맞은건지 틀린건지 알아보기 위해\n",
    "prediction = tf.argmax(hypothesis,1) #hypothesis를 레벨로 변경\n",
    "correct_prediction = tf.equal(prediction,tf.argmax(Y_one_hot,1)) #one_hot한 거랑 비교\n",
    "accuracy = tf.reduce_mean(tf.cast(correct_prediction,tf.float32))# 맞은것을 모아서 평균을 구함 = 정확도\n",
    "\n",
    "with tf.Session() as sess:\n",
    "    sess.run(tf.global_variables_initializer())\n",
    "    \n",
    "    for step in range(2000):\n",
    "        sess.run(optimizer, feed_dict={X: x_data, Y:y_data})\n",
    "        if step % 100 ==0:\n",
    "            loss, acc = sess.run([cost,accuracy],feed_dict={X: x_data, Y:y_data})\n",
    "            \n",
    "            print(\"Step: {:5}\\tLoss: {:.3f}\\tACC:{:.2%}\".format(\n",
    "            step, loss, acc))\n",
    "            \n",
    "    pred = sess.run(prediction, feed_dict={X: x_data})\n",
    "    #flatten = [[1],[0]] -> [1,0]\n",
    "    #zip 각각의 리스트를 zip으로 묶어서 넘김\n",
    "    for p , y in zip(pred, y_data.flatten()):\n",
    "        print(\"[{}] Prediction: {} True Y: {}\".format(p==int(y),p,int(y)))"
   ]
  }
 ],
 "metadata": {
  "kernelspec": {
   "display_name": "Python 3",
   "language": "python",
   "name": "python3"
  },
  "language_info": {
   "codemirror_mode": {
    "name": "ipython",
    "version": 3
   },
   "file_extension": ".py",
   "mimetype": "text/x-python",
   "name": "python",
   "nbconvert_exporter": "python",
   "pygments_lexer": "ipython3",
   "version": "3.6.10"
  }
 },
 "nbformat": 4,
 "nbformat_minor": 4
}
