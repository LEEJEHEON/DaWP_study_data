{
 "cells": [
  {
   "cell_type": "markdown",
   "metadata": {},
   "source": [
    "## ML lec 01"
   ]
  },
  {
   "cell_type": "markdown",
   "metadata": {},
   "source": [
    "<b>Machine Learning </b><br>\n",
    "- 일종의 소프트웨어 \n",
    "- 프로그램이 학습해서 뭔가를 배우는 프로그램"
   ]
  },
  {
   "cell_type": "markdown",
   "metadata": {},
   "source": [
    "<b>Supervised learning </b>\n",
    "- 학습을 위해 레이블이 주어진다.\n",
    "- ex) 사물인식을 위해 사진을 먼저 보여주면 교육 <br>\n",
    "\n",
    "<b>Unsupervised learning</b>\n",
    "- 레이블 줄 수 없는 경우\n",
    "- ex) 자동적으로 유사한 뉴스를 그룹을 함 (구글뉴스) \n",
    "- ex) 비슷한 단어르 모아라 \n",
    "- 데이터를 주고 스스로 학습을 하게 한다."
   ]
  },
  {
   "cell_type": "markdown",
   "metadata": {},
   "source": [
    "<b>Training data set </b>\n",
    "- Supervised learning 에서 학습을 위해 미리 주어지는 데이터\n",
    "- ex) AlphaGo 도 미리 Supervised leaning 으로 학습을 받음"
   ]
  },
  {
   "cell_type": "markdown",
   "metadata": {},
   "source": [
    "<B> Types of Supervised learning </B><br>\n",
    "1. 시험 성적을 예측 하는 시스템\n",
    "- regression (예측)\n",
    "2. 시험 성적을 pass/ non-pass 로 예측\n",
    "- binary classification (두개중에 하나를 정하는 것)\n",
    "3. 시험 성적을 A,B,C,E,F 로 나눔\n",
    "- multi-label classification (종류가 많을때)"
   ]
  },
  {
   "cell_type": "markdown",
   "metadata": {},
   "source": [
    "<b> Data flow grape</b> <br>\n",
    "- node로 연결되어 연산이 되어 원하는 결과가 추출되는 그래프"
   ]
  },
  {
   "cell_type": "markdown",
   "metadata": {},
   "source": [
    "----"
   ]
  },
  {
   "cell_type": "code",
   "execution_count": 1,
   "metadata": {},
   "outputs": [
    {
     "name": "stderr",
     "output_type": "stream",
     "text": [
      "D:\\anaconda\\lib\\site-packages\\h5py\\__init__.py:36: FutureWarning: Conversion of the second argument of issubdtype from `float` to `np.floating` is deprecated. In future, it will be treated as `np.float64 == np.dtype(float).type`.\n",
      "  from ._conv import register_converters as _register_converters\n"
     ]
    }
   ],
   "source": [
    "import tensorflow as tf"
   ]
  },
  {
   "cell_type": "code",
   "execution_count": 2,
   "metadata": {},
   "outputs": [],
   "source": [
    " #그래프 빌드\n",
    "node1 = tf .constant(3.0, tf.float32)\n",
    "node2 = tf.constant(4.0)\n",
    "node3 = tf.add(node1,node2)\n"
   ]
  },
  {
   "cell_type": "code",
   "execution_count": 4,
   "metadata": {},
   "outputs": [
    {
     "name": "stdout",
     "output_type": "stream",
     "text": [
      "node1 Tensor(\"Const:0\", shape=(), dtype=float32) node2: Tensor(\"Const_1:0\", shape=(), dtype=float32)\n",
      "node3: Tensor(\"Add:0\", shape=(), dtype=float32)\n"
     ]
    }
   ],
   "source": [
    "print(\"node1\", node1,\"node2:\",node2)\n",
    "print(\"node3:\",node3)\n",
    "    # 이렇게 바로 하면 원하는 결과값이 안나오고 node1 ,2,3 의 설명만 나옴"
   ]
  },
  {
   "cell_type": "code",
   "execution_count": 5,
   "metadata": {},
   "outputs": [
    {
     "name": "stdout",
     "output_type": "stream",
     "text": [
      "sess.run(node1,node2): [3.0, 4.0]\n",
      "sess.run(node3): 7.0\n"
     ]
    }
   ],
   "source": [
    "sess = tf.Session()\n",
    "print(\"sess.run(node1,node2):\" ,sess.run([node1,node2]))\n",
    "print(\"sess.run(node3):\",sess.run(node3))\n",
    "    \n",
    "   # 이렇게 하면 원하는 결과로 실행이 된다."
   ]
  },
  {
   "cell_type": "markdown",
   "metadata": {},
   "source": [
    "2. 그래프를 먼저 만들고 값을 넣어서 실행 "
   ]
  },
  {
   "cell_type": "code",
   "execution_count": 7,
   "metadata": {},
   "outputs": [
    {
     "name": "stdout",
     "output_type": "stream",
     "text": [
      "7.5\n",
      "[3. 7.]\n"
     ]
    }
   ],
   "source": [
    "a = tf.placeholder(tf.float32)\n",
    "b = tf.placeholder(tf.float32)\n",
    "# placeholder 라고 특별하게 만듬\n",
    "adder_node = a + b\n",
    "print(sess.run(adder_node,feed_dict={a:3,b:4.5}))\n",
    "print(sess.run(adder_node,feed_dict={a:[1,3],b:[2,4]}))\n",
    "#feed_dict 로 값을 넘겨줌\n",
    "    "
   ]
  },
  {
   "cell_type": "markdown",
   "metadata": {},
   "source": [
    "<b> Tensor </b><br>\n",
    "기본적인 array를 뜻함<br>\n",
    "1. Ranks <br>\n",
    " 0차원 array  ~ n 차원 <br>\n",
    "2. Shapes <br>\n",
    " 각각 몇개나 들어가 있는가?? <br>\n",
    " [총갯수, 안쪽갯수]<br>\n",
    " 0 ~ n<Br>\n",
    "3. Types<br>\n",
    " 데이터 타입이 어떻게 되는가<br>"
   ]
  }
 ],
 "metadata": {
  "kernelspec": {
   "display_name": "Python 3",
   "language": "python",
   "name": "python3"
  },
  "language_info": {
   "codemirror_mode": {
    "name": "ipython",
    "version": 3
   },
   "file_extension": ".py",
   "mimetype": "text/x-python",
   "name": "python",
   "nbconvert_exporter": "python",
   "pygments_lexer": "ipython3",
   "version": "3.6.10"
  }
 },
 "nbformat": 4,
 "nbformat_minor": 4
}
