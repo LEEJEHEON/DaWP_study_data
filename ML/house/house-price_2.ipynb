{
 "cells": [
  {
   "cell_type": "code",
   "execution_count": 2,
   "metadata": {},
   "outputs": [
    {
     "name": "stderr",
     "output_type": "stream",
     "text": [
      "D:\\anaconda\\lib\\site-packages\\h5py\\__init__.py:36: FutureWarning: Conversion of the second argument of issubdtype from `float` to `np.floating` is deprecated. In future, it will be treated as `np.float64 == np.dtype(float).type`.\n",
      "  from ._conv import register_converters as _register_converters\n"
     ]
    }
   ],
   "source": [
    "import pandas as pd\n",
    "import numpy as np\n",
    "import matplotlib\n",
    "import matplotlib.pyplot as plt\n",
    "import tensorflow as tf\n",
    "%matplotlib inline\n",
    "import seaborn as sns"
   ]
  },
  {
   "cell_type": "code",
   "execution_count": 3,
   "metadata": {},
   "outputs": [],
   "source": [
    "df = pd.read_csv(\"train.csv\")"
   ]
  },
  {
   "cell_type": "code",
   "execution_count": 4,
   "metadata": {},
   "outputs": [
    {
     "data": {
      "text/html": [
       "<div>\n",
       "<style scoped>\n",
       "    .dataframe tbody tr th:only-of-type {\n",
       "        vertical-align: middle;\n",
       "    }\n",
       "\n",
       "    .dataframe tbody tr th {\n",
       "        vertical-align: top;\n",
       "    }\n",
       "\n",
       "    .dataframe thead th {\n",
       "        text-align: right;\n",
       "    }\n",
       "</style>\n",
       "<table border=\"1\" class=\"dataframe\">\n",
       "  <thead>\n",
       "    <tr style=\"text-align: right;\">\n",
       "      <th></th>\n",
       "      <th>Id</th>\n",
       "      <th>MSSubClass</th>\n",
       "      <th>MSZoning</th>\n",
       "      <th>LotFrontage</th>\n",
       "      <th>LotArea</th>\n",
       "      <th>Street</th>\n",
       "      <th>Alley</th>\n",
       "      <th>LotShape</th>\n",
       "      <th>LandContour</th>\n",
       "      <th>Utilities</th>\n",
       "      <th>...</th>\n",
       "      <th>PoolArea</th>\n",
       "      <th>PoolQC</th>\n",
       "      <th>Fence</th>\n",
       "      <th>MiscFeature</th>\n",
       "      <th>MiscVal</th>\n",
       "      <th>MoSold</th>\n",
       "      <th>YrSold</th>\n",
       "      <th>SaleType</th>\n",
       "      <th>SaleCondition</th>\n",
       "      <th>SalePrice</th>\n",
       "    </tr>\n",
       "  </thead>\n",
       "  <tbody>\n",
       "    <tr>\n",
       "      <th>0</th>\n",
       "      <td>1</td>\n",
       "      <td>60</td>\n",
       "      <td>RL</td>\n",
       "      <td>65.0</td>\n",
       "      <td>8450</td>\n",
       "      <td>Pave</td>\n",
       "      <td>NaN</td>\n",
       "      <td>Reg</td>\n",
       "      <td>Lvl</td>\n",
       "      <td>AllPub</td>\n",
       "      <td>...</td>\n",
       "      <td>0</td>\n",
       "      <td>NaN</td>\n",
       "      <td>NaN</td>\n",
       "      <td>NaN</td>\n",
       "      <td>0</td>\n",
       "      <td>2</td>\n",
       "      <td>2008</td>\n",
       "      <td>WD</td>\n",
       "      <td>Normal</td>\n",
       "      <td>208500</td>\n",
       "    </tr>\n",
       "    <tr>\n",
       "      <th>1</th>\n",
       "      <td>2</td>\n",
       "      <td>20</td>\n",
       "      <td>RL</td>\n",
       "      <td>80.0</td>\n",
       "      <td>9600</td>\n",
       "      <td>Pave</td>\n",
       "      <td>NaN</td>\n",
       "      <td>Reg</td>\n",
       "      <td>Lvl</td>\n",
       "      <td>AllPub</td>\n",
       "      <td>...</td>\n",
       "      <td>0</td>\n",
       "      <td>NaN</td>\n",
       "      <td>NaN</td>\n",
       "      <td>NaN</td>\n",
       "      <td>0</td>\n",
       "      <td>5</td>\n",
       "      <td>2007</td>\n",
       "      <td>WD</td>\n",
       "      <td>Normal</td>\n",
       "      <td>181500</td>\n",
       "    </tr>\n",
       "    <tr>\n",
       "      <th>2</th>\n",
       "      <td>3</td>\n",
       "      <td>60</td>\n",
       "      <td>RL</td>\n",
       "      <td>68.0</td>\n",
       "      <td>11250</td>\n",
       "      <td>Pave</td>\n",
       "      <td>NaN</td>\n",
       "      <td>IR1</td>\n",
       "      <td>Lvl</td>\n",
       "      <td>AllPub</td>\n",
       "      <td>...</td>\n",
       "      <td>0</td>\n",
       "      <td>NaN</td>\n",
       "      <td>NaN</td>\n",
       "      <td>NaN</td>\n",
       "      <td>0</td>\n",
       "      <td>9</td>\n",
       "      <td>2008</td>\n",
       "      <td>WD</td>\n",
       "      <td>Normal</td>\n",
       "      <td>223500</td>\n",
       "    </tr>\n",
       "    <tr>\n",
       "      <th>3</th>\n",
       "      <td>4</td>\n",
       "      <td>70</td>\n",
       "      <td>RL</td>\n",
       "      <td>60.0</td>\n",
       "      <td>9550</td>\n",
       "      <td>Pave</td>\n",
       "      <td>NaN</td>\n",
       "      <td>IR1</td>\n",
       "      <td>Lvl</td>\n",
       "      <td>AllPub</td>\n",
       "      <td>...</td>\n",
       "      <td>0</td>\n",
       "      <td>NaN</td>\n",
       "      <td>NaN</td>\n",
       "      <td>NaN</td>\n",
       "      <td>0</td>\n",
       "      <td>2</td>\n",
       "      <td>2006</td>\n",
       "      <td>WD</td>\n",
       "      <td>Abnorml</td>\n",
       "      <td>140000</td>\n",
       "    </tr>\n",
       "    <tr>\n",
       "      <th>4</th>\n",
       "      <td>5</td>\n",
       "      <td>60</td>\n",
       "      <td>RL</td>\n",
       "      <td>84.0</td>\n",
       "      <td>14260</td>\n",
       "      <td>Pave</td>\n",
       "      <td>NaN</td>\n",
       "      <td>IR1</td>\n",
       "      <td>Lvl</td>\n",
       "      <td>AllPub</td>\n",
       "      <td>...</td>\n",
       "      <td>0</td>\n",
       "      <td>NaN</td>\n",
       "      <td>NaN</td>\n",
       "      <td>NaN</td>\n",
       "      <td>0</td>\n",
       "      <td>12</td>\n",
       "      <td>2008</td>\n",
       "      <td>WD</td>\n",
       "      <td>Normal</td>\n",
       "      <td>250000</td>\n",
       "    </tr>\n",
       "  </tbody>\n",
       "</table>\n",
       "<p>5 rows × 81 columns</p>\n",
       "</div>"
      ],
      "text/plain": [
       "   Id  MSSubClass MSZoning  LotFrontage  LotArea Street Alley LotShape  \\\n",
       "0   1          60       RL         65.0     8450   Pave   NaN      Reg   \n",
       "1   2          20       RL         80.0     9600   Pave   NaN      Reg   \n",
       "2   3          60       RL         68.0    11250   Pave   NaN      IR1   \n",
       "3   4          70       RL         60.0     9550   Pave   NaN      IR1   \n",
       "4   5          60       RL         84.0    14260   Pave   NaN      IR1   \n",
       "\n",
       "  LandContour Utilities    ...     PoolArea PoolQC Fence MiscFeature MiscVal  \\\n",
       "0         Lvl    AllPub    ...            0    NaN   NaN         NaN       0   \n",
       "1         Lvl    AllPub    ...            0    NaN   NaN         NaN       0   \n",
       "2         Lvl    AllPub    ...            0    NaN   NaN         NaN       0   \n",
       "3         Lvl    AllPub    ...            0    NaN   NaN         NaN       0   \n",
       "4         Lvl    AllPub    ...            0    NaN   NaN         NaN       0   \n",
       "\n",
       "  MoSold YrSold  SaleType  SaleCondition  SalePrice  \n",
       "0      2   2008        WD         Normal     208500  \n",
       "1      5   2007        WD         Normal     181500  \n",
       "2      9   2008        WD         Normal     223500  \n",
       "3      2   2006        WD        Abnorml     140000  \n",
       "4     12   2008        WD         Normal     250000  \n",
       "\n",
       "[5 rows x 81 columns]"
      ]
     },
     "execution_count": 4,
     "metadata": {},
     "output_type": "execute_result"
    }
   ],
   "source": [
    "df.head()"
   ]
  },
  {
   "cell_type": "code",
   "execution_count": 5,
   "metadata": {},
   "outputs": [],
   "source": [
    "category = [ col for col in df.columns if df[col].dtypes == \"object\"]"
   ]
  },
  {
   "cell_type": "code",
   "execution_count": 11,
   "metadata": {},
   "outputs": [
    {
     "data": {
      "image/png": "[encoded data removed]",
      "text/plain": [
       "<Figure size 432x288 with 1 Axes>"
      ]
     },
     "metadata": {
      "needs_background": "light"
     },
     "output_type": "display_data"
    },
    {
     "data": {
      "image/png": "[encoded data removed]",
      "text/plain": [
       "<Figure size 432x288 with 1 Axes>"
      ]
     },
     "metadata": {
      "needs_background": "light"
     },
     "output_type": "display_data"
    },
    {
     "data": {
      "image/png": "[encoded data removed]",
      "text/plain": [
       "<Figure size 432x288 with 1 Axes>"
      ]
     },
     "metadata": {
      "needs_background": "light"
     },
     "output_type": "display_data"
    },
    {
     "data": {
      "image/png": "[encoded data removed]",
      "text/plain": [
       "<Figure size 432x288 with 1 Axes>"
      ]
     },
     "metadata": {
      "needs_background": "light"
     },
     "output_type": "display_data"
    },
    {
     "data": {
      "image/png": "[encoded data removed]",
      "text/plain": [
       "<Figure size 432x288 with 1 Axes>"
      ]
     },
     "metadata": {
      "needs_background": "light"
     },
     "output_type": "display_data"
    },
    {
     "data": {
      "image/png": "[encoded data removed]",
      "text/plain": [
       "<Figure size 432x288 with 1 Axes>"
      ]
     },
     "metadata": {
      "needs_background": "light"
     },
     "output_type": "display_data"
    },
    {
     "data": {
      "image/png": "[encoded data removed]",
      "text/plain": [
       "<Figure size 432x288 with 1 Axes>"
      ]
     },
     "metadata": {
      "needs_background": "light"
     },
     "output_type": "display_data"
    },
    {
     "data": {
      "image/png": "[encoded data removed]",
      "text/plain": [
       "<Figure size 432x288 with 1 Axes>"
      ]
     },
     "metadata": {
      "needs_background": "light"
     },
     "output_type": "display_data"
    },
    {
     "data": {
      "image/png": "[encoded data removed]",
      "text/plain": [
       "<Figure size 432x288 with 1 Axes>"
      ]
     },
     "metadata": {
      "needs_background": "light"
     },
     "output_type": "display_data"
    },
    {
     "data": {
      "image/png": "[encoded data removed]",
      "text/plain": [
       "<Figure size 432x288 with 1 Axes>"
      ]
     },
     "metadata": {
      "needs_background": "light"
     },
     "output_type": "display_data"
    },
    {
     "data": {
      "image/png": "[encoded data removed]",
      "text/plain": [
       "<Figure size 432x288 with 1 Axes>"
      ]
     },
     "metadata": {
      "needs_background": "light"
     },
     "output_type": "display_data"
    },
    {
     "data": {
      "image/png": "[encoded data removed]",
      "text/plain": [
       "<Figure size 432x288 with 1 Axes>"
      ]
     },
     "metadata": {
      "needs_background": "light"
     },
     "output_type": "display_data"
    },
    {
     "data": {
      "image/png": "[encoded data removed]",
      "text/plain": [
       "<Figure size 432x288 with 1 Axes>"
      ]
     },
     "metadata": {
      "needs_background": "light"
     },
     "output_type": "display_data"
    },
    {
     "data": {
      "image/png": "[encoded data removed]",
      "text/plain": [
       "<Figure size 432x288 with 1 Axes>"
      ]
     },
     "metadata": {
      "needs_background": "light"
     },
     "output_type": "display_data"
    },
    {
     "data": {
      "image/png": "[encoded data removed]",
      "text/plain": [
       "<Figure size 432x288 with 1 Axes>"
      ]
     },
     "metadata": {
      "needs_background": "light"
     },
     "output_type": "display_data"
    },
    {
     "data": {
      "image/png": "[encoded data removed]",
      "text/plain": [
       "<Figure size 432x288 with 1 Axes>"
      ]
     },
     "metadata": {
      "needs_background": "light"
     },
     "output_type": "display_data"
    },
    {
     "data": {
      "image/png": "[encoded data removed]",
      "text/plain": [
       "<Figure size 432x288 with 1 Axes>"
      ]
     },
     "metadata": {
      "needs_background": "light"
     },
     "output_type": "display_data"
    },
    {
     "data": {
      "image/png": "[encoded data removed]",
      "text/plain": [
       "<Figure size 432x288 with 1 Axes>"
      ]
     },
     "metadata": {
      "needs_background": "light"
     },
     "output_type": "display_data"
    },
    {
     "data": {
      "image/png": "[encoded data removed]",
      "text/plain": [
       "<Figure size 432x288 with 1 Axes>"
      ]
     },
     "metadata": {
      "needs_background": "light"
     },
     "output_type": "display_data"
    },
    {
     "data": {
      "image/png": "[encoded data removed]",
      "text/plain": [
       "<Figure size 432x288 with 1 Axes>"
      ]
     },
     "metadata": {
      "needs_background": "light"
     },
     "output_type": "display_data"
    },
    {
     "data": {
      "image/png": "[encoded data removed]",
      "text/plain": [
       "<Figure size 432x288 with 1 Axes>"
      ]
     },
     "metadata": {
      "needs_background": "light"
     },
     "output_type": "display_data"
    },
    {
     "data": {
      "image/png": "[encoded data removed]",
      "text/plain": [
       "<Figure size 432x288 with 1 Axes>"
      ]
     },
     "metadata": {
      "needs_background": "light"
     },
     "output_type": "display_data"
    },
    {
     "data": {
      "image/png": "[encoded data removed]",
      "text/plain": [
       "<Figure size 432x288 with 1 Axes>"
      ]
     },
     "metadata": {
      "needs_background": "light"
     },
     "output_type": "display_data"
    },
    {
     "data": {
      "image/png": "[encoded data removed]",
      "text/plain": [
       "<Figure size 432x288 with 1 Axes>"
      ]
     },
     "metadata": {
      "needs_background": "light"
     },
     "output_type": "display_data"
    },
    {
     "data": {
      "image/png": "[encoded data removed]",
      "text/plain": [
       "<Figure size 432x288 with 1 Axes>"
      ]
     },
     "metadata": {
      "needs_background": "light"
     },
     "output_type": "display_data"
    },
    {
     "data": {
      "image/png": "[encoded data removed]",
      "text/plain": [
       "<Figure size 432x288 with 1 Axes>"
      ]
     },
     "metadata": {
      "needs_background": "light"
     },
     "output_type": "display_data"
    },
    {
     "data": {
      "image/png": "[encoded data removed]",
      "text/plain": [
       "<Figure size 432x288 with 1 Axes>"
      ]
     },
     "metadata": {
      "needs_background": "light"
     },
     "output_type": "display_data"
    },
    {
     "data": {
      "image/png": "[encoded data removed]",
      "text/plain": [
       "<Figure size 432x288 with 1 Axes>"
      ]
     },
     "metadata": {
      "needs_background": "light"
     },
     "output_type": "display_data"
    },
    {
     "data": {
      "image/png": "[encoded data removed]",
      "text/plain": [
       "<Figure size 432x288 with 1 Axes>"
      ]
     },
     "metadata": {
      "needs_background": "light"
     },
     "output_type": "display_data"
    },
    {
     "data": {
      "image/png": "[encoded data removed]",
      "text/plain": [
       "<Figure size 432x288 with 1 Axes>"
      ]
     },
     "metadata": {
      "needs_background": "light"
     },
     "output_type": "display_data"
    },
    {
     "data": {
      "image/png": "[encoded data removed]",
      "text/plain": [
       "<Figure size 432x288 with 1 Axes>"
      ]
     },
     "metadata": {
      "needs_background": "light"
     },
     "output_type": "display_data"
    },
    {
     "data": {
      "image/png": "[encoded data removed]",
      "text/plain": [
       "<Figure size 432x288 with 1 Axes>"
      ]
     },
     "metadata": {
      "needs_background": "light"
     },
     "output_type": "display_data"
    },
    {
     "data": {
      "image/png": "[encoded data removed]",
      "text/plain": [
       "<Figure size 432x288 with 1 Axes>"
      ]
     },
     "metadata": {
      "needs_background": "light"
     },
     "output_type": "display_data"
    },
    {
     "data": {
      "image/png": "[encoded data removed]",
      "text/plain": [
       "<Figure size 432x288 with 1 Axes>"
      ]
     },
     "metadata": {
      "needs_background": "light"
     },
     "output_type": "display_data"
    },
    {
     "data": {
      "image/png": "[encoded data removed]",
      "text/plain": [
       "<Figure size 432x288 with 1 Axes>"
      ]
     },
     "metadata": {
      "needs_background": "light"
     },
     "output_type": "display_data"
    },
    {
     "data": {
      "image/png": "[encoded data removed]",
      "text/plain": [
       "<Figure size 432x288 with 1 Axes>"
      ]
     },
     "metadata": {
      "needs_background": "light"
     },
     "output_type": "display_data"
    },
    {
     "data": {
      "image/png": "[encoded data removed]",
      "text/plain": [
       "<Figure size 432x288 with 1 Axes>"
      ]
     },
     "metadata": {
      "needs_background": "light"
     },
     "output_type": "display_data"
    },
    {
     "data": {
      "image/png": "[encoded data removed]",
      "text/plain": [
       "<Figure size 432x288 with 1 Axes>"
      ]
     },
     "metadata": {
      "needs_background": "light"
     },
     "output_type": "display_data"
    },
    {
     "data": {
      "image/png": "[encoded data removed]",
      "text/plain": [
       "<Figure size 432x288 with 1 Axes>"
      ]
     },
     "metadata": {
      "needs_background": "light"
     },
     "output_type": "display_data"
    },
    {
     "data": {
      "image/png": "[encoded data removed]",
      "text/plain": [
       "<Figure size 432x288 with 1 Axes>"
      ]
     },
     "metadata": {
      "needs_background": "light"
     },
     "output_type": "display_data"
    },
    {
     "data": {
      "image/png": "[encoded data removed]",
      "text/plain": [
       "<Figure size 432x288 with 1 Axes>"
      ]
     },
     "metadata": {
      "needs_background": "light"
     },
     "output_type": "display_data"
    },
    {
     "data": {
      "image/png": "[encoded data removed]",
      "text/plain": [
       "<Figure size 432x288 with 1 Axes>"
      ]
     },
     "metadata": {
      "needs_background": "light"
     },
     "output_type": "display_data"
    },
    {
     "data": {
      "image/png": "[encoded data removed]",
      "text/plain": [
       "<Figure size 432x288 with 1 Axes>"
      ]
     },
     "metadata": {
      "needs_background": "light"
     },
     "output_type": "display_data"
    }
   ],
   "source": [
    "for col in category:\n",
    "    df[col].value_counts().plot(kind='bar') \n",
    "    plt.title(col) \n",
    "    plt.show()\n"
   ]
  },
  {
   "cell_type": "code",
   "execution_count": 6,
   "metadata": {},
   "outputs": [],
   "source": [
    "col_one= ['MSZoning'\n",
    ",'Alley'\n",
    ",'LotShape'\n",
    ",'LotConfig'\n",
    ",'BldgType'\n",
    ",'HouseStyle'\n",
    ",'RoofStyle'\n",
    ",'MasVnrType'\n",
    ",'ExterQual'\n",
    ",'Foundation'\n",
    ",'BsmtQual'\n",
    ",'BsmtCond'\n",
    ",'BsmtExposure'\n",
    ",'BsmtFinType1'\n",
    ",'HeatingQC'\n",
    ",'KitchenQual'\n",
    ",'FireplaceQu'\n",
    ",'GarageType'\n",
    ",'GarageFinish'\n",
    ",'GarageQual'\n",
    ",'PoolQC'\n",
    ",'Fence'\n",
    "]"
   ]
  },
  {
   "cell_type": "code",
   "execution_count": 31,
   "metadata": {},
   "outputs": [
    {
     "name": "stderr",
     "output_type": "stream",
     "text": [
      "D:\\anaconda\\lib\\site-packages\\matplotlib\\pyplot.py:537: RuntimeWarning: More than 20 figures have been opened. Figures created through the pyplot interface (`matplotlib.pyplot.figure`) are retained until explicitly closed and may consume too much memory. (To control this warning, see the rcParam `figure.max_open_warning`).\n",
      "  max_open_warning, RuntimeWarning)\n"
     ]
    },
    {
     "data": {
      "image/png": "[encoded data removed]",
      "text/plain": [
       "<Figure size 576x432 with 1 Axes>"
      ]
     },
     "metadata": {
      "needs_background": "light"
     },
     "output_type": "display_data"
    },
    {
     "data": {
      "image/png": "[encoded data removed]",
      "text/plain": [
       "<Figure size 576x432 with 1 Axes>"
      ]
     },
     "metadata": {
      "needs_background": "light"
     },
     "output_type": "display_data"
    },
    {
     "data": {
      "image/png": "[encoded data removed]",
      "text/plain": [
       "<Figure size 576x432 with 1 Axes>"
      ]
     },
     "metadata": {
      "needs_background": "light"
     },
     "output_type": "display_data"
    },
    {
     "data": {
      "image/png": "[encoded data removed]",
      "text/plain": [
       "<Figure size 576x432 with 1 Axes>"
      ]
     },
     "metadata": {
      "needs_background": "light"
     },
     "output_type": "display_data"
    },
    {
     "data": {
      "image/png": "[encoded data removed]",
      "text/plain": [
       "<Figure size 576x432 with 1 Axes>"
      ]
     },
     "metadata": {
      "needs_background": "light"
     },
     "output_type": "display_data"
    },
    {
     "data": {
      "image/png": "[encoded data removed]",
      "text/plain": [
       "<Figure size 576x432 with 1 Axes>"
      ]
     },
     "metadata": {
      "needs_background": "light"
     },
     "output_type": "display_data"
    },
    {
     "data": {
      "image/png": "[encoded data removed]",
      "text/plain": [
       "<Figure size 576x432 with 1 Axes>"
      ]
     },
     "metadata": {
      "needs_background": "light"
     },
     "output_type": "display_data"
    },
    {
     "data": {
      "image/png": "[encoded data removed]",
      "text/plain": [
       "<Figure size 576x432 with 1 Axes>"
      ]
     },
     "metadata": {
      "needs_background": "light"
     },
     "output_type": "display_data"
    },
    {
     "data": {
      "image/png": "[encoded data removed]",
      "text/plain": [
       "<Figure size 576x432 with 1 Axes>"
      ]
     },
     "metadata": {
      "needs_background": "light"
     },
     "output_type": "display_data"
    },
    {
     "data": {
      "image/png": "[encoded data removed]",
      "text/plain": [
       "<Figure size 576x432 with 1 Axes>"
      ]
     },
     "metadata": {
      "needs_background": "light"
     },
     "output_type": "display_data"
    },
    {
     "data": {
      "image/png": "[encoded data removed]",
      "text/plain": [
       "<Figure size 576x432 with 1 Axes>"
      ]
     },
     "metadata": {
      "needs_background": "light"
     },
     "output_type": "display_data"
    },
    {
     "data": {
      "image/png": "[encoded data removed]",
      "text/plain": [
       "<Figure size 576x432 with 1 Axes>"
      ]
     },
     "metadata": {
      "needs_background": "light"
     },
     "output_type": "display_data"
    },
    {
     "data": {
      "image/png": "[encoded data removed]",
      "text/plain": [
       "<Figure size 576x432 with 1 Axes>"
      ]
     },
     "metadata": {
      "needs_background": "light"
     },
     "output_type": "display_data"
    },
    {
     "data": {
      "image/png": "[encoded data removed]",
      "text/plain": [
       "<Figure size 576x432 with 1 Axes>"
      ]
     },
     "metadata": {
      "needs_background": "light"
     },
     "output_type": "display_data"
    },
    {
     "data": {
      "image/png": "[encoded data removed]",
      "text/plain": [
       "<Figure size 576x432 with 1 Axes>"
      ]
     },
     "metadata": {
      "needs_background": "light"
     },
     "output_type": "display_data"
    },
    {
     "data": {
      "image/png": "[encoded data removed]",
      "text/plain": [
       "<Figure size 576x432 with 1 Axes>"
      ]
     },
     "metadata": {
      "needs_background": "light"
     },
     "output_type": "display_data"
    },
    {
     "data": {
      "image/png": "[encoded data removed]",
      "text/plain": [
       "<Figure size 576x432 with 1 Axes>"
      ]
     },
     "metadata": {
      "needs_background": "light"
     },
     "output_type": "display_data"
    },
    {
     "data": {
      "image/png": "[encoded data removed]",
      "text/plain": [
       "<Figure size 576x432 with 1 Axes>"
      ]
     },
     "metadata": {
      "needs_background": "light"
     },
     "output_type": "display_data"
    },
    {
     "data": {
      "image/png": "[encoded data removed]",
      "text/plain": [
       "<Figure size 576x432 with 1 Axes>"
      ]
     },
     "metadata": {
      "needs_background": "light"
     },
     "output_type": "display_data"
    },
    {
     "data": {
      "image/png": "[encoded data removed]",
      "text/plain": [
       "<Figure size 576x432 with 1 Axes>"
      ]
     },
     "metadata": {
      "needs_background": "light"
     },
     "output_type": "display_data"
    },
    {
     "data": {
      "image/png": "[encoded data removed]",
      "text/plain": [
       "<Figure size 576x432 with 1 Axes>"
      ]
     },
     "metadata": {
      "needs_background": "light"
     },
     "output_type": "display_data"
    },
    {
     "data": {
      "image/png": "[encoded data removed]",
      "text/plain": [
       "<Figure size 576x432 with 1 Axes>"
      ]
     },
     "metadata": {
      "needs_background": "light"
     },
     "output_type": "display_data"
    }
   ],
   "source": [
    "for col in col_one:\n",
    "    data = pd.concat([df[col],df['SalePrice']],axis=1)\n",
    "    f, ax = plt.subplots(figsize=(8,6))\n",
    "    fig = sns.boxplot(x=col, y='SalePrice',data=data)\n"
   ]
  },
  {
   "cell_type": "code",
   "execution_count": 35,
   "metadata": {},
   "outputs": [
    {
     "data": {
      "text/html": [
       "<div>\n",
       "<style scoped>\n",
       "    .dataframe tbody tr th:only-of-type {\n",
       "        vertical-align: middle;\n",
       "    }\n",
       "\n",
       "    .dataframe tbody tr th {\n",
       "        vertical-align: top;\n",
       "    }\n",
       "\n",
       "    .dataframe thead th {\n",
       "        text-align: right;\n",
       "    }\n",
       "</style>\n",
       "<table border=\"1\" class=\"dataframe\">\n",
       "  <thead>\n",
       "    <tr style=\"text-align: right;\">\n",
       "      <th></th>\n",
       "      <th>C (all)</th>\n",
       "      <th>FV</th>\n",
       "      <th>RH</th>\n",
       "      <th>RL</th>\n",
       "      <th>RM</th>\n",
       "    </tr>\n",
       "  </thead>\n",
       "  <tbody>\n",
       "    <tr>\n",
       "      <th>0</th>\n",
       "      <td>0</td>\n",
       "      <td>0</td>\n",
       "      <td>0</td>\n",
       "      <td>1</td>\n",
       "      <td>0</td>\n",
       "    </tr>\n",
       "    <tr>\n",
       "      <th>1</th>\n",
       "      <td>0</td>\n",
       "      <td>0</td>\n",
       "      <td>0</td>\n",
       "      <td>1</td>\n",
       "      <td>0</td>\n",
       "    </tr>\n",
       "    <tr>\n",
       "      <th>2</th>\n",
       "      <td>0</td>\n",
       "      <td>0</td>\n",
       "      <td>0</td>\n",
       "      <td>1</td>\n",
       "      <td>0</td>\n",
       "    </tr>\n",
       "    <tr>\n",
       "      <th>3</th>\n",
       "      <td>0</td>\n",
       "      <td>0</td>\n",
       "      <td>0</td>\n",
       "      <td>1</td>\n",
       "      <td>0</td>\n",
       "    </tr>\n",
       "    <tr>\n",
       "      <th>4</th>\n",
       "      <td>0</td>\n",
       "      <td>0</td>\n",
       "      <td>0</td>\n",
       "      <td>1</td>\n",
       "      <td>0</td>\n",
       "    </tr>\n",
       "  </tbody>\n",
       "</table>\n",
       "</div>"
      ],
      "text/plain": [
       "   C (all)  FV  RH  RL  RM\n",
       "0        0   0   0   1   0\n",
       "1        0   0   0   1   0\n",
       "2        0   0   0   1   0\n",
       "3        0   0   0   1   0\n",
       "4        0   0   0   1   0"
      ]
     },
     "execution_count": 35,
     "metadata": {},
     "output_type": "execute_result"
    }
   ],
   "source": [
    "aa = pd.get_dummies(df.MSZoning) \n",
    "aa.head()"
   ]
  },
  {
   "cell_type": "code",
   "execution_count": 7,
   "metadata": {},
   "outputs": [],
   "source": [
    "x=df.loc[:,col_one]"
   ]
  },
  {
   "cell_type": "code",
   "execution_count": 8,
   "metadata": {},
   "outputs": [],
   "source": [
    "x_one_hot=pd.get_dummies(x, prefix=['MSZoning'\n",
    ",'Alley'\n",
    ",'LotShape'\n",
    ",'LotConfig'\n",
    ",'BldgType'\n",
    ",'HouseStyle'\n",
    ",'RoofStyle'\n",
    ",'MasVnrType'\n",
    ",'ExterQual'\n",
    ",'Foundation'\n",
    ",'BsmtQual'\n",
    ",'BsmtCond'\n",
    ",'BsmtExposure'\n",
    ",'BsmtFinType1'\n",
    ",'HeatingQC'\n",
    ",'KitchenQual'\n",
    ",'FireplaceQu'\n",
    ",'GarageType'\n",
    ",'GarageFinish'\n",
    ",'GarageQual'\n",
    ",'PoolQC'\n",
    ",'Fence'])"
   ]
  },
  {
   "cell_type": "code",
   "execution_count": 9,
   "metadata": {},
   "outputs": [
    {
     "data": {
      "text/plain": [
       "(1460, 22)"
      ]
     },
     "execution_count": 9,
     "metadata": {},
     "output_type": "execute_result"
    }
   ],
   "source": [
    "x.shape"
   ]
  },
  {
   "cell_type": "code",
   "execution_count": 10,
   "metadata": {},
   "outputs": [
    {
     "data": {
      "text/plain": [
       "(1460, 102)"
      ]
     },
     "execution_count": 10,
     "metadata": {},
     "output_type": "execute_result"
    }
   ],
   "source": [
    "x_one_hot.shape"
   ]
  },
  {
   "cell_type": "code",
   "execution_count": 11,
   "metadata": {},
   "outputs": [],
   "source": [
    "x_one_hot[\"Id\"]= df.loc[:,\"Id\"]"
   ]
  },
  {
   "cell_type": "code",
   "execution_count": 12,
   "metadata": {},
   "outputs": [],
   "source": [
    "x_number = df.loc[:,[\"Id\",\"OverallQual\",\"YearBuilt\",\"YearRemodAdd\",\"MasVnrArea\",\"TotalBsmtSF\",\"1stFlrSF\",\"GrLivArea\",\"FullBath\",\"TotRmsAbvGrd\",\"Fireplaces\",\"GarageYrBlt\",\"GarageCars\",\"GarageArea\"]]"
   ]
  },
  {
   "cell_type": "code",
   "execution_count": 13,
   "metadata": {},
   "outputs": [],
   "source": [
    "x_data = pd.merge(x_one_hot,x_number,on=\"Id\")"
   ]
  },
  {
   "cell_type": "code",
   "execution_count": 14,
   "metadata": {},
   "outputs": [
    {
     "data": {
      "text/plain": [
       "(1460, 116)"
      ]
     },
     "execution_count": 14,
     "metadata": {},
     "output_type": "execute_result"
    }
   ],
   "source": [
    "x_data.shape"
   ]
  },
  {
   "cell_type": "code",
   "execution_count": 15,
   "metadata": {},
   "outputs": [
    {
     "data": {
      "text/html": [
       "<div>\n",
       "<style scoped>\n",
       "    .dataframe tbody tr th:only-of-type {\n",
       "        vertical-align: middle;\n",
       "    }\n",
       "\n",
       "    .dataframe tbody tr th {\n",
       "        vertical-align: top;\n",
       "    }\n",
       "\n",
       "    .dataframe thead th {\n",
       "        text-align: right;\n",
       "    }\n",
       "</style>\n",
       "<table border=\"1\" class=\"dataframe\">\n",
       "  <thead>\n",
       "    <tr style=\"text-align: right;\">\n",
       "      <th></th>\n",
       "      <th>MSZoning_C (all)</th>\n",
       "      <th>MSZoning_FV</th>\n",
       "      <th>MSZoning_RH</th>\n",
       "      <th>MSZoning_RL</th>\n",
       "      <th>MSZoning_RM</th>\n",
       "      <th>Alley_Grvl</th>\n",
       "      <th>Alley_Pave</th>\n",
       "      <th>LotShape_IR1</th>\n",
       "      <th>LotShape_IR2</th>\n",
       "      <th>LotShape_IR3</th>\n",
       "      <th>...</th>\n",
       "      <th>MasVnrArea</th>\n",
       "      <th>TotalBsmtSF</th>\n",
       "      <th>1stFlrSF</th>\n",
       "      <th>GrLivArea</th>\n",
       "      <th>FullBath</th>\n",
       "      <th>TotRmsAbvGrd</th>\n",
       "      <th>Fireplaces</th>\n",
       "      <th>GarageYrBlt</th>\n",
       "      <th>GarageCars</th>\n",
       "      <th>GarageArea</th>\n",
       "    </tr>\n",
       "  </thead>\n",
       "  <tbody>\n",
       "    <tr>\n",
       "      <th>0</th>\n",
       "      <td>0</td>\n",
       "      <td>0</td>\n",
       "      <td>0</td>\n",
       "      <td>1</td>\n",
       "      <td>0</td>\n",
       "      <td>0</td>\n",
       "      <td>0</td>\n",
       "      <td>0</td>\n",
       "      <td>0</td>\n",
       "      <td>0</td>\n",
       "      <td>...</td>\n",
       "      <td>196.0</td>\n",
       "      <td>856</td>\n",
       "      <td>856</td>\n",
       "      <td>1710</td>\n",
       "      <td>2</td>\n",
       "      <td>8</td>\n",
       "      <td>0</td>\n",
       "      <td>2003.0</td>\n",
       "      <td>2</td>\n",
       "      <td>548</td>\n",
       "    </tr>\n",
       "    <tr>\n",
       "      <th>1</th>\n",
       "      <td>0</td>\n",
       "      <td>0</td>\n",
       "      <td>0</td>\n",
       "      <td>1</td>\n",
       "      <td>0</td>\n",
       "      <td>0</td>\n",
       "      <td>0</td>\n",
       "      <td>0</td>\n",
       "      <td>0</td>\n",
       "      <td>0</td>\n",
       "      <td>...</td>\n",
       "      <td>0.0</td>\n",
       "      <td>1262</td>\n",
       "      <td>1262</td>\n",
       "      <td>1262</td>\n",
       "      <td>2</td>\n",
       "      <td>6</td>\n",
       "      <td>1</td>\n",
       "      <td>1976.0</td>\n",
       "      <td>2</td>\n",
       "      <td>460</td>\n",
       "    </tr>\n",
       "    <tr>\n",
       "      <th>2</th>\n",
       "      <td>0</td>\n",
       "      <td>0</td>\n",
       "      <td>0</td>\n",
       "      <td>1</td>\n",
       "      <td>0</td>\n",
       "      <td>0</td>\n",
       "      <td>0</td>\n",
       "      <td>1</td>\n",
       "      <td>0</td>\n",
       "      <td>0</td>\n",
       "      <td>...</td>\n",
       "      <td>162.0</td>\n",
       "      <td>920</td>\n",
       "      <td>920</td>\n",
       "      <td>1786</td>\n",
       "      <td>2</td>\n",
       "      <td>6</td>\n",
       "      <td>1</td>\n",
       "      <td>2001.0</td>\n",
       "      <td>2</td>\n",
       "      <td>608</td>\n",
       "    </tr>\n",
       "    <tr>\n",
       "      <th>3</th>\n",
       "      <td>0</td>\n",
       "      <td>0</td>\n",
       "      <td>0</td>\n",
       "      <td>1</td>\n",
       "      <td>0</td>\n",
       "      <td>0</td>\n",
       "      <td>0</td>\n",
       "      <td>1</td>\n",
       "      <td>0</td>\n",
       "      <td>0</td>\n",
       "      <td>...</td>\n",
       "      <td>0.0</td>\n",
       "      <td>756</td>\n",
       "      <td>961</td>\n",
       "      <td>1717</td>\n",
       "      <td>1</td>\n",
       "      <td>7</td>\n",
       "      <td>1</td>\n",
       "      <td>1998.0</td>\n",
       "      <td>3</td>\n",
       "      <td>642</td>\n",
       "    </tr>\n",
       "    <tr>\n",
       "      <th>4</th>\n",
       "      <td>0</td>\n",
       "      <td>0</td>\n",
       "      <td>0</td>\n",
       "      <td>1</td>\n",
       "      <td>0</td>\n",
       "      <td>0</td>\n",
       "      <td>0</td>\n",
       "      <td>1</td>\n",
       "      <td>0</td>\n",
       "      <td>0</td>\n",
       "      <td>...</td>\n",
       "      <td>350.0</td>\n",
       "      <td>1145</td>\n",
       "      <td>1145</td>\n",
       "      <td>2198</td>\n",
       "      <td>2</td>\n",
       "      <td>9</td>\n",
       "      <td>1</td>\n",
       "      <td>2000.0</td>\n",
       "      <td>3</td>\n",
       "      <td>836</td>\n",
       "    </tr>\n",
       "  </tbody>\n",
       "</table>\n",
       "<p>5 rows × 116 columns</p>\n",
       "</div>"
      ],
      "text/plain": [
       "   MSZoning_C (all)  MSZoning_FV  MSZoning_RH  MSZoning_RL  MSZoning_RM  \\\n",
       "0                 0            0            0            1            0   \n",
       "1                 0            0            0            1            0   \n",
       "2                 0            0            0            1            0   \n",
       "3                 0            0            0            1            0   \n",
       "4                 0            0            0            1            0   \n",
       "\n",
       "   Alley_Grvl  Alley_Pave  LotShape_IR1  LotShape_IR2  LotShape_IR3  \\\n",
       "0           0           0             0             0             0   \n",
       "1           0           0             0             0             0   \n",
       "2           0           0             1             0             0   \n",
       "3           0           0             1             0             0   \n",
       "4           0           0             1             0             0   \n",
       "\n",
       "      ...      MasVnrArea  TotalBsmtSF  1stFlrSF  GrLivArea  FullBath  \\\n",
       "0     ...           196.0          856       856       1710         2   \n",
       "1     ...             0.0         1262      1262       1262         2   \n",
       "2     ...           162.0          920       920       1786         2   \n",
       "3     ...             0.0          756       961       1717         1   \n",
       "4     ...           350.0         1145      1145       2198         2   \n",
       "\n",
       "   TotRmsAbvGrd  Fireplaces  GarageYrBlt  GarageCars  GarageArea  \n",
       "0             8           0       2003.0           2         548  \n",
       "1             6           1       1976.0           2         460  \n",
       "2             6           1       2001.0           2         608  \n",
       "3             7           1       1998.0           3         642  \n",
       "4             9           1       2000.0           3         836  \n",
       "\n",
       "[5 rows x 116 columns]"
      ]
     },
     "execution_count": 15,
     "metadata": {},
     "output_type": "execute_result"
    }
   ],
   "source": [
    "x_data.head()"
   ]
  },
  {
   "cell_type": "code",
   "execution_count": 19,
   "metadata": {},
   "outputs": [],
   "source": [
    "x_data=x_data.drop(\"GarageYrBlt\",axis=1)"
   ]
  },
  {
   "cell_type": "code",
   "execution_count": 20,
   "metadata": {},
   "outputs": [],
   "source": [
    "x_data.loc[x_data.isnull()[\"MasVnrArea\"],:] = x_data.loc[x_data.isnull()[\"MasVnrArea\"],:].fillna(value=x_data[\"MasVnrArea\"].mean())"
   ]
  },
  {
   "cell_type": "code",
   "execution_count": 25,
   "metadata": {},
   "outputs": [
    {
     "data": {
      "text/html": [
       "<div>\n",
       "<style scoped>\n",
       "    .dataframe tbody tr th:only-of-type {\n",
       "        vertical-align: middle;\n",
       "    }\n",
       "\n",
       "    .dataframe tbody tr th {\n",
       "        vertical-align: top;\n",
       "    }\n",
       "\n",
       "    .dataframe thead th {\n",
       "        text-align: right;\n",
       "    }\n",
       "</style>\n",
       "<table border=\"1\" class=\"dataframe\">\n",
       "  <thead>\n",
       "    <tr style=\"text-align: right;\">\n",
       "      <th></th>\n",
       "      <th>0</th>\n",
       "    </tr>\n",
       "  </thead>\n",
       "  <tbody>\n",
       "  </tbody>\n",
       "</table>\n",
       "</div>"
      ],
      "text/plain": [
       "Empty DataFrame\n",
       "Columns: [0]\n",
       "Index: []"
      ]
     },
     "execution_count": 25,
     "metadata": {},
     "output_type": "execute_result"
    }
   ],
   "source": [
    "aa = pd.DataFrame(x_data.isnull().sum())\n",
    "aa.loc[aa[0]>1]"
   ]
  },
  {
   "cell_type": "code",
   "execution_count": 29,
   "metadata": {},
   "outputs": [
    {
     "name": "stdout",
     "output_type": "stream",
     "text": [
      "<class 'pandas.core.frame.DataFrame'>\n",
      "Int64Index: 1460 entries, 0 to 1459\n",
      "Columns: 115 entries, MSZoning_C (all) to GarageArea\n",
      "dtypes: float64(1), int64(12), uint8(102)\n",
      "memory usage: 305.1 KB\n"
     ]
    }
   ],
   "source": [
    "x_data.info()"
   ]
  },
  {
   "cell_type": "code",
   "execution_count": 30,
   "metadata": {},
   "outputs": [],
   "source": [
    "x_data_one = x_data.values"
   ]
  },
  {
   "cell_type": "code",
   "execution_count": 33,
   "metadata": {},
   "outputs": [
    {
     "data": {
      "text/plain": [
       "array([[  0.,   0.,   0., ...,   0.,   2., 548.],\n",
       "       [  0.,   0.,   0., ...,   1.,   2., 460.],\n",
       "       [  0.,   0.,   0., ...,   1.,   2., 608.],\n",
       "       ...,\n",
       "       [  0.,   0.,   0., ...,   2.,   1., 252.],\n",
       "       [  0.,   0.,   0., ...,   0.,   1., 240.],\n",
       "       [  0.,   0.,   0., ...,   0.,   1., 276.]], dtype=float32)"
      ]
     },
     "execution_count": 33,
     "metadata": {},
     "output_type": "execute_result"
    }
   ],
   "source": [
    "x_data_one= x_data_one.astype(np.float32)\n",
    "x_data_one"
   ]
  },
  {
   "cell_type": "code",
   "execution_count": 36,
   "metadata": {},
   "outputs": [
    {
     "data": {
      "text/plain": [
       "1460"
      ]
     },
     "execution_count": 36,
     "metadata": {},
     "output_type": "execute_result"
    }
   ],
   "source": [
    "len(x_data_one)"
   ]
  },
  {
   "cell_type": "code",
   "execution_count": 37,
   "metadata": {},
   "outputs": [
    {
     "data": {
      "text/plain": [
       "0    208500\n",
       "1    181500\n",
       "2    223500\n",
       "3    140000\n",
       "4    250000\n",
       "Name: SalePrice, dtype: int64"
      ]
     },
     "execution_count": 37,
     "metadata": {},
     "output_type": "execute_result"
    }
   ],
   "source": [
    "y_data = df.iloc[:,-1]\n",
    "y_data.head()"
   ]
  },
  {
   "cell_type": "code",
   "execution_count": 38,
   "metadata": {},
   "outputs": [],
   "source": [
    "y_data = y_data.values\n",
    "y_data = y_data.astype(np.float32)\n",
    "y_data=y_data.reshape(-1,1)"
   ]
  },
  {
   "cell_type": "code",
   "execution_count": 39,
   "metadata": {},
   "outputs": [
    {
     "name": "stdout",
     "output_type": "stream",
     "text": [
      "(1460, 115)\n",
      "(1460, 1)\n"
     ]
    }
   ],
   "source": [
    "print(x_data.shape)\n",
    "print(y_data.shape)"
   ]
  },
  {
   "cell_type": "code",
   "execution_count": 54,
   "metadata": {},
   "outputs": [],
   "source": [
    "X = tf.placeholder(tf.float32, shape=[None,115])\n",
    "Y = tf.placeholder(tf.float32, shape=[None,1])\n",
    "\n",
    "\n",
    "W = tf.Variable(tf.random_normal([115,1],name='weight'))\n",
    "b = tf.Variable(tf.random_normal([1],name='bias'))\n",
    "\n",
    "hypothesis = tf.matmul(X, W) + b\n",
    "\n",
    "cost = tf.reduce_mean(tf.square(hypothesis-Y))\n",
    "\n",
    "optimizer = tf.train.GradientDescentOptimizer(learning_rate = 1e-9)\n",
    "train = optimizer.minimize(cost)"
   ]
  },
  {
   "cell_type": "code",
   "execution_count": 55,
   "metadata": {},
   "outputs": [],
   "source": [
    "sess = tf.Session()\n",
    "sess.run(tf.global_variables_initializer())"
   ]
  },
  {
   "cell_type": "code",
   "execution_count": 56,
   "metadata": {
    "collapsed": true,
    "jupyter": {
     "outputs_hidden": true
    }
   },
   "outputs": [
    {
     "name": "stdout",
     "output_type": "stream",
     "text": [
      "0 Cost :  39739175000.0 \n",
      "Preadiction\n",
      " [[-1334.7402]\n",
      " [-1105.3462]\n",
      " [-1341.9032]\n",
      " ...\n",
      " [-3428.135 ]\n",
      " [-2837.293 ]\n",
      " [-2806.9324]]\n",
      "1000 Cost :  2868855800.0 \n",
      "Preadiction\n",
      " [[180817.2 ]\n",
      " [179708.88]\n",
      " [187806.84]\n",
      " ...\n",
      " [215842.5 ]\n",
      " [160108.55]\n",
      " [176897.16]]\n",
      "2000 Cost :  2486002700.0 \n",
      "Preadiction\n",
      " [[183437.17]\n",
      " [179737.31]\n",
      " [192117.22]\n",
      " ...\n",
      " [219675.88]\n",
      " [148910.44]\n",
      " [169694.28]]\n",
      "3000 Cost :  2341552000.0 \n",
      "Preadiction\n",
      " [[185322.88]\n",
      " [179036.67]\n",
      " [194958.1 ]\n",
      " ...\n",
      " [221924.94]\n",
      " [142353.38]\n",
      " [165253.88]]\n",
      "4000 Cost :  2275420000.0 \n",
      "Preadiction\n",
      " [[186778.66]\n",
      " [178092.72]\n",
      " [196960.  ]\n",
      " ...\n",
      " [223140.6 ]\n",
      " [138385.5 ]\n",
      " [162369.92]]\n",
      "5000 Cost :  2237107000.0 \n",
      "Preadiction\n",
      " [[187971.31]\n",
      " [177134.17]\n",
      " [198470.56]\n",
      " ...\n",
      " [223676.16]\n",
      " [135872.5 ]\n",
      " [160375.61]]\n",
      "6000 Cost :  2210199600.0 \n",
      "Preadiction\n",
      " [[188992.97]\n",
      " [176258.  ]\n",
      " [199682.31]\n",
      " ...\n",
      " [223762.58]\n",
      " [134186.56]\n",
      " [158901.38]]\n",
      "7000 Cost :  2189041700.0 \n",
      "Preadiction\n",
      " [[189895.19]\n",
      " [175495.84]\n",
      " [200702.78]\n",
      " ...\n",
      " [223553.44]\n",
      " [132979.45]\n",
      " [157741.5 ]]\n",
      "8000 Cost :  2171465200.0 \n",
      "Preadiction\n",
      " [[190707.86]\n",
      " [174848.88]\n",
      " [201592.84]\n",
      " ...\n",
      " [223152.39]\n",
      " [132057.16]\n",
      " [156780.4 ]]\n",
      "9000 Cost :  2156492800.0 \n",
      "Preadiction\n",
      " [[191448.72]\n",
      " [174305.62]\n",
      " [202387.7 ]\n",
      " ...\n",
      " [222630.28]\n",
      " [131311.08]\n",
      " [155952.56]]\n",
      "10000 Cost :  2143585300.0 \n",
      "Preadiction\n",
      " [[192129.08 ]\n",
      " [173850.34 ]\n",
      " [203108.34 ]\n",
      " ...\n",
      " [222035.61 ]\n",
      " [130679.445]\n",
      " [155219.62 ]]\n",
      "11000 Cost :  2132392100.0 \n",
      "Preadiction\n",
      " [[192756.95]\n",
      " [173468.4 ]\n",
      " [203768.34]\n",
      " ...\n",
      " [221402.64]\n",
      " [130127.28]\n",
      " [154559.56]]\n",
      "12000 Cost :  2122652500.0 \n",
      "Preadiction\n",
      " [[193337.47]\n",
      " [173145.81]\n",
      " [204375.95]\n",
      " ...\n",
      " [220753.89]\n",
      " [129633.45]\n",
      " [153957.9 ]]\n",
      "13000 Cost :  2114163000.0 \n",
      "Preadiction\n",
      " [[193875.73 ]\n",
      " [172870.53 ]\n",
      " [204937.89 ]\n",
      " ...\n",
      " [220105.78 ]\n",
      " [129185.016]\n",
      " [153404.88 ]]\n",
      "14000 Cost :  2106753700.0 \n",
      "Preadiction\n",
      " [[194375.92]\n",
      " [172634.4 ]\n",
      " [205459.47]\n",
      " ...\n",
      " [219469.92]\n",
      " [128774.45]\n",
      " [152894.92]]\n",
      "15000 Cost :  2100281600.0 \n",
      "Preadiction\n",
      " [[194840.1 ]\n",
      " [172429.2 ]\n",
      " [205943.34]\n",
      " ...\n",
      " [218851.94]\n",
      " [128395.58]\n",
      " [152422.44]]\n",
      "16000 Cost :  2094625900.0 \n",
      "Preadiction\n",
      " [[195272.12]\n",
      " [172249.53]\n",
      " [206393.78]\n",
      " ...\n",
      " [218258.  ]\n",
      " [128044.78]\n",
      " [151984.03]]\n",
      "17000 Cost :  2089680800.0 \n",
      "Preadiction\n",
      " [[195674.11]\n",
      " [172091.25]\n",
      " [206813.03]\n",
      " ...\n",
      " [217689.9 ]\n",
      " [127719.61]\n",
      " [151577.16]]\n",
      "18000 Cost :  2085355500.0 \n",
      "Preadiction\n",
      " [[196048.45]\n",
      " [171950.28]\n",
      " [207203.7 ]\n",
      " ...\n",
      " [217149.58]\n",
      " [127417.02]\n",
      " [151198.52]]\n",
      "19000 Cost :  2081571800.0 \n",
      "Preadiction\n",
      " [[196398.11]\n",
      " [171823.56]\n",
      " [207568.97]\n",
      " ...\n",
      " [216639.33]\n",
      " [127134.35]\n",
      " [150845.42]]\n",
      "20000 Cost :  2078262500.0 \n",
      "Preadiction\n",
      " [[196723.53]\n",
      " [171708.98]\n",
      " [207909.17]\n",
      " ...\n",
      " [216156.42]\n",
      " [126870.76]\n",
      " [150516.31]]\n",
      "21000 Cost :  2075365000.0 \n",
      "Preadiction\n",
      " [[197027.44]\n",
      " [171605.33]\n",
      " [208227.14]\n",
      " ...\n",
      " [215701.62]\n",
      " [126624.96]\n",
      " [150209.75]]\n",
      "22000 Cost :  2072829700.0 \n",
      "Preadiction\n",
      " [[197310.75 ]\n",
      " [171511.25 ]\n",
      " [208523.8  ]\n",
      " ...\n",
      " [215272.97 ]\n",
      " [126395.945]\n",
      " [149924.31 ]]\n",
      "23000 Cost :  2070608500.0 \n",
      "Preadiction\n",
      " [[197574.81]\n",
      " [171425.08]\n",
      " [208800.56]\n",
      " ...\n",
      " [214869.6 ]\n",
      " [126181.88]\n",
      " [149657.88]]\n",
      "24000 Cost :  2068663200.0 \n",
      "Preadiction\n",
      " [[197821.84 ]\n",
      " [171345.97 ]\n",
      " [209059.75 ]\n",
      " ...\n",
      " [214491.88 ]\n",
      " [125981.266]\n",
      " [149408.89 ]]\n",
      "25000 Cost :  2066959500.0 \n",
      "Preadiction\n",
      " [[198052.62 ]\n",
      " [171273.53 ]\n",
      " [209302.12 ]\n",
      " ...\n",
      " [214137.5  ]\n",
      " [125793.945]\n",
      " [149176.78 ]]\n",
      "26000 Cost :  2065465100.0 \n",
      "Preadiction\n",
      " [[198268.1 ]\n",
      " [171207.06]\n",
      " [209528.62]\n",
      " ...\n",
      " [213804.97]\n",
      " [125618.88]\n",
      " [148960.25]]\n",
      "27000 Cost :  2064155300.0 \n",
      "Preadiction\n",
      " [[198469.23]\n",
      " [171145.95]\n",
      " [209740.27]\n",
      " ...\n",
      " [213492.98]\n",
      " [125455.49]\n",
      " [148758.39]]\n",
      "28000 Cost :  2063006100.0 \n",
      "Preadiction\n",
      " [[198657.14]\n",
      " [171089.11]\n",
      " [209938.23]\n",
      " ...\n",
      " [213200.92]\n",
      " [125301.76]\n",
      " [148569.23]]\n",
      "29000 Cost :  2061997600.0 \n",
      "Preadiction\n",
      " [[198833.14 ]\n",
      " [171036.73 ]\n",
      " [210123.83 ]\n",
      " ...\n",
      " [212928.08 ]\n",
      " [125157.914]\n",
      " [148392.73 ]]\n",
      "30000 Cost :  2061111800.0 \n",
      "Preadiction\n",
      " [[198997.52 ]\n",
      " [170988.89 ]\n",
      " [210297.33 ]\n",
      " ...\n",
      " [212671.9  ]\n",
      " [125023.984]\n",
      " [148228.55 ]]\n",
      "31000 Cost :  2060333300.0 \n",
      "Preadiction\n",
      " [[199150.88]\n",
      " [170944.02]\n",
      " [210459.42]\n",
      " ...\n",
      " [212432.1 ]\n",
      " [124897.61]\n",
      " [148074.36]]\n",
      "32000 Cost :  2059650200.0 \n",
      "Preadiction\n",
      " [[199294.83]\n",
      " [170902.86]\n",
      " [210611.69]\n",
      " ...\n",
      " [212208.48]\n",
      " [124779.54]\n",
      " [147930.72]]\n",
      "33000 Cost :  2059047800.0 \n",
      "Preadiction\n",
      " [[199428.69]\n",
      " [170864.92]\n",
      " [210753.42]\n",
      " ...\n",
      " [211997.62]\n",
      " [124669.32]\n",
      " [147796.8 ]]\n",
      "34000 Cost :  2058517100.0 \n",
      "Preadiction\n",
      " [[199555.02]\n",
      " [170829.64]\n",
      " [210887.39]\n",
      " ...\n",
      " [211802.52]\n",
      " [124565.23]\n",
      " [147671.23]]\n",
      "35000 Cost :  2058049800.0 \n",
      "Preadiction\n",
      " [[199671.92]\n",
      " [170797.36]\n",
      " [211011.45]\n",
      " ...\n",
      " [211617.6 ]\n",
      " [124468.57]\n",
      " [147554.58]]\n",
      "36000 Cost :  2057637500.0 \n",
      "Preadiction\n",
      " [[199782.55]\n",
      " [170767.19]\n",
      " [211129.05]\n",
      " ...\n",
      " [211446.86]\n",
      " [124376.94]\n",
      " [147444.95]]\n",
      "37000 Cost :  2057272700.0 \n",
      "Preadiction\n",
      " [[199885.08]\n",
      " [170739.45]\n",
      " [211238.1 ]\n",
      " ...\n",
      " [211285.31]\n",
      " [124291.71]\n",
      " [147343.  ]]\n",
      "38000 Cost :  2056950300.0 \n",
      "Preadiction\n",
      " [[199981.52]\n",
      " [170714.08]\n",
      " [211340.83]\n",
      " ...\n",
      " [211134.92]\n",
      " [124211.66]\n",
      " [147247.83]]\n",
      "39000 Cost :  2056665100.0 \n",
      "Preadiction\n",
      " [[200071.73 ]\n",
      " [170690.05 ]\n",
      " [211437.05 ]\n",
      " ...\n",
      " [210994.58 ]\n",
      " [124135.945]\n",
      " [147158.39 ]]\n",
      "40000 Cost :  2056410800.0 \n",
      "Preadiction\n",
      " [[200155.42]\n",
      " [170668.58]\n",
      " [211526.33]\n",
      " ...\n",
      " [210861.02]\n",
      " [124066.01]\n",
      " [147075.7 ]]\n",
      "41000 Cost :  2056185300.0 \n",
      "Preadiction\n",
      " [[200235.08]\n",
      " [170648.6 ]\n",
      " [211611.53]\n",
      " ...\n",
      " [210738.89]\n",
      " [123999.36]\n",
      " [146997.92]]\n",
      "42000 Cost :  2055983700.0 \n",
      "Preadiction\n",
      " [[200309.14]\n",
      " [170629.77]\n",
      " [211690.8 ]\n",
      " ...\n",
      " [210623.78]\n",
      " [123936.64]\n",
      " [146925.05]]\n",
      "43000 Cost :  2055804700.0 \n",
      "Preadiction\n",
      " [[200377.45]\n",
      " [170612.7 ]\n",
      " [211763.95]\n",
      " ...\n",
      " [210514.42]\n",
      " [123878.84]\n",
      " [146857.83]]\n",
      "44000 Cost :  2055644000.0 \n",
      "Preadiction\n",
      " [[200442.39]\n",
      " [170597.61]\n",
      " [211833.61]\n",
      " ...\n",
      " [210412.92]\n",
      " [123824.4 ]\n",
      " [146795.14]]\n",
      "45000 Cost :  2055499500.0 \n",
      "Preadiction\n",
      " [[200503.52 ]\n",
      " [170582.58 ]\n",
      " [211899.33 ]\n",
      " ...\n",
      " [210319.47 ]\n",
      " [123771.836]\n",
      " [146735.44 ]]\n",
      "46000 Cost :  2055369900.0 \n",
      "Preadiction\n",
      " [[200560.48]\n",
      " [170569.44]\n",
      " [211960.64]\n",
      " ...\n",
      " [210230.9 ]\n",
      " [123723.22]\n",
      " [146680.36]]\n",
      "47000 Cost :  2055251800.0 \n",
      "Preadiction\n",
      " [[200613.17 ]\n",
      " [170557.3  ]\n",
      " [212017.31 ]\n",
      " ...\n",
      " [210146.39 ]\n",
      " [123678.055]\n",
      " [146629.2  ]]\n",
      "48000 Cost :  2055146100.0 \n",
      "Preadiction\n",
      " [[200662.33]\n",
      " [170546.83]\n",
      " [212070.33]\n",
      " ...\n",
      " [210066.98]\n",
      " [123636.13]\n",
      " [146582.12]]\n",
      "49000 Cost :  2055050200.0 \n",
      "Preadiction\n",
      " [[200709.55]\n",
      " [170536.55]\n",
      " [212121.33]\n",
      " ...\n",
      " [209995.  ]\n",
      " [123595.16]\n",
      " [146537.05]]\n",
      "50000 Cost :  2054961200.0 \n",
      "Preadiction\n",
      " [[200753.83 ]\n",
      " [170526.61 ]\n",
      " [212169.23 ]\n",
      " ...\n",
      " [209927.81 ]\n",
      " [123556.266]\n",
      " [146494.61 ]]\n",
      "51000 Cost :  2054881200.0 \n",
      "Preadiction\n",
      " [[200794.98]\n",
      " [170517.89]\n",
      " [212213.8 ]\n",
      " ...\n",
      " [209863.92]\n",
      " [123520.17]\n",
      " [146455.47]]\n",
      "52000 Cost :  2054806400.0 \n",
      "Preadiction\n",
      " [[200833.02]\n",
      " [170510.05]\n",
      " [212254.97]\n",
      " ...\n",
      " [209803.3 ]\n",
      " [123486.89]\n",
      " [146419.47]]\n",
      "53000 Cost :  2054737400.0 \n",
      "Preadiction\n",
      " [[200868.28]\n",
      " [170503.48]\n",
      " [212293.27]\n",
      " ...\n",
      " [209745.52]\n",
      " [123455.95]\n",
      " [146386.4 ]]\n",
      "54000 Cost :  2054673900.0 \n",
      "Preadiction\n",
      " [[200901.48]\n",
      " [170497.61]\n",
      " [212329.27]\n",
      " ...\n",
      " [209690.69]\n",
      " [123427.11]\n",
      " [146355.62]]\n",
      "55000 Cost :  2054615000.0 \n",
      "Preadiction\n",
      " [[200933.42 ]\n",
      " [170492.11 ]\n",
      " [212364.05 ]\n",
      " ...\n",
      " [209641.45 ]\n",
      " [123398.734]\n",
      " [146326.33 ]]\n",
      "56000 Cost :  2054559400.0 \n",
      "Preadiction\n",
      " [[200963.83]\n",
      " [170486.27]\n",
      " [212397.2 ]\n",
      " ...\n",
      " [209596.2 ]\n",
      " [123371.11]\n",
      " [146298.17]]\n",
      "57000 Cost :  2054507600.0 \n",
      "Preadiction\n",
      " [[200991.95]\n",
      " [170481.36]\n",
      " [212427.95]\n",
      " ...\n",
      " [209553.52]\n",
      " [123345.51]\n",
      " [146272.52]]\n",
      "58000 Cost :  2054458100.0 \n",
      "Preadiction\n",
      " [[201018.48]\n",
      " [170476.3 ]\n",
      " [212456.92]\n",
      " ...\n",
      " [209513.23]\n",
      " [123321.18]\n",
      " [146248.14]]\n",
      "59000 Cost :  2054411400.0 \n",
      "Preadiction\n",
      " [[201043.33 ]\n",
      " [170472.23 ]\n",
      " [212484.05 ]\n",
      " ...\n",
      " [209475.05 ]\n",
      " [123298.484]\n",
      " [146225.83 ]]\n",
      "60000 Cost :  2054368000.0 \n",
      "Preadiction\n",
      " [[201066.31]\n",
      " [170469.05]\n",
      " [212509.23]\n",
      " ...\n",
      " [209438.7 ]\n",
      " [123277.29]\n",
      " [146205.42]]\n",
      "61000 Cost :  2054325200.0 \n",
      "Preadiction\n",
      " [[201087.52]\n",
      " [170465.98]\n",
      " [212532.52]\n",
      " ...\n",
      " [209403.88]\n",
      " [123257.43]\n",
      " [146186.42]]\n",
      "62000 Cost :  2054284300.0 \n",
      "Preadiction\n",
      " [[201107.73]\n",
      " [170463.42]\n",
      " [212554.62]\n",
      " ...\n",
      " [209370.42]\n",
      " [123238.71]\n",
      " [146168.73]]\n",
      "63000 Cost :  2054245100.0 \n",
      "Preadiction\n",
      " [[201126.2 ]\n",
      " [170461.7 ]\n",
      " [212574.9 ]\n",
      " ...\n",
      " [209338.95]\n",
      " [123221.71]\n",
      " [146153.05]]\n",
      "64000 Cost :  2054207100.0 \n",
      "Preadiction\n",
      " [[201143.17]\n",
      " [170460.42]\n",
      " [212593.61]\n",
      " ...\n",
      " [209308.77]\n",
      " [123205.74]\n",
      " [146138.73]]\n",
      "65000 Cost :  2054170800.0 \n",
      "Preadiction\n",
      " [[201159.6 ]\n",
      " [170459.33]\n",
      " [212611.77]\n",
      " ...\n",
      " [209280.33]\n",
      " [123190.03]\n",
      " [146124.94]]\n",
      "66000 Cost :  2054135300.0 \n",
      "Preadiction\n",
      " [[201175.84]\n",
      " [170457.64]\n",
      " [212629.61]\n",
      " ...\n",
      " [209255.44]\n",
      " [123174.27]\n",
      " [146111.39]]\n",
      "67000 Cost :  2054100400.0 \n",
      "Preadiction\n",
      " [[201190.89]\n",
      " [170456.45]\n",
      " [212646.3 ]\n",
      " ...\n",
      " [209231.89]\n",
      " [123159.38]\n",
      " [146099.02]]\n",
      "68000 Cost :  2054067100.0 \n",
      "Preadiction\n",
      " [[201204.98]\n",
      " [170455.55]\n",
      " [212661.9 ]\n",
      " ...\n",
      " [209209.2 ]\n",
      " [123145.29]\n",
      " [146087.61]]\n",
      "69000 Cost :  2054033800.0 \n",
      "Preadiction\n",
      " [[201218.5 ]\n",
      " [170454.4 ]\n",
      " [212676.86]\n",
      " ...\n",
      " [209189.05]\n",
      " [123131.81]\n",
      " [146076.92]]\n",
      "70000 Cost :  2054001200.0 \n",
      "Preadiction\n",
      " [[201231.53]\n",
      " [170453.17]\n",
      " [212691.23]\n",
      " ...\n",
      " [209169.55]\n",
      " [123118.77]\n",
      " [146066.6 ]]\n",
      "71000 Cost :  2053969000.0 \n",
      "Preadiction\n",
      " [[201243.64]\n",
      " [170452.06]\n",
      " [212704.6 ]\n",
      " ...\n",
      " [209151.22]\n",
      " [123106.3 ]\n",
      " [146057.12]]\n",
      "72000 Cost :  2053937800.0 \n",
      "Preadiction\n",
      " [[201254.78]\n",
      " [170451.48]\n",
      " [212716.94]\n",
      " ...\n",
      " [209133.94]\n",
      " [123094.85]\n",
      " [146048.83]]\n",
      "73000 Cost :  2053906200.0 \n",
      "Preadiction\n",
      " [[201265.3 ]\n",
      " [170451.47]\n",
      " [212728.75]\n",
      " ...\n",
      " [209116.56]\n",
      " [123083.69]\n",
      " [146041.  ]]\n",
      "74000 Cost :  2053875500.0 \n",
      "Preadiction\n",
      " [[201274.94]\n",
      " [170451.22]\n",
      " [212739.44]\n",
      " ...\n",
      " [209101.81]\n",
      " [123073.51]\n",
      " [146034.38]]\n",
      "75000 Cost :  2053845800.0 \n",
      "Preadiction\n",
      " [[201284.19]\n",
      " [170451.45]\n",
      " [212749.78]\n",
      " ...\n",
      " [209086.34]\n",
      " [123063.48]\n",
      " [146027.97]]\n",
      "76000 Cost :  2053815300.0 \n",
      "Preadiction\n",
      " [[201293.38 ]\n",
      " [170451.28 ]\n",
      " [212759.98 ]\n",
      " ...\n",
      " [209071.78 ]\n",
      " [123053.414]\n",
      " [146021.5  ]]\n",
      "77000 Cost :  2053785500.0 \n",
      "Preadiction\n",
      " [[201302.05]\n",
      " [170451.44]\n",
      " [212769.53]\n",
      " ...\n",
      " [209059.47]\n",
      " [123044.39]\n",
      " [146016.05]]\n",
      "78000 Cost :  2053756000.0 \n",
      "Preadiction\n",
      " [[201310.4 ]\n",
      " [170451.6 ]\n",
      " [212778.78]\n",
      " ...\n",
      " [209047.06]\n",
      " [123035.24]\n",
      " [146010.58]]\n",
      "79000 Cost :  2053727400.0 \n",
      "Preadiction\n",
      " [[201318.34]\n",
      " [170452.03]\n",
      " [212787.62]\n",
      " ...\n",
      " [209034.22]\n",
      " [123026.27]\n",
      " [146005.38]]\n",
      "80000 Cost :  2053697900.0 \n",
      "Preadiction\n",
      " [[201325.39]\n",
      " [170452.34]\n",
      " [212795.47]\n",
      " ...\n",
      " [209022.53]\n",
      " [123018.15]\n",
      " [146001.12]]\n",
      "81000 Cost :  2053668700.0 \n",
      "Preadiction\n",
      " [[201332.2 ]\n",
      " [170452.9 ]\n",
      " [212802.9 ]\n",
      " ...\n",
      " [209012.03]\n",
      " [123010.51]\n",
      " [145997.5 ]]\n",
      "82000 Cost :  2053640400.0 \n",
      "Preadiction\n",
      " [[201338.69]\n",
      " [170453.58]\n",
      " [212810.1 ]\n",
      " ...\n",
      " [209001.31]\n",
      " [123002.85]\n",
      " [145993.95]]\n",
      "83000 Cost :  2053611500.0 \n",
      "Preadiction\n",
      " [[201344.9 ]\n",
      " [170454.5 ]\n",
      " [212817.  ]\n",
      " ...\n",
      " [208990.19]\n",
      " [122995.39]\n",
      " [145990.61]]\n",
      "84000 Cost :  2053583000.0 \n",
      "Preadiction\n",
      " [[201350.75]\n",
      " [170455.75]\n",
      " [212823.61]\n",
      " ...\n",
      " [208979.03]\n",
      " [122988.22]\n",
      " [145987.61]]\n",
      "85000 Cost :  2053554400.0 \n",
      "Preadiction\n",
      " [[201355.14]\n",
      " [170456.6 ]\n",
      " [212828.55]\n",
      " ...\n",
      " [208970.66]\n",
      " [122982.48]\n",
      " [145986.14]]\n",
      "86000 Cost :  2053525900.0 \n",
      "Preadiction\n",
      " [[201359.73 ]\n",
      " [170457.94 ]\n",
      " [212833.72 ]\n",
      " ...\n",
      " [208962.38 ]\n",
      " [122976.766]\n",
      " [145984.84 ]]\n",
      "87000 Cost :  2053497500.0 \n",
      "Preadiction\n",
      " [[201364.44]\n",
      " [170459.53]\n",
      " [212839.03]\n",
      " ...\n",
      " [208954.14]\n",
      " [122971.04]\n",
      " [145983.56]]\n",
      "88000 Cost :  2053469400.0 \n",
      "Preadiction\n",
      " [[201368.9 ]\n",
      " [170460.9 ]\n",
      " [212844.1 ]\n",
      " ...\n",
      " [208945.67]\n",
      " [122965.07]\n",
      " [145982.06]]\n",
      "89000 Cost :  2053440800.0 \n",
      "Preadiction\n",
      " [[201373.53 ]\n",
      " [170462.03 ]\n",
      " [212849.25 ]\n",
      " ...\n",
      " [208937.12 ]\n",
      " [122959.055]\n",
      " [145980.34 ]]\n",
      "90000 Cost :  2053412700.0 \n",
      "Preadiction\n",
      " [[201378.11]\n",
      " [170463.12]\n",
      " [212854.38]\n",
      " ...\n",
      " [208928.58]\n",
      " [122953.01]\n",
      " [145978.6 ]]\n",
      "91000 Cost :  2053385500.0 \n",
      "Preadiction\n",
      " [[201382.44]\n",
      " [170464.23]\n",
      " [212859.25]\n",
      " ...\n",
      " [208920.06]\n",
      " [122946.97]\n",
      " [145976.88]]\n",
      "92000 Cost :  2053357800.0 \n",
      "Preadiction\n",
      " [[201385.83]\n",
      " [170465.72]\n",
      " [212862.88]\n",
      " ...\n",
      " [208913.31]\n",
      " [122942.57]\n",
      " [145976.88]]\n",
      "93000 Cost :  2053329400.0 \n",
      "Preadiction\n",
      " [[201389.1  ]\n",
      " [170467.2  ]\n",
      " [212866.38 ]\n",
      " ...\n",
      " [208906.5  ]\n",
      " [122938.125]\n",
      " [145976.88 ]]\n",
      "94000 Cost :  2053301800.0 \n",
      "Preadiction\n",
      " [[201392.28]\n",
      " [170468.66]\n",
      " [212869.81]\n",
      " ...\n",
      " [208899.72]\n",
      " [122933.62]\n",
      " [145976.84]]\n",
      "95000 Cost :  2053274100.0 \n",
      "Preadiction\n",
      " [[201395.38]\n",
      " [170470.06]\n",
      " [212873.17]\n",
      " ...\n",
      " [208892.9 ]\n",
      " [122929.08]\n",
      " [145976.78]]\n",
      "96000 Cost :  2053246100.0 \n",
      "Preadiction\n",
      " [[201398.38]\n",
      " [170471.45]\n",
      " [212876.42]\n",
      " ...\n",
      " [208886.06]\n",
      " [122924.48]\n",
      " [145976.69]]\n",
      "97000 Cost :  2053218400.0 \n",
      "Preadiction\n",
      " [[201401.31 ]\n",
      " [170472.83 ]\n",
      " [212879.66 ]\n",
      " ...\n",
      " [208879.2  ]\n",
      " [122919.836]\n",
      " [145976.6  ]]\n",
      "98000 Cost :  2053190400.0 \n",
      "Preadiction\n",
      " [[201404.22]\n",
      " [170474.25]\n",
      " [212882.84]\n",
      " ...\n",
      " [208872.4 ]\n",
      " [122915.23]\n",
      " [145976.53]]\n",
      "99000 Cost :  2053163100.0 \n",
      "Preadiction\n",
      " [[201407.06 ]\n",
      " [170475.7  ]\n",
      " [212886.   ]\n",
      " ...\n",
      " [208865.62 ]\n",
      " [122910.586]\n",
      " [145976.5  ]]\n",
      "100000 Cost :  2053135100.0 \n",
      "Preadiction\n",
      " [[201409.9 ]\n",
      " [170477.16]\n",
      " [212889.16]\n",
      " ...\n",
      " [208858.81]\n",
      " [122905.97]\n",
      " [145976.47]]\n",
      "101000 Cost :  2053107800.0 \n",
      "Preadiction\n",
      " [[201412.72 ]\n",
      " [170478.62 ]\n",
      " [212892.27 ]\n",
      " ...\n",
      " [208852.03 ]\n",
      " [122901.336]\n",
      " [145976.48 ]]\n",
      "102000 Cost :  2053080200.0 \n",
      "Preadiction\n",
      " [[201415.34]\n",
      " [170480.08]\n",
      " [212895.22]\n",
      " ...\n",
      " [208845.19]\n",
      " [122896.62]\n",
      " [145976.44]]\n",
      "103000 Cost :  2053052200.0 \n",
      "Preadiction\n",
      " [[201417.97]\n",
      " [170481.5 ]\n",
      " [212898.19]\n",
      " ...\n",
      " [208838.38]\n",
      " [122891.89]\n",
      " [145976.4 ]]\n",
      "104000 Cost :  2053025400.0 \n",
      "Preadiction\n",
      " [[201419.88]\n",
      " [170483.  ]\n",
      " [212900.06]\n",
      " ...\n",
      " [208832.94]\n",
      " [122888.58]\n",
      " [145977.62]]\n",
      "105000 Cost :  2052998300.0 \n",
      "Preadiction\n",
      " [[201421.72]\n",
      " [170484.69]\n",
      " [212901.88]\n",
      " ...\n",
      " [208827.88]\n",
      " [122885.62]\n",
      " [145979.22]]\n",
      "106000 Cost :  2052971000.0 \n",
      "Preadiction\n",
      " [[201423.44]\n",
      " [170486.4 ]\n",
      " [212903.53]\n",
      " ...\n",
      " [208822.84]\n",
      " [122882.63]\n",
      " [145980.84]]\n",
      "107000 Cost :  2052943200.0 \n",
      "Preadiction\n",
      " [[201425.12 ]\n",
      " [170488.05 ]\n",
      " [212905.22 ]\n",
      " ...\n",
      " [208817.97 ]\n",
      " [122879.516]\n",
      " [145982.4  ]]\n",
      "108000 Cost :  2052916200.0 \n",
      "Preadiction\n",
      " [[201426.94]\n",
      " [170489.6 ]\n",
      " [212907.05]\n",
      " ...\n",
      " [208813.61]\n",
      " [122876.18]\n",
      " [145983.84]]\n",
      "109000 Cost :  2052889000.0 \n",
      "Preadiction\n",
      " [[201428.72]\n",
      " [170491.11]\n",
      " [212908.86]\n",
      " ...\n",
      " [208809.25]\n",
      " [122872.81]\n",
      " [145985.28]]\n",
      "110000 Cost :  2052861600.0 \n",
      "Preadiction\n",
      " [[201430.56]\n",
      " [170492.69]\n",
      " [212910.75]\n",
      " ...\n",
      " [208804.84]\n",
      " [122869.39]\n",
      " [145986.64]]\n",
      "111000 Cost :  2052834200.0 \n",
      "Preadiction\n",
      " [[201432.44]\n",
      " [170494.34]\n",
      " [212912.69]\n",
      " ...\n",
      " [208800.42]\n",
      " [122865.93]\n",
      " [145987.97]]\n",
      "112000 Cost :  2052806900.0 \n",
      "Preadiction\n",
      " [[201434.31]\n",
      " [170495.95]\n",
      " [212914.6 ]\n",
      " ...\n",
      " [208795.98]\n",
      " [122862.45]\n",
      " [145989.31]]\n",
      "113000 Cost :  2052780400.0 \n",
      "Preadiction\n",
      " [[201436.11]\n",
      " [170497.52]\n",
      " [212916.45]\n",
      " ...\n",
      " [208791.6 ]\n",
      " [122858.96]\n",
      " [145990.64]]\n",
      "114000 Cost :  2052753800.0 \n",
      "Preadiction\n",
      " [[201437.81]\n",
      " [170499.  ]\n",
      " [212918.22]\n",
      " ...\n",
      " [208787.34]\n",
      " [122855.5 ]\n",
      " [145992.02]]\n",
      "115000 Cost :  2052726000.0 \n",
      "Preadiction\n",
      " [[201439.52]\n",
      " [170500.45]\n",
      " [212919.98]\n",
      " ...\n",
      " [208783.1 ]\n",
      " [122852.03]\n",
      " [145993.39]]\n",
      "116000 Cost :  2052698200.0 \n",
      "Preadiction\n",
      " [[201441.19]\n",
      " [170501.92]\n",
      " [212921.7 ]\n",
      " ...\n",
      " [208778.83]\n",
      " [122848.58]\n",
      " [145994.78]]\n",
      "117000 Cost :  2052671400.0 \n",
      "Preadiction\n",
      " [[201442.92]\n",
      " [170503.45]\n",
      " [212923.52]\n",
      " ...\n",
      " [208774.52]\n",
      " [122845.18]\n",
      " [145996.17]]\n",
      "118000 Cost :  2052644700.0 \n",
      "Preadiction\n",
      " [[201444.73]\n",
      " [170505.05]\n",
      " [212925.38]\n",
      " ...\n",
      " [208770.14]\n",
      " [122841.74]\n",
      " [145997.52]]\n",
      "119000 Cost :  2052617700.0 \n",
      "Preadiction\n",
      " [[201446.56 ]\n",
      " [170506.61 ]\n",
      " [212927.23 ]\n",
      " ...\n",
      " [208765.8  ]\n",
      " [122838.305]\n",
      " [145998.84 ]]\n",
      "120000 Cost :  2052590600.0 \n",
      "Preadiction\n",
      " [[201448.42]\n",
      " [170508.06]\n",
      " [212929.14]\n",
      " ...\n",
      " [208761.55]\n",
      " [122834.8 ]\n",
      " [146000.08]]\n",
      "121000 Cost :  2052564500.0 \n",
      "Preadiction\n",
      " [[201450.38 ]\n",
      " [170509.38 ]\n",
      " [212931.12 ]\n",
      " ...\n",
      " [208757.36 ]\n",
      " [122831.195]\n",
      " [146001.17 ]]\n",
      "122000 Cost :  2052537600.0 \n",
      "Preadiction\n",
      " [[201452.3 ]\n",
      " [170510.67]\n",
      " [212933.08]\n",
      " ...\n",
      " [208753.22]\n",
      " [122827.61]\n",
      " [146002.31]]\n",
      "123000 Cost :  2052510100.0 \n",
      "Preadiction\n",
      " [[201454.23]\n",
      " [170511.98]\n",
      " [212935.05]\n",
      " ...\n",
      " [208749.08]\n",
      " [122824.  ]\n",
      " [146003.42]]\n",
      "124000 Cost :  2052484000.0 \n",
      "Preadiction\n",
      " [[201456.11 ]\n",
      " [170513.33 ]\n",
      " [212936.95 ]\n",
      " ...\n",
      " [208744.77 ]\n",
      " [122820.414]\n",
      " [146004.55 ]]\n",
      "125000 Cost :  2052456400.0 \n",
      "Preadiction\n",
      " [[201457.95 ]\n",
      " [170514.67 ]\n",
      " [212938.83 ]\n",
      " ...\n",
      " [208740.45 ]\n",
      " [122816.805]\n",
      " [146005.66 ]]\n",
      "126000 Cost :  2052429800.0 \n",
      "Preadiction\n",
      " [[201459.83 ]\n",
      " [170516.03 ]\n",
      " [212940.73 ]\n",
      " ...\n",
      " [208736.17 ]\n",
      " [122813.195]\n",
      " [146006.77 ]]\n",
      "127000 Cost :  2052402200.0 \n",
      "Preadiction\n",
      " [[201461.67]\n",
      " [170517.36]\n",
      " [212942.62]\n",
      " ...\n",
      " [208731.86]\n",
      " [122809.57]\n",
      " [146007.89]]\n",
      "128000 Cost :  2052376300.0 \n",
      "Preadiction\n",
      " [[201463.48]\n",
      " [170518.64]\n",
      " [212944.48]\n",
      " ...\n",
      " [208727.66]\n",
      " [122805.95]\n",
      " [146008.98]]\n",
      "129000 Cost :  2052349800.0 \n",
      "Preadiction\n",
      " [[201465.23]\n",
      " [170519.92]\n",
      " [212946.25]\n",
      " ...\n",
      " [208723.42]\n",
      " [122802.34]\n",
      " [146010.12]]\n",
      "130000 Cost :  2052322600.0 \n",
      "Preadiction\n",
      " [[201466.89]\n",
      " [170521.17]\n",
      " [212947.98]\n",
      " ...\n",
      " [208719.14]\n",
      " [122798.7 ]\n",
      " [146011.27]]\n",
      "131000 Cost :  2052296300.0 \n",
      "Preadiction\n",
      " [[201468.58]\n",
      " [170522.45]\n",
      " [212949.7 ]\n",
      " ...\n",
      " [208714.89]\n",
      " [122795.11]\n",
      " [146012.42]]\n",
      "132000 Cost :  2052270100.0 \n",
      "Preadiction\n",
      " [[201470.25 ]\n",
      " [170523.73 ]\n",
      " [212951.42 ]\n",
      " ...\n",
      " [208710.62 ]\n",
      " [122791.484]\n",
      " [146013.55 ]]\n",
      "133000 Cost :  2052242400.0 \n",
      "Preadiction\n",
      " [[201471.92]\n",
      " [170524.98]\n",
      " [212953.17]\n",
      " ...\n",
      " [208706.38]\n",
      " [122787.87]\n",
      " [146014.7 ]]\n",
      "134000 Cost :  2052215700.0 \n",
      "Preadiction\n",
      " [[201473.61]\n",
      " [170526.27]\n",
      " [212954.89]\n",
      " ...\n",
      " [208702.11]\n",
      " [122784.25]\n",
      " [146015.86]]\n",
      "135000 Cost :  2052189000.0 \n",
      "Preadiction\n",
      " [[201475.3 ]\n",
      " [170527.53]\n",
      " [212956.62]\n",
      " ...\n",
      " [208697.86]\n",
      " [122780.63]\n",
      " [146017.  ]]\n",
      "136000 Cost :  2052162300.0 \n",
      "Preadiction\n",
      " [[201476.97 ]\n",
      " [170528.8  ]\n",
      " [212958.36 ]\n",
      " ...\n",
      " [208693.58 ]\n",
      " [122777.016]\n",
      " [146018.12 ]]\n",
      "137000 Cost :  2052136200.0 \n",
      "Preadiction\n",
      " [[201478.61]\n",
      " [170530.08]\n",
      " [212960.05]\n",
      " ...\n",
      " [208689.3 ]\n",
      " [122773.39]\n",
      " [146019.27]]\n",
      "138000 Cost :  2052109000.0 \n",
      "Preadiction\n",
      " [[201480.2 ]\n",
      " [170531.36]\n",
      " [212961.7 ]\n",
      " ...\n",
      " [208684.97]\n",
      " [122769.75]\n",
      " [146020.42]]\n",
      "139000 Cost :  2052082600.0 \n",
      "Preadiction\n",
      " [[201481.8  ]\n",
      " [170532.66 ]\n",
      " [212963.36 ]\n",
      " ...\n",
      " [208680.6  ]\n",
      " [122766.125]\n",
      " [146021.56 ]]\n",
      "140000 Cost :  2052056000.0 \n",
      "Preadiction\n",
      " [[201483.38]\n",
      " [170533.92]\n",
      " [212964.98]\n",
      " ...\n",
      " [208676.23]\n",
      " [122762.49]\n",
      " [146022.7 ]]\n",
      "141000 Cost :  2052029800.0 \n",
      "Preadiction\n",
      " [[201484.95 ]\n",
      " [170535.23 ]\n",
      " [212966.64 ]\n",
      " ...\n",
      " [208671.89 ]\n",
      " [122758.875]\n",
      " [146023.86 ]]\n",
      "142000 Cost :  2052002700.0 \n",
      "Preadiction\n",
      " [[201486.64 ]\n",
      " [170536.62 ]\n",
      " [212968.36 ]\n",
      " ...\n",
      " [208667.4  ]\n",
      " [122755.266]\n",
      " [146024.97 ]]\n",
      "143000 Cost :  2051976300.0 \n",
      "Preadiction\n",
      " [[201488.33]\n",
      " [170538.02]\n",
      " [212970.05]\n",
      " ...\n",
      " [208662.95]\n",
      " [122751.69]\n",
      " [146026.06]]\n",
      "144000 Cost :  2051950500.0 \n",
      "Preadiction\n",
      " [[201489.72]\n",
      " [170539.45]\n",
      " [212971.36]\n",
      " ...\n",
      " [208659.58]\n",
      " [122748.66]\n",
      " [146027.78]]\n",
      "145000 Cost :  2051923600.0 \n",
      "Preadiction\n",
      " [[201491.12]\n",
      " [170540.89]\n",
      " [212972.69]\n",
      " ...\n",
      " [208656.19]\n",
      " [122745.63]\n",
      " [146029.5 ]]\n",
      "146000 Cost :  2051897500.0 \n",
      "Preadiction\n",
      " [[201492.52]\n",
      " [170542.3 ]\n",
      " [212974.02]\n",
      " ...\n",
      " [208652.75]\n",
      " [122742.61]\n",
      " [146031.22]]\n",
      "147000 Cost :  2051870700.0 \n",
      "Preadiction\n",
      " [[201493.94]\n",
      " [170543.73]\n",
      " [212975.33]\n",
      " ...\n",
      " [208649.31]\n",
      " [122739.58]\n",
      " [146032.94]]\n",
      "148000 Cost :  2051844400.0 \n",
      "Preadiction\n",
      " [[201495.36]\n",
      " [170545.17]\n",
      " [212976.66]\n",
      " ...\n",
      " [208645.92]\n",
      " [122736.54]\n",
      " [146034.64]]\n",
      "149000 Cost :  2051818500.0 \n",
      "Preadiction\n",
      " [[201496.75 ]\n",
      " [170546.61 ]\n",
      " [212977.97 ]\n",
      " ...\n",
      " [208642.52 ]\n",
      " [122733.516]\n",
      " [146036.38 ]]\n",
      "150000 Cost :  2051792500.0 \n",
      "Preadiction\n",
      " [[201498.14]\n",
      " [170548.02]\n",
      " [212979.3 ]\n",
      " ...\n",
      " [208639.11]\n",
      " [122730.51]\n",
      " [146038.11]]\n",
      "151000 Cost :  2051765900.0 \n",
      "Preadiction\n",
      " [[201499.5  ]\n",
      " [170549.4  ]\n",
      " [212980.56 ]\n",
      " ...\n",
      " [208635.78 ]\n",
      " [122727.484]\n",
      " [146039.8  ]]\n",
      "152000 Cost :  2051739600.0 \n",
      "Preadiction\n",
      " [[201500.83 ]\n",
      " [170550.78 ]\n",
      " [212981.84 ]\n",
      " ...\n",
      " [208632.45 ]\n",
      " [122724.484]\n",
      " [146041.53 ]]\n",
      "153000 Cost :  2051713400.0 \n",
      "Preadiction\n",
      " [[201502.2 ]\n",
      " [170552.14]\n",
      " [212983.12]\n",
      " ...\n",
      " [208629.14]\n",
      " [122721.48]\n",
      " [146043.25]]\n",
      "154000 Cost :  2051687600.0 \n",
      "Preadiction\n",
      " [[201503.55]\n",
      " [170553.52]\n",
      " [212984.42]\n",
      " ...\n",
      " [208625.81]\n",
      " [122718.46]\n",
      " [146044.95]]\n",
      "155000 Cost :  2051661700.0 \n",
      "Preadiction\n",
      " [[201504.89]\n",
      " [170554.89]\n",
      " [212985.67]\n",
      " ...\n",
      " [208622.47]\n",
      " [122715.48]\n",
      " [146046.69]]\n",
      "156000 Cost :  2051635800.0 \n",
      "Preadiction\n",
      " [[201506.25]\n",
      " [170556.27]\n",
      " [212986.95]\n",
      " ...\n",
      " [208619.17]\n",
      " [122712.47]\n",
      " [146048.4 ]]\n",
      "157000 Cost :  2051609300.0 \n",
      "Preadiction\n",
      " [[201507.67 ]\n",
      " [170557.72 ]\n",
      " [212988.3  ]\n",
      " ...\n",
      " [208615.75 ]\n",
      " [122709.445]\n",
      " [146050.1  ]]\n",
      "158000 Cost :  2051583100.0 \n",
      "Preadiction\n",
      " [[201509.  ]\n",
      " [170558.94]\n",
      " [212989.53]\n",
      " ...\n",
      " [208612.42]\n",
      " [122706.42]\n",
      " [146051.78]]\n",
      "159000 Cost :  2051557200.0 \n",
      "Preadiction\n",
      " [[201510.38]\n",
      " [170560.12]\n",
      " [212990.78]\n",
      " ...\n",
      " [208609.03]\n",
      " [122703.38]\n",
      " [146053.44]]\n",
      "160000 Cost :  2051531000.0 \n",
      "Preadiction\n",
      " [[201511.69]\n",
      " [170561.31]\n",
      " [212991.98]\n",
      " ...\n",
      " [208605.62]\n",
      " [122700.36]\n",
      " [146055.12]]\n",
      "161000 Cost :  2051504800.0 \n",
      "Preadiction\n",
      " [[201512.98]\n",
      " [170562.53]\n",
      " [212993.16]\n",
      " ...\n",
      " [208602.19]\n",
      " [122697.32]\n",
      " [146056.8 ]]\n",
      "162000 Cost :  2051479300.0 \n",
      "Preadiction\n",
      " [[201514.25]\n",
      " [170563.72]\n",
      " [212994.33]\n",
      " ...\n",
      " [208598.75]\n",
      " [122694.28]\n",
      " [146058.48]]\n",
      "163000 Cost :  2051453300.0 \n",
      "Preadiction\n",
      " [[201515.53]\n",
      " [170564.9 ]\n",
      " [212995.48]\n",
      " ...\n",
      " [208595.28]\n",
      " [122691.24]\n",
      " [146060.16]]\n",
      "164000 Cost :  2051427200.0 \n",
      "Preadiction\n",
      " [[201516.78 ]\n",
      " [170566.11 ]\n",
      " [212996.64 ]\n",
      " ...\n",
      " [208591.84 ]\n",
      " [122688.195]\n",
      " [146061.86 ]]\n",
      "165000 Cost :  2051401500.0 \n",
      "Preadiction\n",
      " [[201518.1 ]\n",
      " [170567.31]\n",
      " [212997.8 ]\n",
      " ...\n",
      " [208588.4 ]\n",
      " [122685.17]\n",
      " [146063.53]]\n",
      "166000 Cost :  2051375200.0 \n",
      "Preadiction\n",
      " [[201519.38]\n",
      " [170568.53]\n",
      " [212998.98]\n",
      " ...\n",
      " [208584.97]\n",
      " [122682.13]\n",
      " [146065.22]]\n",
      "167000 Cost :  2051349800.0 \n",
      "Preadiction\n",
      " [[201520.64]\n",
      " [170569.72]\n",
      " [213000.14]\n",
      " ...\n",
      " [208581.5 ]\n",
      " [122679.1 ]\n",
      " [146066.9 ]]\n",
      "168000 Cost :  2051323300.0 \n",
      "Preadiction\n",
      " [[201521.92]\n",
      " [170570.92]\n",
      " [213001.31]\n",
      " ...\n",
      " [208578.1 ]\n",
      " [122676.06]\n",
      " [146068.6 ]]\n",
      "169000 Cost :  2051297800.0 \n",
      "Preadiction\n",
      " [[201523.19]\n",
      " [170572.12]\n",
      " [213002.45]\n",
      " ...\n",
      " [208574.6 ]\n",
      " [122673.03]\n",
      " [146070.28]]\n",
      "170000 Cost :  2051271600.0 \n",
      "Preadiction\n",
      " [[201524.48 ]\n",
      " [170573.33 ]\n",
      " [213003.62 ]\n",
      " ...\n",
      " [208571.19 ]\n",
      " [122669.984]\n",
      " [146071.97 ]]\n",
      "171000 Cost :  2051245600.0 \n",
      "Preadiction\n",
      " [[201525.75]\n",
      " [170574.52]\n",
      " [213004.78]\n",
      " ...\n",
      " [208567.75]\n",
      " [122666.95]\n",
      " [146073.66]]\n",
      "172000 Cost :  2051219800.0 \n",
      "Preadiction\n",
      " [[201527.02]\n",
      " [170575.72]\n",
      " [213005.94]\n",
      " ...\n",
      " [208564.28]\n",
      " [122663.92]\n",
      " [146075.34]]\n",
      "173000 Cost :  2051194600.0 \n",
      "Preadiction\n",
      " [[201528.34]\n",
      " [170576.9 ]\n",
      " [213007.12]\n",
      " ...\n",
      " [208560.81]\n",
      " [122660.95]\n",
      " [146077.02]]\n",
      "174000 Cost :  2051169300.0 \n",
      "Preadiction\n",
      " [[201529.72]\n",
      " [170578.2 ]\n",
      " [213008.34]\n",
      " ...\n",
      " [208557.31]\n",
      " [122657.97]\n",
      " [146078.67]]\n",
      "175000 Cost :  2051143200.0 \n",
      "Preadiction\n",
      " [[201531.12 ]\n",
      " [170579.5  ]\n",
      " [213009.62 ]\n",
      " ...\n",
      " [208553.8  ]\n",
      " [122654.984]\n",
      " [146080.31 ]]\n",
      "176000 Cost :  2051117300.0 \n",
      "Preadiction\n",
      " [[201532.53]\n",
      " [170580.77]\n",
      " [213010.88]\n",
      " ...\n",
      " [208550.25]\n",
      " [122651.99]\n",
      " [146081.95]]\n",
      "177000 Cost :  2051091800.0 \n",
      "Preadiction\n",
      " [[201533.9  ]\n",
      " [170582.06 ]\n",
      " [213012.12 ]\n",
      " ...\n",
      " [208546.73 ]\n",
      " [122648.984]\n",
      " [146083.58 ]]\n",
      "178000 Cost :  2051066000.0 \n",
      "Preadiction\n",
      " [[201535.31]\n",
      " [170583.33]\n",
      " [213013.4 ]\n",
      " ...\n",
      " [208543.19]\n",
      " [122646.  ]\n",
      " [146085.22]]\n",
      "179000 Cost :  2051040500.0 \n",
      "Preadiction\n",
      " [[201536.72 ]\n",
      " [170584.62 ]\n",
      " [213014.66 ]\n",
      " ...\n",
      " [208539.64 ]\n",
      " [122643.016]\n",
      " [146086.88 ]]\n",
      "180000 Cost :  2051015400.0 \n",
      "Preadiction\n",
      " [[201538.12]\n",
      " [170585.9 ]\n",
      " [213015.9 ]\n",
      " ...\n",
      " [208536.1 ]\n",
      " [122640.  ]\n",
      " [146088.48]]\n",
      "181000 Cost :  2050989600.0 \n",
      "Preadiction\n",
      " [[201539.52 ]\n",
      " [170587.19 ]\n",
      " [213017.19 ]\n",
      " ...\n",
      " [208532.56 ]\n",
      " [122637.016]\n",
      " [146090.12 ]]\n",
      "182000 Cost :  2050963700.0 \n",
      "Preadiction\n",
      " [[201540.9 ]\n",
      " [170588.47]\n",
      " [213018.44]\n",
      " ...\n",
      " [208529.03]\n",
      " [122634.  ]\n",
      " [146091.75]]\n",
      "183000 Cost :  2050938100.0 \n",
      "Preadiction\n",
      " [[201542.31]\n",
      " [170589.75]\n",
      " [213019.69]\n",
      " ...\n",
      " [208525.5 ]\n",
      " [122631.02]\n",
      " [146093.39]]\n",
      "184000 Cost :  2050912500.0 \n",
      "Preadiction\n",
      " [[201543.72 ]\n",
      " [170591.03 ]\n",
      " [213020.95 ]\n",
      " ...\n",
      " [208521.98 ]\n",
      " [122628.016]\n",
      " [146095.03 ]]\n",
      "185000 Cost :  2050887000.0 \n",
      "Preadiction\n",
      " [[201545.1 ]\n",
      " [170592.31]\n",
      " [213022.19]\n",
      " ...\n",
      " [208518.44]\n",
      " [122625.03]\n",
      " [146096.66]]\n",
      "186000 Cost :  2050861800.0 \n",
      "Preadiction\n",
      " [[201546.5 ]\n",
      " [170593.62]\n",
      " [213023.47]\n",
      " ...\n",
      " [208514.9 ]\n",
      " [122622.04]\n",
      " [146098.31]]\n",
      "187000 Cost :  2050836500.0 \n",
      "Preadiction\n",
      " [[201547.9  ]\n",
      " [170594.88 ]\n",
      " [213024.72 ]\n",
      " ...\n",
      " [208511.38 ]\n",
      " [122619.016]\n",
      " [146099.9  ]]\n",
      "188000 Cost :  2050811000.0 \n",
      "Preadiction\n",
      " [[201549.31]\n",
      " [170596.19]\n",
      " [213025.97]\n",
      " ...\n",
      " [208507.84]\n",
      " [122616.03]\n",
      " [146101.55]]\n",
      "189000 Cost :  2050785200.0 \n",
      "Preadiction\n",
      " [[201550.7 ]\n",
      " [170597.47]\n",
      " [213027.22]\n",
      " ...\n",
      " [208504.31]\n",
      " [122613.05]\n",
      " [146103.19]]\n",
      "190000 Cost :  2050759700.0 \n",
      "Preadiction\n",
      " [[201552.11]\n",
      " [170598.73]\n",
      " [213028.5 ]\n",
      " ...\n",
      " [208500.78]\n",
      " [122610.05]\n",
      " [146104.83]]\n",
      "191000 Cost :  2050734200.0 \n",
      "Preadiction\n",
      " [[201553.47]\n",
      " [170600.  ]\n",
      " [213029.72]\n",
      " ...\n",
      " [208497.31]\n",
      " [122607.04]\n",
      " [146106.45]]\n",
      "192000 Cost :  2050709400.0 \n",
      "Preadiction\n",
      " [[201554.72]\n",
      " [170601.16]\n",
      " [213030.88]\n",
      " ...\n",
      " [208493.9 ]\n",
      " [122604.05]\n",
      " [146108.1 ]]\n",
      "193000 Cost :  2050683800.0 \n",
      "Preadiction\n",
      " [[201555.97]\n",
      " [170602.34]\n",
      " [213032.  ]\n",
      " ...\n",
      " [208490.53]\n",
      " [122601.07]\n",
      " [146109.77]]\n",
      "194000 Cost :  2050658800.0 \n",
      "Preadiction\n",
      " [[201557.23 ]\n",
      " [170603.53 ]\n",
      " [213033.16 ]\n",
      " ...\n",
      " [208487.16 ]\n",
      " [122598.086]\n",
      " [146111.4  ]]\n",
      "195000 Cost :  2050633300.0 \n",
      "Preadiction\n",
      " [[201558.47]\n",
      " [170604.69]\n",
      " [213034.28]\n",
      " ...\n",
      " [208483.78]\n",
      " [122595.11]\n",
      " [146113.05]]\n",
      "196000 Cost :  2050608100.0 \n",
      "Preadiction\n",
      " [[201559.75]\n",
      " [170605.88]\n",
      " [213035.44]\n",
      " ...\n",
      " [208480.38]\n",
      " [122592.13]\n",
      " [146114.72]]\n",
      "197000 Cost :  2050583000.0 \n",
      "Preadiction\n",
      " [[201561.  ]\n",
      " [170607.06]\n",
      " [213036.58]\n",
      " ...\n",
      " [208477.  ]\n",
      " [122589.15]\n",
      " [146116.38]]\n",
      "198000 Cost :  2050558200.0 \n",
      "Preadiction\n",
      " [[201562.25 ]\n",
      " [170608.23 ]\n",
      " [213037.72 ]\n",
      " ...\n",
      " [208473.62 ]\n",
      " [122586.164]\n",
      " [146118.02 ]]\n",
      "199000 Cost :  2050532700.0 \n",
      "Preadiction\n",
      " [[201563.5  ]\n",
      " [170609.44 ]\n",
      " [213038.84 ]\n",
      " ...\n",
      " [208470.25 ]\n",
      " [122583.195]\n",
      " [146119.66 ]]\n",
      "200000 Cost :  2050507000.0 \n",
      "Preadiction\n",
      " [[201564.77]\n",
      " [170610.6 ]\n",
      " [213040.  ]\n",
      " ...\n",
      " [208466.88]\n",
      " [122580.21]\n",
      " [146121.33]]\n"
     ]
    }
   ],
   "source": [
    "for step in range(200001):\n",
    "    cost_val, hy_val, _ = sess.run(\n",
    "        [cost,hypothesis,train],\n",
    "        feed_dict={X:x_data, Y:y_data})\n",
    "    if step % 1000 == 0:\n",
    "        print(step,\"Cost : \",cost_val,\n",
    "             \"\\nPreadiction\\n\",hy_val)"
   ]
  },
  {
   "cell_type": "markdown",
   "metadata": {},
   "source": [
    "----"
   ]
  },
  {
   "cell_type": "code",
   "execution_count": 57,
   "metadata": {},
   "outputs": [],
   "source": [
    "test = pd.read_csv(\"test.csv\")"
   ]
  },
  {
   "cell_type": "code",
   "execution_count": 58,
   "metadata": {},
   "outputs": [],
   "source": [
    "x_test=test.loc[:,col_one]"
   ]
  },
  {
   "cell_type": "code",
   "execution_count": 59,
   "metadata": {},
   "outputs": [
    {
     "data": {
      "text/plain": [
       "(1459, 22)"
      ]
     },
     "execution_count": 59,
     "metadata": {},
     "output_type": "execute_result"
    }
   ],
   "source": [
    "x_test.shape"
   ]
  },
  {
   "cell_type": "code",
   "execution_count": 60,
   "metadata": {},
   "outputs": [],
   "source": [
    "x_one_hot_test=pd.get_dummies(x_test, prefix=['MSZoning'\n",
    ",'Alley'\n",
    ",'LotShape'\n",
    ",'LotConfig'\n",
    ",'BldgType'\n",
    ",'HouseStyle'\n",
    ",'RoofStyle'\n",
    ",'MasVnrType'\n",
    ",'ExterQual'\n",
    ",'Foundation'\n",
    ",'BsmtQual'\n",
    ",'BsmtCond'\n",
    ",'BsmtExposure'\n",
    ",'BsmtFinType1'\n",
    ",'HeatingQC'\n",
    ",'KitchenQual'\n",
    ",'FireplaceQu'\n",
    ",'GarageType'\n",
    ",'GarageFinish'\n",
    ",'GarageQual'\n",
    ",'PoolQC'\n",
    ",'Fence'])"
   ]
  },
  {
   "cell_type": "code",
   "execution_count": 61,
   "metadata": {},
   "outputs": [
    {
     "data": {
      "text/plain": [
       "(1459, 99)"
      ]
     },
     "execution_count": 61,
     "metadata": {},
     "output_type": "execute_result"
    }
   ],
   "source": [
    "x_one_hot_test.shape"
   ]
  },
  {
   "cell_type": "code",
   "execution_count": 67,
   "metadata": {},
   "outputs": [],
   "source": [
    "x_one_hot_test[\"Id\"]= test.loc[:,\"Id\"]"
   ]
  },
  {
   "cell_type": "code",
   "execution_count": 68,
   "metadata": {},
   "outputs": [],
   "source": [
    "x_tnumber = test.loc[:,[\"Id\",\"OverallQual\",\"YearBuilt\",\"YearRemodAdd\",\"MasVnrArea\",\"TotalBsmtSF\",\"1stFlrSF\",\"GrLivArea\",\"FullBath\",\"TotRmsAbvGrd\",\"Fireplaces\",\"GarageYrBlt\",\"GarageCars\",\"GarageArea\"]]"
   ]
  },
  {
   "cell_type": "code",
   "execution_count": 69,
   "metadata": {},
   "outputs": [],
   "source": [
    "x_data = pd.merge(x_one_hot_test,x_tnumber,on=\"Id\")"
   ]
  },
  {
   "cell_type": "code",
   "execution_count": 70,
   "metadata": {},
   "outputs": [
    {
     "data": {
      "text/plain": [
       "(1459, 113)"
      ]
     },
     "execution_count": 70,
     "metadata": {},
     "output_type": "execute_result"
    }
   ],
   "source": [
    "x_data.shape"
   ]
  },
  {
   "cell_type": "code",
   "execution_count": 71,
   "metadata": {},
   "outputs": [],
   "source": [
    "x_data=x_data.drop(\"GarageYrBlt\",axis=1)"
   ]
  },
  {
   "cell_type": "code",
   "execution_count": 72,
   "metadata": {},
   "outputs": [],
   "source": [
    "x_data.loc[x_data.isnull()[\"MasVnrArea\"],:] = x_data.loc[x_data.isnull()[\"MasVnrArea\"],:].fillna(value=x_data[\"MasVnrArea\"].mean())"
   ]
  },
  {
   "cell_type": "code",
   "execution_count": 73,
   "metadata": {},
   "outputs": [
    {
     "data": {
      "text/html": [
       "<div>\n",
       "<style scoped>\n",
       "    .dataframe tbody tr th:only-of-type {\n",
       "        vertical-align: middle;\n",
       "    }\n",
       "\n",
       "    .dataframe tbody tr th {\n",
       "        vertical-align: top;\n",
       "    }\n",
       "\n",
       "    .dataframe thead th {\n",
       "        text-align: right;\n",
       "    }\n",
       "</style>\n",
       "<table border=\"1\" class=\"dataframe\">\n",
       "  <thead>\n",
       "    <tr style=\"text-align: right;\">\n",
       "      <th></th>\n",
       "      <th>0</th>\n",
       "    </tr>\n",
       "  </thead>\n",
       "  <tbody>\n",
       "  </tbody>\n",
       "</table>\n",
       "</div>"
      ],
      "text/plain": [
       "Empty DataFrame\n",
       "Columns: [0]\n",
       "Index: []"
      ]
     },
     "execution_count": 73,
     "metadata": {},
     "output_type": "execute_result"
    }
   ],
   "source": [
    "aa = pd.DataFrame(x_data.isnull().sum())\n",
    "aa.loc[aa[0]>1]"
   ]
  },
  {
   "cell_type": "code",
   "execution_count": 88,
   "metadata": {},
   "outputs": [
    {
     "data": {
      "text/plain": [
       "MSZoning_C (all)      0\n",
       "GarageType_Attchd     0\n",
       "GarageType_2Types     0\n",
       "FireplaceQu_TA        0\n",
       "FireplaceQu_Po        0\n",
       "FireplaceQu_Gd        0\n",
       "FireplaceQu_Fa        0\n",
       "FireplaceQu_Ex        0\n",
       "KitchenQual_TA        0\n",
       "KitchenQual_Gd        0\n",
       "KitchenQual_Fa        0\n",
       "KitchenQual_Ex        0\n",
       "GarageType_Basment    0\n",
       "HeatingQC_TA          0\n",
       "HeatingQC_Gd          0\n",
       "HeatingQC_Fa          0\n",
       "HeatingQC_Ex          0\n",
       "BsmtFinType1_Unf      0\n",
       "BsmtFinType1_Rec      0\n",
       "BsmtFinType1_LwQ      0\n",
       "BsmtFinType1_GLQ      0\n",
       "BsmtFinType1_BLQ      0\n",
       "BsmtFinType1_ALQ      0\n",
       "BsmtExposure_No       0\n",
       "BsmtExposure_Mn       0\n",
       "HeatingQC_Po          0\n",
       "BsmtExposure_Gd       0\n",
       "GarageType_BuiltIn    0\n",
       "GarageType_Detchd     0\n",
       "Fireplaces            0\n",
       "                     ..\n",
       "HouseStyle_SFoyer     0\n",
       "HouseStyle_SLvl       0\n",
       "RoofStyle_Flat        0\n",
       "BsmtCond_Gd           0\n",
       "BsmtCond_Fa           0\n",
       "BsmtQual_TA           0\n",
       "BsmtQual_Gd           0\n",
       "BsmtQual_Fa           0\n",
       "BsmtQual_Ex           0\n",
       "Foundation_Wood       0\n",
       "Foundation_Stone      0\n",
       "Foundation_Slab       0\n",
       "Foundation_PConc      0\n",
       "Foundation_CBlock     0\n",
       "Foundation_BrkTil     0\n",
       "ExterQual_TA          0\n",
       "ExterQual_Gd          0\n",
       "ExterQual_Fa          0\n",
       "ExterQual_Ex          0\n",
       "MasVnrType_Stone      0\n",
       "MasVnrType_None       0\n",
       "MasVnrType_BrkFace    0\n",
       "MasVnrType_BrkCmn     0\n",
       "RoofStyle_Shed        0\n",
       "RoofStyle_Mansard     0\n",
       "RoofStyle_Hip         0\n",
       "RoofStyle_Gambrel     0\n",
       "RoofStyle_Gable       0\n",
       "GarageCars            0\n",
       "GarageArea            0\n",
       "Length: 112, dtype: int64"
      ]
     },
     "execution_count": 88,
     "metadata": {},
     "output_type": "execute_result"
    }
   ],
   "source": [
    "x_data.isnull().sum().sort_values()"
   ]
  },
  {
   "cell_type": "code",
   "execution_count": 83,
   "metadata": {},
   "outputs": [],
   "source": [
    "x_data.loc[x_data.isnull()[\"GarageCars\"],:] = x_data.loc[x_data.isnull()[\"GarageCars\"],:].fillna(value=x_data[\"GarageCars\"].mean())\n",
    "x_data.loc[x_data.isnull()[\"GarageArea\"],:] = x_data.loc[x_data.isnull()[\"GarageArea\"],:].fillna(value=x_data[\"GarageArea\"].mean())"
   ]
  },
  {
   "cell_type": "code",
   "execution_count": 85,
   "metadata": {},
   "outputs": [
    {
     "data": {
      "text/plain": [
       "count    1458.000000\n",
       "mean     1046.117970\n",
       "std       442.898624\n",
       "min         0.000000\n",
       "25%       784.000000\n",
       "50%       988.000000\n",
       "75%      1305.000000\n",
       "max      5095.000000\n",
       "Name: TotalBsmtSF, dtype: float64"
      ]
     },
     "execution_count": 85,
     "metadata": {},
     "output_type": "execute_result"
    }
   ],
   "source": [
    "x_data['TotalBsmtSF'].describe()"
   ]
  },
  {
   "cell_type": "code",
   "execution_count": 87,
   "metadata": {},
   "outputs": [],
   "source": [
    "x_data.loc[x_data.isnull()[\"TotalBsmtSF\"],:] = x_data.loc[x_data.isnull()[\"TotalBsmtSF\"],:].fillna(value=x_data[\"TotalBsmtSF\"].mean())"
   ]
  },
  {
   "cell_type": "code",
   "execution_count": 89,
   "metadata": {},
   "outputs": [
    {
     "data": {
      "text/plain": [
       "(1459, 112)"
      ]
     },
     "execution_count": 89,
     "metadata": {},
     "output_type": "execute_result"
    }
   ],
   "source": [
    "x_data.shape"
   ]
  },
  {
   "cell_type": "code",
   "execution_count": 91,
   "metadata": {},
   "outputs": [
    {
     "ename": "ValueError",
     "evalue": "Cannot feed value of shape (1459, 112) for Tensor 'Placeholder_8:0', which has shape '(?, 115)'",
     "output_type": "error",
     "traceback": [
      "\u001b[1;31m---------------------------------------------------------------------------\u001b[0m",
      "\u001b[1;31mValueError\u001b[0m                                Traceback (most recent call last)",
      "\u001b[1;32m<ipython-input-91-3d281bd20e4d>\u001b[0m in \u001b[0;36m<module>\u001b[1;34m\u001b[0m\n\u001b[1;32m----> 1\u001b[1;33m \u001b[0msess\u001b[0m\u001b[1;33m.\u001b[0m\u001b[0mrun\u001b[0m\u001b[1;33m(\u001b[0m\u001b[0mhypothesis\u001b[0m\u001b[1;33m,\u001b[0m \u001b[0mfeed_dict\u001b[0m\u001b[1;33m=\u001b[0m\u001b[1;33m{\u001b[0m\u001b[0mX\u001b[0m\u001b[1;33m:\u001b[0m\u001b[0mx_data\u001b[0m\u001b[1;33m}\u001b[0m\u001b[1;33m)\u001b[0m\u001b[1;33m\u001b[0m\u001b[1;33m\u001b[0m\u001b[0m\n\u001b[0m",
      "\u001b[1;32mD:\\anaconda\\lib\\site-packages\\tensorflow\\python\\client\\session.py\u001b[0m in \u001b[0;36mrun\u001b[1;34m(self, fetches, feed_dict, options, run_metadata)\u001b[0m\n\u001b[0;32m    948\u001b[0m     \u001b[1;32mtry\u001b[0m\u001b[1;33m:\u001b[0m\u001b[1;33m\u001b[0m\u001b[1;33m\u001b[0m\u001b[0m\n\u001b[0;32m    949\u001b[0m       result = self._run(None, fetches, feed_dict, options_ptr,\n\u001b[1;32m--> 950\u001b[1;33m                          run_metadata_ptr)\n\u001b[0m\u001b[0;32m    951\u001b[0m       \u001b[1;32mif\u001b[0m \u001b[0mrun_metadata\u001b[0m\u001b[1;33m:\u001b[0m\u001b[1;33m\u001b[0m\u001b[1;33m\u001b[0m\u001b[0m\n\u001b[0;32m    952\u001b[0m         \u001b[0mproto_data\u001b[0m \u001b[1;33m=\u001b[0m \u001b[0mtf_session\u001b[0m\u001b[1;33m.\u001b[0m\u001b[0mTF_GetBuffer\u001b[0m\u001b[1;33m(\u001b[0m\u001b[0mrun_metadata_ptr\u001b[0m\u001b[1;33m)\u001b[0m\u001b[1;33m\u001b[0m\u001b[1;33m\u001b[0m\u001b[0m\n",
      "\u001b[1;32mD:\\anaconda\\lib\\site-packages\\tensorflow\\python\\client\\session.py\u001b[0m in \u001b[0;36m_run\u001b[1;34m(self, handle, fetches, feed_dict, options, run_metadata)\u001b[0m\n\u001b[0;32m   1147\u001b[0m                              \u001b[1;34m'which has shape %r'\u001b[0m \u001b[1;33m%\u001b[0m\u001b[1;33m\u001b[0m\u001b[1;33m\u001b[0m\u001b[0m\n\u001b[0;32m   1148\u001b[0m                              (np_val.shape, subfeed_t.name,\n\u001b[1;32m-> 1149\u001b[1;33m                               str(subfeed_t.get_shape())))\n\u001b[0m\u001b[0;32m   1150\u001b[0m           \u001b[1;32mif\u001b[0m \u001b[1;32mnot\u001b[0m \u001b[0mself\u001b[0m\u001b[1;33m.\u001b[0m\u001b[0mgraph\u001b[0m\u001b[1;33m.\u001b[0m\u001b[0mis_feedable\u001b[0m\u001b[1;33m(\u001b[0m\u001b[0msubfeed_t\u001b[0m\u001b[1;33m)\u001b[0m\u001b[1;33m:\u001b[0m\u001b[1;33m\u001b[0m\u001b[1;33m\u001b[0m\u001b[0m\n\u001b[0;32m   1151\u001b[0m             \u001b[1;32mraise\u001b[0m \u001b[0mValueError\u001b[0m\u001b[1;33m(\u001b[0m\u001b[1;34m'Tensor %s may not be fed.'\u001b[0m \u001b[1;33m%\u001b[0m \u001b[0msubfeed_t\u001b[0m\u001b[1;33m)\u001b[0m\u001b[1;33m\u001b[0m\u001b[1;33m\u001b[0m\u001b[0m\n",
      "\u001b[1;31mValueError\u001b[0m: Cannot feed value of shape (1459, 112) for Tensor 'Placeholder_8:0', which has shape '(?, 115)'"
     ]
    }
   ],
   "source": [
    "sess.run(hypothesis, feed_dict={X:x_data})"
   ]
  }
 ],
 "metadata": {
  "kernelspec": {
   "display_name": "Python 3",
   "language": "python",
   "name": "python3"
  },
  "language_info": {
   "codemirror_mode": {
    "name": "ipython",
    "version": 3
   },
   "file_extension": ".py",
   "mimetype": "text/x-python",
   "name": "python",
   "nbconvert_exporter": "python",
   "pygments_lexer": "ipython3",
   "version": "3.6.10"
  }
 },
 "nbformat": 4,
 "nbformat_minor": 4
}
