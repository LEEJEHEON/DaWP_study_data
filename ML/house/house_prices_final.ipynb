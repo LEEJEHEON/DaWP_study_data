{
 "cells": [
  {
   "cell_type": "markdown",
   "metadata": {},
   "source": [
    "# Train data"
   ]
  },
  {
   "cell_type": "code",
   "execution_count": null,
   "metadata": {},
   "outputs": [],
   "source": [
    "# 카테고리 변수들 \n",
    "# 변수 선택 : 카테코리 수가 많이 없고, 분포가 한곳에 치우져지지 않고 고루 분포되어 있는 변수들 선택\n",
    "# 결측값 : None 으로 통일 (실제 data 에서도 None으로 지정이 되어있음)\n",
    "add_x = pd.concat([x_train,x_test])\n",
    "one_hot = pd.get_dummies(add_x)\n",
    "train_onehot=one_hot.iloc[0:1460,:]\n",
    "test_onehot=one_hot.iloc[1460:2920,:]\n",
    "# 수치형 변수들\n",
    "# 변수 선택 : 종속변수인 SalePrice 와 상관계수가 0.45 이상인 변수들 선택\n",
    "# 결측값 : 평균으로 처리\n",
    "x_data_train = pd.concat([train_onehot,x_data], axis=1)\n",
    "# MinMaxScaler\n",
    "# train 데이터를 기준으로  설정\n",
    "scaler = MinMaxScaler()\n",
    "scaler.fit(x_data_train)\n",
    "x_data =scaler.transform(x_data_train)\n",
    "y_data = df_train.iloc[:,-1]\n",
    "y_data = y_data.values\n",
    "y_data=y_data.reshape(-1,1)\n",
    "\n",
    "X = tf.placeholder(tf.float32, shape=[None,70])\n",
    "Y = tf.placeholder(tf.float32, shape=[None,1])\n",
    "\n",
    "W = tf.Variable(tf.random_normal([70,1],name='weight'))\n",
    "b = tf.Variable(tf.random_normal([1],name='bias'))\n",
    "\n",
    "hypothesis = tf.matmul(X, W) + b\n",
    "\n",
    "cost = tf.reduce_mean(tf.square(hypothesis-Y))\n",
    "\n",
    "optimizer = tf.train.GradientDescentOptimizer(learning_rate = 0.1)\n",
    "train = optimizer.minimize(cost)\n",
    "\n",
    "sess = tf.Session()\n",
    "sess.run(tf.global_variables_initializer())\n",
    "for step in range(200001):\n",
    "    cost_val, hy_val, _ = sess.run(\n",
    "        [cost,hypothesis,train],\n",
    "        feed_dict={X:x_data, Y:y_data})\n",
    "    if step % 2000 == 0:\n",
    "        print(step,\"Cost : \",cost_val,\n",
    "             \"\\nPreadiction\\n\",hy_val)"
   ]
  },
  {
   "cell_type": "markdown",
   "metadata": {},
   "source": [
    "# Test data"
   ]
  },
  {
   "cell_type": "code",
   "execution_count": null,
   "metadata": {},
   "outputs": [],
   "source": [
    "# 수치형 변수 결측값 : 평균으로 처리 \n",
    "x_data_test = pd.concat([test_onehot,x_data], axis=1)\n",
    "x_data_test =scaler.transform(x_data_test)\n",
    "sample = pd.read_csv(\"sample_submission.csv\")\n",
    "sample['SalePrice']=sess.run(hypothesis, feed_dict={X:x_data_test})"
   ]
  },
  {
   "cell_type": "code",
   "execution_count": null,
   "metadata": {},
   "outputs": [],
   "source": [
    "log_rmse(hy_val.reshape(-1,), y_train)\n",
    "# 결과 : 0.155009267656005"
   ]
  }
 ],
 "metadata": {
  "kernelspec": {
   "display_name": "Python 3",
   "language": "python",
   "name": "python3"
  },
  "language_info": {
   "codemirror_mode": {
    "name": "ipython",
    "version": 3
   },
   "file_extension": ".py",
   "mimetype": "text/x-python",
   "name": "python",
   "nbconvert_exporter": "python",
   "pygments_lexer": "ipython3",
   "version": "3.6.10"
  }
 },
 "nbformat": 4,
 "nbformat_minor": 4
}
