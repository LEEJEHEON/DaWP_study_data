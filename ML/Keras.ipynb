{
 "cells": [
  {
   "cell_type": "code",
   "execution_count": 2,
   "metadata": {},
   "outputs": [],
   "source": [
    "from keras.models import Sequential\n",
    "from keras.layers.core import Dense"
   ]
  },
  {
   "cell_type": "code",
   "execution_count": 6,
   "metadata": {},
   "outputs": [],
   "source": [
    "model = Sequential()\n",
    "model.add(Dense(10, input_shape=(5,),activation=\"sigmoid\"))\n",
    "model.add(Dense(20,activation=\"sigmoid\"))\n",
    "model.add(Dense(10,activation=\"softmax\"))\n",
    "# 영상에서는 tensorflow 버젼이 2.0 이라서 오류가 남\n",
    "# tensorflow 2.0 은 keras가 내장되어 있다."
   ]
  },
  {
   "cell_type": "markdown",
   "metadata": {},
   "source": [
    "tensorflow 와 keras 는 서로 다른 것이 아니다.<br>\n",
    "keras도 tensorflow 기반으로 제작이 되었다<br>\n",
    "tensorflow 2.0 버젼에서 부터는 keras가 내장이 되어 있으며 권장을 하고 있다. <br>\n",
    "운전으로 비유하면 <br>\n",
    "tensorflow 는 스틱이고 keras는 오토 인 개념<br>\n",
    "섬세한 것을 원하면 tensorflow를 사용하는 것"
   ]
  }
 ],
 "metadata": {
  "kernelspec": {
   "display_name": "Python 3",
   "language": "python",
   "name": "python3"
  },
  "language_info": {
   "codemirror_mode": {
    "name": "ipython",
    "version": 3
   },
   "file_extension": ".py",
   "mimetype": "text/x-python",
   "name": "python",
   "nbconvert_exporter": "python",
   "pygments_lexer": "ipython3",
   "version": "3.6.10"
  }
 },
 "nbformat": 4,
 "nbformat_minor": 4
}
